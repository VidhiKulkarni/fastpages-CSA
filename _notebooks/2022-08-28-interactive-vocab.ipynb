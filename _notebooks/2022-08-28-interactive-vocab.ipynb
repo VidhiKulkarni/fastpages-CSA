{
 "cells": [
  {
   "cell_type": "markdown",
   "metadata": {},
   "source": [
    "# Interactive Vocabulary\n",
    "> Will use this notebook in conjunction with notes/vocab pages, search, and tagging\n",
    "\n",
    "- toc: true\n",
    "- badges: true\n",
    "- comments: true\n",
    "- categories: [fastpages, jupyter, personalstudy]"
   ]
  },
  {
   "cell_type": "markdown",
   "metadata": {},
   "source": [
    "- primitive data types: lowercase\n",
    "    - boolean\n",
    "    - integers\n",
    "    - doubles\n",
    "    - float\n",
    "    - character\n",
    "\n",
    "- non primitive data types: uppercase\n",
    "    - wrapper class - string\n",
    "    - arrays"
   ]
  },
  {
   "cell_type": "code",
   "execution_count": null,
   "metadata": {},
   "outputs": [],
   "source": [
    "public class DefinePrimitives {\n",
    "    public static void main(String[] args) {\n",
    "      int anInt = 100;\n",
    "      double aDouble = 89.9;\n",
    "      boolean aBoolean = true;\n",
    "\n",
    "      // not primitives but essential\n",
    "      String aString = \"Hello, World!\";   // wrapper class shortcut assignment\n",
    "      String aStringFormal = new String(\"Greetings, World!\");\n",
    "  \n",
    "      System.out.println(\"anInt: \" + anInt);\n",
    "      System.out.println(\"aDouble: \" + aDouble);\n",
    "      System.out.println(\"aBoolean: \" + aBoolean);\n",
    "      System.out.println(\"aString: \" + aString);\n",
    "      System.out.println(\"aStringFormal: \" + aStringFormal);\n",
    "    }\n",
    "  }\n",
    "  DefinePrimitives.main(null)"
   ]
  }
 ],
 "metadata": {
  "kernelspec": {
   "display_name": "Python 3.8.10 64-bit",
   "language": "python",
   "name": "python3"
  },
  "language_info": {
   "name": "python",
   "version": "3.8.10"
  },
  "orig_nbformat": 4,
  "vscode": {
   "interpreter": {
    "hash": "916dbcbb3f70747c44a77c7bcd40155683ae19c65e1c03b4aa3499c5328201f1"
   }
  }
 },
 "nbformat": 4,
 "nbformat_minor": 2
}
