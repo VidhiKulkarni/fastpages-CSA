{
 "cells": [
  {
   "cell_type": "markdown",
   "metadata": {},
   "source": [
    "# AP CSA FRQ Practice \n",
    "> I will practice my FRQs here.\n",
    "\n",
    "- toc: true\n",
    "- badges: true\n",
    "- comments: true\n",
    "- categories: [fastpages, jupyter, personalstudy]"
   ]
  },
  {
   "cell_type": "markdown",
   "metadata": {},
   "source": [
    "## AP CSA 2021 FRQ"
   ]
  },
  {
   "cell_type": "markdown",
   "metadata": {},
   "source": [
    "This question involves the WordMatch class, which stores a secret string and provides methods that compare other strings to the secret string. You will write two methods in the WordMatch class. "
   ]
  },
  {
   "cell_type": "code",
   "execution_count": null,
   "metadata": {},
   "outputs": [],
   "source": [
    "public WordMatch{\n",
    "    /** The secret string. */ \n",
    "    private String secret; \n",
    "    /** Constructs a WordMatch object with the given secret string of lowercase letters. */ \n",
    "    public WordMatch(String word)\n",
    "    {\n",
    "        /* implementation not shown */\n",
    "        }\n",
    "        /** Returns a score for guess, as described in part (a).\n",
    "        * Precondition: 0 < guess.length() <= secret.length()\n",
    "        */\n",
    "        public int scoreGuess(String guess)\n",
    "        { /* to be implemented in part (a) */ }\n",
    "        /** Returns the better of two guesses, as determined by scoreGuess and the rules for a\n",
    "        * tie-breaker that are described in part (b).\n",
    "        * Precondition: guess1 and guess2 contain all lowercase letters.\n",
    "        * guess1 is not the same as guess2.\n",
    "        */\n",
    "        public String findBetterGuess(String guess1, String guess2)\n",
    "        { /* to be implemented in part (b) */ }\n",
    "        } "
   ]
  }
 ],
 "metadata": {
  "kernelspec": {
   "display_name": "Java",
   "language": "java",
   "name": "java"
  },
  "language_info": {
   "name": "java",
   "version": "3.8.10"
  },
  "orig_nbformat": 4,
  "vscode": {
   "interpreter": {
    "hash": "916dbcbb3f70747c44a77c7bcd40155683ae19c65e1c03b4aa3499c5328201f1"
   }
  }
 },
 "nbformat": 4,
 "nbformat_minor": 2
}
