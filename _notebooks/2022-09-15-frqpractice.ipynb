{
 "cells": [
  {
   "cell_type": "markdown",
   "metadata": {},
   "source": [
    "# AP CSA FRQ Practice \n",
    "> I will practice my FRQs here.\n",
    "\n",
    "- toc: true\n",
    "- badges: true\n",
    "- comments: true\n",
    "- categories: [fastpages, jupyter, personalstudy]"
   ]
  },
  {
   "cell_type": "markdown",
   "metadata": {},
   "source": [
    "## AP CSA 2019 FRQ"
   ]
  },
  {
   "cell_type": "markdown",
   "metadata": {},
   "source": [
    "The APCalendar class contains methods used to calculate information about a calendar. You will write two methods of the class."
   ]
  },
  {
   "cell_type": "code",
   "execution_count": null,
   "metadata": {},
   "outputs": [],
   "source": [
    "public class APCalendar\n",
    "{\n",
    " /** Returns true if year is a leap year and false otherwise. */\n",
    "    private static boolean isLeapYear(int year)\n",
    " { /* implementation not shown */ }\n",
    " /** Returns the number of leap years between year1 and year2, inclusive.\n",
    " * Precondition: 0 <= year1 <= year2\n",
    " */\n",
    "    public static int numberOfLeapYears(int year1, int year2)\n",
    " { /* to be implemented in part (a) */ }\n",
    " /** Returns the value representing the day of the week for the first day of year,\n",
    " * where 0 denotes Sunday, 1 denotes Monday, ..., and 6 denotes Saturday.\n",
    " */\n",
    "     private static int firstDayOfYear(int year)\n",
    " { /* implementation not shown */ }\n",
    " /** Returns n, where month, day, and year specify the nth day of the year.\n",
    " * Returns 1 for January 1 (month = 1, day = 1) of any year.\n",
    " * Precondition: The date represented by month, day, year is a valid date.\n",
    " */\n",
    "     private static int dayOfYear(int month, int day, int year)\n",
    " { /* implementation not shown */ }\n",
    " /** Returns the value representing the day of the week for the given date\n",
    " * (month, day, year), where 0 denotes Sunday, 1 denotes Monday, ...,\n",
    " * and 6 denotes Saturday.\n",
    " * Precondition: The date represented by month, day, year is a valid date.\n",
    " */\n",
    "    public static int dayOfWeek(int month, int day, int year)\n",
    " { /* to be implemented in part (b) */ }\n",
    " // There may be instance variables, constructors, and other methods not shown.\n",
    "} "
   ]
  },
  {
   "cell_type": "markdown",
   "metadata": {},
   "source": [
    "Write the static method numberOfLeapYears, which returns the number of leap years between\n",
    "year1 and year2, inclusive.\n",
    "\n",
    "\n",
    "In order to calculate this value, a helper method is provided for you.\n",
    "• isLeapYear(year) returns true if year is a leap year and false otherwise.\n",
    "\n",
    "\n",
    "Complete method numberOfLeapYears below. You must use isLeapYear appropriately to\n",
    "receive full credit.\n",
    "\n",
    "/** Returns the number of leap years between year1 and year2, inclusive.\n",
    " * Precondition: 0 <= year1 <= year2\n",
    " */\n",
    " \n",
    " public static int numberOfLeapYears(int year1, int year2) \n"
   ]
  },
  {
   "cell_type": "code",
   "execution_count": null,
   "metadata": {},
   "outputs": [],
   "source": [
    "public static int numberOfLeapYears(int year1, int year2){\n",
    "    int numyear = 0;\n",
    "        if(isLeapYear(int year)){ \n",
    "            numyear ++;\n",
    "        }\n",
    "    }\n",
    "    return numyear;"
   ]
  },
  {
   "cell_type": "markdown",
   "metadata": {},
   "source": [
    "I was a bit confused about how to go through each year and how to reference this when checking whether each year is a leap year."
   ]
  },
  {
   "cell_type": "markdown",
   "metadata": {},
   "source": [
    "Correct Answer:"
   ]
  },
  {
   "cell_type": "code",
   "execution_count": null,
   "metadata": {},
   "outputs": [],
   "source": [
    "public static int numberOfLeapYears(int year1, int year2)\n",
    "{\n",
    "    int count = 0;\n",
    "    for (int y = year1; y <= year2; y++)\n",
    "    {\n",
    "        if (isLeapYear(y))\n",
    "    {\n",
    "        count++;\n",
    "    }\n",
    "    }\n",
    "    return count;\n",
    "}"
   ]
  },
  {
   "cell_type": "markdown",
   "metadata": {},
   "source": [
    "Score: 3/5\n",
    "\n",
    "- Initialize numeric variable (numyear)\n",
    "- Loop through each necessary year in range \n",
    "- Calls isLeapYear on valid year in range\n",
    "- Update count based on result of isLeapYear\n",
    "- Return count of leap years"
   ]
  },
  {
   "cell_type": "markdown",
   "metadata": {},
   "source": [
    "Write the static method dayOfWeek, which returns the integer value representing the day of the week for\n",
    "the given date (month, day, year), where 0 denotes Sunday, 1 denotes Monday, ..., and 6\n",
    "denotes Saturday. For example, 2019 began on a Tuesday, and January 5 is the fifth day of 2019. As a result,\n",
    "January 5, 2019, fell on a Saturday, and the method call dayOfWeek(1, 5, 2019)\n",
    "returns 6."
   ]
  },
  {
   "cell_type": "code",
   "execution_count": null,
   "metadata": {},
   "outputs": [],
   "source": [
    "public static int dayOfWeek(int year, int day)\n",
    "{\n",
    " int countday1 = firstDayOfYear(year);\n",
    " int countDay = dayOfYear(month, day);\n",
    " int  = (countday1 + countDay) % 7;\n",
    "}"
   ]
  },
  {
   "cell_type": "markdown",
   "metadata": {},
   "source": [
    "Answer:"
   ]
  },
  {
   "cell_type": "code",
   "execution_count": null,
   "metadata": {},
   "outputs": [],
   "source": [
    "public static int dayOfWeek(int month, int day, int year)\n",
    "{\n",
    " int startDay = firstDayOfYear(year);\n",
    " int nthDay = dayOfYear(month, day, year);\n",
    " int returnDay = (startDay + nthDay - 1) % 7;\n",
    " return returnDay;\n",
    "}"
   ]
  },
  {
   "cell_type": "markdown",
   "metadata": {},
   "source": [
    "Score: 3/5\n",
    "\n",
    "Need to add integer for month number\n",
    "Need to return value\n",
    "Wrong calculations\n",
    "\n"
   ]
  }
 ],
 "metadata": {
  "kernelspec": {
   "display_name": "Java",
   "language": "java",
   "name": "java"
  },
  "language_info": {
   "name": "java",
   "version": "3.8.10"
  },
  "orig_nbformat": 4,
  "vscode": {
   "interpreter": {
    "hash": "916dbcbb3f70747c44a77c7bcd40155683ae19c65e1c03b4aa3499c5328201f1"
   }
  }
 },
 "nbformat": 4,
 "nbformat_minor": 2
}
