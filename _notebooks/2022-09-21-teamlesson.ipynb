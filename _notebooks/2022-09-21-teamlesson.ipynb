{
 "cells": [
  {
   "cell_type": "markdown",
   "metadata": {},
   "source": [
    "# Team Lesson\n",
    "> This is our team's lesson.\n",
    "\n",
    "- toc: true\n",
    "- badges: true\n",
    "- comments: true\n",
    "- categories: [fastpages, jupyter, hacks]"
   ]
  },
  {
   "cell_type": "markdown",
   "metadata": {},
   "source": [
    "## Primitives vs Non Primitives:\n",
    "\n",
    "- primitive data types: lowercase\n",
    "    - boolean\n",
    "    - integers\n",
    "    - doubles\n",
    "    - float\n",
    "    - character\n",
    "\n",
    "- non primitive data types: uppercase\n",
    "    - wrapper class - string\n",
    "    - arrays"
   ]
  },
  {
   "cell_type": "markdown",
   "metadata": {},
   "source": [
    "## If/Else Statements:\n",
    "The if/else statement executes a block of code if a specified condition is true. If the condition is false, another block of code can be executed."
   ]
  },
  {
   "cell_type": "code",
   "execution_count": null,
   "metadata": {
    "vscode": {
     "languageId": "java"
    }
   },
   "outputs": [],
   "source": [
    "int time = 20; //set variable\n",
    "if (time < 18) { //the program decides whether this is true or not\n",
    "  System.out.println(\"Good day.\"); //if it is then print this line\n",
    "} else {\n",
    "  System.out.println(\"Good evening.\"); //if it is not then print this\n",
    "}"
   ]
  },
  {
   "cell_type": "markdown",
   "metadata": {},
   "source": [
    "## De Morgan's Law:\n",
    "The complement of the union of two sets is the intersection of their complements and the complement of the intersection of two sets is the union of their complements.\n",
    "\n",
    "|| means \"or\" and the && means \"and\""
   ]
  },
  {
   "cell_type": "code",
   "execution_count": 1,
   "metadata": {
    "vscode": {
     "languageId": "java"
    }
   },
   "outputs": [
    {
     "name": "stdout",
     "output_type": "stream",
     "text": [
      "My favorite colors are blue and red\n"
     ]
    }
   ],
   "source": [
    "boolean blue = true;\n",
    "boolean red = true;\n",
    "\n",
    "if (!(blue && red)){\n",
    "    System.out.println(\"I do not like blue or red\");\n",
    "}\n",
    "else{\n",
    "    System.out.println(\"My favorite colors are blue and red\");\n",
    "}"
   ]
  },
  {
   "cell_type": "markdown",
   "metadata": {},
   "source": [
    "## Switch Case in Java:\n",
    "The switch statement is a multi-way branch statement. In simple words, the Java switch statement executes one statement from multiple conditions."
   ]
  },
  {
   "cell_type": "code",
   "execution_count": null,
   "metadata": {
    "vscode": {
     "languageId": "java"
    }
   },
   "outputs": [],
   "source": [
    "int x = 1; // the integer given in the variable is 20\n",
    "String output;\n",
    "switch (x) { \n",
    "    case 1:\n",
    "        output = x + \" > 0\";\n",
    "        break;\n",
    "    case 2:\n",
    "        output = x + \" > 2\";\n",
    "        break;\n",
    "    case 3:\n",
    "        output = x + \" > 3\";\n",
    "        break;\n",
    "    case 4:\n",
    "        output = x + \" > 4\";\n",
    "        break;\n",
    "}\n",
    "System.out.println(output)"
   ]
  }
 ],
 "metadata": {
  "kernelspec": {
   "display_name": "Java",
   "language": "java",
   "name": "java"
  },
  "language_info": {
   "codemirror_mode": "java",
   "file_extension": ".jshell",
   "mimetype": "text/x-java-source",
   "name": "Java",
   "pygments_lexer": "java",
   "version": "11.0.16+8-post-Ubuntu-0ubuntu120.04"
  },
  "orig_nbformat": 4,
  "vscode": {
   "interpreter": {
    "hash": "916dbcbb3f70747c44a77c7bcd40155683ae19c65e1c03b4aa3499c5328201f1"
   }
  }
 },
 "nbformat": 4,
 "nbformat_minor": 2
}
