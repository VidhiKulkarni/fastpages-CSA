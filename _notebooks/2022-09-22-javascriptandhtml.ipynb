{
 "cells": [
  {
   "cell_type": "markdown",
   "metadata": {},
   "source": [
    "# Javascript and HTML\n",
    "> Variables, Functions, Arrays, IJavaScript HTML, using Jupyter Notebooks\n",
    "\n",
    "- toc: true\n",
    "- badges: true\n",
    "- comments: true\n",
    "- categories: [fastpages, jupyter]"
   ]
  },
  {
   "cell_type": "markdown",
   "metadata": {},
   "source": [
    "Skill 1.B:Determine code that would be used to complete code segments (ie For, While, Recursion)\n",
    "\n",
    "Shown in each code segment below.\n",
    "\n",
    "Skill 4.C: Determine if two or more code segments yield equivalent results (be sure to Discuss how you know results are the same)\n",
    "\n",
    "The results are the same because the outputs are the same. We have just used different techniques.\n",
    "\n",
    "Skill 5.A: Describe the behavior of a given segment of program code (describe the difference in recursion versus for & while loops, perhaps add timing to determine speed)\n",
    "\n",
    "The time it takes for recursion is longer than while."
   ]
  },
  {
   "cell_type": "code",
   "execution_count": 18,
   "metadata": {},
   "outputs": [
    {
     "name": "stdout",
     "output_type": "stream",
     "text": [
      "Hello, World!\n"
     ]
    }
   ],
   "source": [
    "console.log(\"Hello, World!\");"
   ]
  },
  {
   "cell_type": "code",
   "execution_count": 19,
   "metadata": {},
   "outputs": [
    {
     "name": "stdout",
     "output_type": "stream",
     "text": [
      "Hello, World!\n"
     ]
    }
   ],
   "source": [
    "var msg = \"Hello, World!\";\n",
    "console.log(msg);"
   ]
  },
  {
   "cell_type": "code",
   "execution_count": 20,
   "metadata": {},
   "outputs": [
    {
     "name": "stdout",
     "output_type": "stream",
     "text": [
      "Hello, World!\n"
     ]
    }
   ],
   "source": [
    "function logIt(output) {\n",
    "    console.log(output);\n",
    "}\n",
    "logIt(msg);"
   ]
  },
  {
   "cell_type": "code",
   "execution_count": 21,
   "metadata": {},
   "outputs": [
    {
     "name": "stdout",
     "output_type": "stream",
     "text": [
      "Reuse!\n",
      "Hello, Students!\n",
      "2022\n"
     ]
    }
   ],
   "source": [
    "console.log(\"Reuse!\")\n",
    "logIt(\"Hello, Students!\");\n",
    "logIt(2022)"
   ]
  },
  {
   "cell_type": "markdown",
   "metadata": {},
   "source": [
    "## Scrum Master Data"
   ]
  },
  {
   "cell_type": "code",
   "execution_count": 10,
   "metadata": {},
   "outputs": [
    {
     "name": "stdout",
     "output_type": "stream",
     "text": [
      "object ; Person {\n",
      "  name: 'Vidhi Kulkarni',\n",
      "  ghID: '@VidhiKulkarni',\n",
      "  classOf: 2024,\n",
      "  role: 'Scrum Master'\n",
      "}\n",
      "string ; {\"name\":\"Vidhi Kulkarni\",\"ghID\":\"@VidhiKulkarni\",\"classOf\":2024,\"role\":\"Scrum Master\"}\n",
      "object ; Person {\n",
      "  name: 'Vidhi Kulkarni',\n",
      "  ghID: '@VidhiKulkarni',\n",
      "  classOf: 2024,\n",
      "  role: 'Scrum Master'\n",
      "}\n",
      "string ; {\"name\":\"Vidhi Kulkarni\",\"ghID\":\"@VidhiKulkarni\",\"classOf\":2024,\"role\":\"Scrum Master\"}\n"
     ]
    }
   ],
   "source": [
    "// define a function to hold data for a Person\n",
    "function Person(name, ghID, classOf) {\n",
    "    this.name = name;\n",
    "    this.ghID = ghID;\n",
    "    this.classOf = classOf;\n",
    "    this.role = \"Scrum Master\";\n",
    "}\n",
    "\n",
    "// define a setter for role in Person data\n",
    "Person.prototype.setRole = function(role) {\n",
    "    this.role = role;\n",
    "}\n",
    "\n",
    "// define a JSON conversion \"method\" associated with Person\n",
    "Person.prototype.toJSON = function() {\n",
    "    const obj = {name: this.name, ghID: this.ghID, classOf: this.classOf, role: this.role};\n",
    "    const json = JSON.stringify(obj);  // json/string is useful when passing data on internet\n",
    "    return json;\n",
    "}\n",
    "\n",
    "// make a new Person and assign to variable teacher\n",
    "var scrummaster = new Person(\"Vidhi Kulkarni\", \"@VidhiKulkarni\", 2024);  // object type is easy to work with in JavaScript\n",
    "logItType(scrummaster);  // before role\n",
    "logItType(scrummaster.toJSON());  // ok to do this even though role is not yet defined\n",
    "\n",
    "// output of Object and JSON/string associated with Teacher\n",
    "scrummaster.setRole(\"Scrum Master\");   // set the role\n",
    "logItType(scrummaster); \n",
    "logItType(scrummaster.toJSON());"
   ]
  },
  {
   "cell_type": "code",
   "execution_count": 16,
   "metadata": {},
   "outputs": [
    {
     "name": "stdout",
     "output_type": "stream",
     "text": [
      "object ; [\n",
      "  Person {\n",
      "    name: 'Vidhi Kulkarni',\n",
      "    ghID: '@VidhiKulkarni',\n",
      "    classOf: 2024,\n",
      "    role: 'Scrum Master'\n",
      "  },\n",
      "  Person {\n",
      "    name: 'William',\n",
      "    ghID: '@willcyber',\n",
      "    classOf: 2024,\n",
      "    role: 'Team Member'\n",
      "  },\n",
      "  Person {\n",
      "    name: 'Riya',\n",
      "    ghID: '@riya-patil',\n",
      "    classOf: 2024,\n",
      "    role: 'Team Member'\n",
      "  },\n",
      "  Person {\n",
      "    name: 'Lily',\n",
      "    ghID: '@lwu1822',\n",
      "    classOf: 2024,\n",
      "    role: 'Team Member'\n",
      "  }\n",
      "]\n",
      "string ; Vidhi Kulkarni\n",
      "string ; {\"name\":\"Vidhi Kulkarni\",\"ghID\":\"@VidhiKulkarni\",\"classOf\":2024,\"role\":\"Scrum Master\"}\n",
      "object ; {\n",
      "  name: 'Vidhi Kulkarni',\n",
      "  ghID: '@VidhiKulkarni',\n",
      "  classOf: 2024,\n",
      "  role: 'Scrum Master'\n",
      "}\n"
     ]
    }
   ],
   "source": [
    "// define a student Array of Person(s)\n",
    "var team = [ \n",
    "    new Person(\"William Wu\", \"@willcyber\", 2024),\n",
    "    new Person(\"Riya Patil\", \"@riya-patil\", 2024),\n",
    "    new Person(\"Lily Wu\", \"@lwu1822\", 2024),\n",
    "];\n",
    "\n",
    "// define a classroom and build Classroom objects and json\n",
    "function Classroom(scrummaster, team){ // 1 teacher, many student\n",
    "    // start Classroom with Teacher\n",
    "    scrummaster.setRole(\"Scrum Master\");\n",
    "    this.scrummaster = scrummaster;\n",
    "    this.classroom = [scrummaster];\n",
    "    // add each Student to Classroom\n",
    "    this.team = team;\n",
    "    this.team.forEach(team => { team.setRole(\"Team Member\"); this.classroom.push(team); });\n",
    "    // build json/string format of Classroom\n",
    "    this.json = [];\n",
    "    this.classroom.forEach(team => this.json.push(team.toJSON()));\n",
    "}\n",
    "\n",
    "// make a CompSci classroom from formerly defined teacher and students\n",
    "compsci = new Classroom(scrummaster, team);\n",
    "\n",
    "// output of Objects and JSON in CompSci classroom\n",
    "logItType(compsci.classroom);  // constructed classroom object\n",
    "logItType(compsci.classroom[0].name);  // abstract 1st objects name\n",
    "logItType(compsci.json[0]);  // show json conversion of 1st object to string\n",
    "logItType(JSON.parse(compsci.json[0]));  // show JSON.parse inverse of JSON.stringify"
   ]
  },
  {
   "cell_type": "markdown",
   "metadata": {},
   "source": [
    "## Team Page Screen"
   ]
  },
  {
   "cell_type": "code",
   "execution_count": 17,
   "metadata": {},
   "outputs": [
    {
     "data": {
      "text/html": [
       "<div style='display:inline-block;border: 2px solid grey;box-shadow: 0.8em 0.4em 0.4em grey;'><table><tr><th><mark>Name</mark></th><th><mark>GitHub ID</mark></th><th><mark>Class Of</mark></th><th><mark>Role</mark></th></tr><tr><td>Vidhi Kulkarni</td><td>@VidhiKulkarni</td><td>2024</td><td>Scrum Master</td><tr><tr><td>William</td><td>@willcyber</td><td>2024</td><td>Team Member</td><tr><tr><td>Riya</td><td>@riya-patil</td><td>2024</td><td>Team Member</td><tr><tr><td>Lily</td><td>@lwu1822</td><td>2024</td><td>Team Member</td><tr></table></div>"
      ]
     },
     "execution_count": 17,
     "metadata": {},
     "output_type": "execute_result"
    }
   ],
   "source": [
    "// define an HTML conversion \"method\" associated with Classroom\n",
    "Classroom.prototype._toHtml = function() {\n",
    "    // HTML Style is build using inline structure\n",
    "    var style = (\n",
    "      \"display:inline-block;\" +\n",
    "      \"border: 2px solid grey;\" +\n",
    "      \"box-shadow: 0.8em 0.4em 0.4em grey;\"\n",
    "    );\n",
    "  \n",
    "    // HTML Body of Table is build as a series of concatenations (+=)\n",
    "    var body = \"\";\n",
    "    // Heading for Array Columns\n",
    "    body += \"<tr>\";\n",
    "    body += \"<th><mark>\" + \"Name\" + \"</mark></th>\";\n",
    "    body += \"<th><mark>\" + \"GitHub ID\" + \"</mark></th>\";\n",
    "    body += \"<th><mark>\" + \"Class Of\" + \"</mark></th>\";\n",
    "    body += \"<th><mark>\" + \"Role\" + \"</mark></th>\";\n",
    "    body += \"</tr>\";\n",
    "    // Data of Array, iterate through each row of compsci.classroom \n",
    "    for (var row in compsci.classroom) {\n",
    "      // tr for each row, a new line\n",
    "      body += \"<tr>\";\n",
    "      // td for each column of data\n",
    "      body += \"<td>\" + compsci.classroom[row].name + \"</td>\";\n",
    "      body += \"<td>\" + compsci.classroom[row].ghID + \"</td>\";\n",
    "      body += \"<td>\" + compsci.classroom[row].classOf + \"</td>\";\n",
    "      body += \"<td>\" + compsci.classroom[row].role + \"</td>\";\n",
    "      // tr to end line\n",
    "      body += \"<tr>\";\n",
    "    }\n",
    "  \n",
    "     // Build and HTML fragment of div, table, table body\n",
    "    return (\n",
    "      \"<div style='\" + style + \"'>\" +\n",
    "        \"<table>\" +\n",
    "          body +\n",
    "        \"</table>\" +\n",
    "      \"</div>\"\n",
    "    );\n",
    "  \n",
    "  };\n",
    "  \n",
    "  // IJavaScript HTML processor receive parameter of defined HTML fragment\n",
    "  $$.html(compsci._toHtml());"
   ]
  }
 ],
 "metadata": {
  "kernelspec": {
   "display_name": "JavaScript (Node.js)",
   "language": "javascript",
   "name": "javascript"
  },
  "language_info": {
   "file_extension": ".js",
   "mimetype": "application/javascript",
   "name": "javascript",
   "version": "18.9.0"
  },
  "orig_nbformat": 4,
  "vscode": {
   "interpreter": {
    "hash": "916dbcbb3f70747c44a77c7bcd40155683ae19c65e1c03b4aa3499c5328201f1"
   }
  }
 },
 "nbformat": 4,
 "nbformat_minor": 2
}
