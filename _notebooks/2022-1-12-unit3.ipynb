{
 "cells": [
  {
   "cell_type": "markdown",
   "metadata": {},
   "source": [
    "# If/Else Lesson\n",
    "> Discussing what I learned from code.org this week.\n",
    "\n",
    "- toc: true\n",
    "- badges: true\n",
    "- comments: true\n",
    "- categories: [fastpages, hacks]"
   ]
  },
  {
   "cell_type": "markdown",
   "metadata": {},
   "source": [
    "## What is an if statement?\n",
    "\n",
    "An if statement is used to specify a block of Java code to be executed if a condition is true."
   ]
  },
  {
   "cell_type": "code",
   "execution_count": 1,
   "metadata": {},
   "outputs": [
    {
     "name": "stdout",
     "output_type": "stream",
     "text": [
      "5 is greater than 2\n"
     ]
    }
   ],
   "source": [
    "if (5 > 2) { //the program decides whether this is true or not\n",
    "    System.out.println(\"5 is greater than 2\"); //if it is then this line is printed\n",
    "  }"
   ]
  },
  {
   "cell_type": "markdown",
   "metadata": {},
   "source": [
    "## What is an if/else statement?\n"
   ]
  },
  {
   "cell_type": "markdown",
   "metadata": {},
   "source": [
    "The if/else statement executes a block of code if a specified condition is true. If the condition is false, another block of code can be executed."
   ]
  },
  {
   "cell_type": "code",
   "execution_count": 4,
   "metadata": {},
   "outputs": [
    {
     "name": "stdout",
     "output_type": "stream",
     "text": [
      "Good evening.\n"
     ]
    }
   ],
   "source": [
    "int time = 20; //set variable\n",
    "if (time < 18) { //the program decides whether this is true or not\n",
    "  System.out.println(\"Good day.\"); //if it is then print this line\n",
    "} else {\n",
    "  System.out.println(\"Good evening.\"); //if it is not then print this\n",
    "}"
   ]
  },
  {
   "cell_type": "markdown",
   "metadata": {},
   "source": [
    "## What is an If-else If-else Statement?"
   ]
  },
  {
   "cell_type": "code",
   "execution_count": 5,
   "metadata": {},
   "outputs": [
    {
     "name": "stdout",
     "output_type": "stream",
     "text": [
      "Good evening.\n"
     ]
    }
   ],
   "source": [
    "int time = 22;\n",
    "if (time < 10) { //the program decides whether this is true or not\n",
    "  System.out.println(\"Good morning.\"); //if it is then print this line\n",
    "} else if (time < 20) { //if it is not true, then check if this is true\n",
    "  System.out.println(\"Good day.\"); //if it is then print this line\n",
    "} else {\n",
    "  System.out.println(\"Good evening.\"); //or else print this line\n",
    "}"
   ]
  },
  {
   "cell_type": "markdown",
   "metadata": {},
   "source": [
    "## 5 If-Else Statements"
   ]
  },
  {
   "cell_type": "markdown",
   "metadata": {},
   "source": [
    "Each "
   ]
  },
  {
   "cell_type": "code",
   "execution_count": 25,
   "metadata": {},
   "outputs": [
    {
     "name": "stdout",
     "output_type": "stream",
     "text": [
      "5 is greater than 3\n"
     ]
    }
   ],
   "source": [
    "if (5 > 3) {\n",
    "    System.out.println(\"5 is greater than 3\");\n",
    "  }\n",
    "  else if(5 < 3) {\n",
    "    System.out.println(\"5 is less than 3\");\n",
    "  }\n",
    "  else if (6 > 7) {\n",
    "    System.out.println(\"6 is greater than 7\");\n",
    "  }\n",
    "  else if (10 < 7) {\n",
    "    System.out.println(\"10 is less than 7\");\n",
    "  }\n",
    "  else {\n",
    "    System.out.println(\"Invalid\");\n",
    "  }"
   ]
  },
  {
   "cell_type": "markdown",
   "metadata": {},
   "source": [
    "## What is a Switch Case Program in Java?"
   ]
  },
  {
   "cell_type": "markdown",
   "metadata": {},
   "source": [
    "The switch statement is a multi-way branch statement. In simple words, the Java switch statement executes one statement from multiple conditions."
   ]
  },
  {
   "cell_type": "code",
   "execution_count": 18,
   "metadata": {},
   "outputs": [
    {
     "name": "stdout",
     "output_type": "stream",
     "text": [
      "1 > 0\n"
     ]
    }
   ],
   "source": [
    "int x = 1; // the integer given in the variable is 20\n",
    "String output;\n",
    "switch (x) { \n",
    "    case 1:\n",
    "        output = x + \" > 0\";\n",
    "        break;\n",
    "    case 2:\n",
    "        output = x + \" > 2\";\n",
    "        break;\n",
    "    case 3:\n",
    "        output = x + \" > 3\";\n",
    "        break;\n",
    "    case 4:\n",
    "        output = x + \" > 4\";\n",
    "        break;\n",
    "}\n",
    "System.out.println(output)"
   ]
  },
  {
   "cell_type": "markdown",
   "metadata": {},
   "source": [
    "## De Morgan's Law"
   ]
  },
  {
   "cell_type": "markdown",
   "metadata": {},
   "source": [
    "The complement of the union of two sets is the intersection of their complements and the complement of the intersection of two sets is the union of their complements.\n",
    "\n",
    "|| means \"or\" and the && means \"and\""
   ]
  },
  {
   "cell_type": "code",
   "execution_count": 15,
   "metadata": {},
   "outputs": [
    {
     "name": "stdout",
     "output_type": "stream",
     "text": [
      "My favorite colors are blue and red\n"
     ]
    }
   ],
   "source": [
    "boolean blue = true;\n",
    "boolean red = true;\n",
    "\n",
    "if (!(blue && red)){\n",
    "    System.out.println(\"I do not like blue or red\");\n",
    "}\n",
    "else{\n",
    "    System.out.println(\"My favorite colors are blue and red\");\n",
    "}"
   ]
  },
  {
   "cell_type": "code",
   "execution_count": 16,
   "metadata": {},
   "outputs": [
    {
     "name": "stdout",
     "output_type": "stream",
     "text": [
      "My favorite colors are red and blue\n"
     ]
    }
   ],
   "source": [
    "if (!blue || !red){\n",
    "    System.out.println(\"I do not like red or blue\");\n",
    "}\n",
    "else{\n",
    "    System.out.println(\"My favorite colors are red and blue\");\n",
    "}"
   ]
  },
  {
   "cell_type": "markdown",
   "metadata": {},
   "source": [
    "## Random Math Class"
   ]
  },
  {
   "cell_type": "markdown",
   "metadata": {},
   "source": [
    "The random math class allows you to generate random numbers throughout your code. You can specify certain ranges where you would like the number to be in."
   ]
  },
  {
   "cell_type": "code",
   "execution_count": 4,
   "metadata": {},
   "outputs": [],
   "source": [
    "// Java program to demonstrate working\n",
    "// of java.lang.Math.random() method\n",
    "import java.lang.Math;\n",
    " \n",
    "class Gfg1 {\n",
    " \n",
    "    // driver code\n",
    "    public static void main(String args[])\n",
    "    {\n",
    "        // Generate random number\n",
    "        double rand = Math.random();\n",
    " \n",
    "        // Output is different everytime this code is executed\n",
    "        System.out.println(\"Random Number:\" + rand);\n",
    "    }\n",
    "}"
   ]
  },
  {
   "cell_type": "markdown",
   "metadata": {},
   "source": [
    "## Compound Boolean Expressions"
   ]
  },
  {
   "cell_type": "markdown",
   "metadata": {},
   "source": [
    "If two boolean values/expressions are combined with a logical and (&&) and the first expression is false, then the second expression won't be executed."
   ]
  },
  {
   "cell_type": "code",
   "execution_count": null,
   "metadata": {},
   "outputs": [],
   "source": [
    "public class Test2\n",
    "{\n",
    "   public static void main(String[] args)\n",
    "   {\n",
    "     boolean walking = false;\n",
    "     boolean carIsAvailable = false;\n",
    "     if (walking || carIsAvailable)\n",
    "     {\n",
    "        System.out.println(\"You can go out\");\n",
    "     }\n",
    "     else\n",
    "     {\n",
    "       System.out.println(\"No, you can't go out\");\n",
    "     }\n",
    "   }\n",
    "}"
   ]
  },
  {
   "cell_type": "markdown",
   "metadata": {},
   "source": [
    "## Truth Table"
   ]
  },
  {
   "cell_type": "markdown",
   "metadata": {},
   "source": [
    "shows how the truth or falsity of a compound statement depends on the truth or falsity of the simple statements from which it's constructed"
   ]
  },
  {
   "cell_type": "markdown",
   "metadata": {},
   "source": [
    "first case printed when x = 3 and y = 9"
   ]
  },
  {
   "cell_type": "code",
   "execution_count": null,
   "metadata": {},
   "outputs": [],
   "source": [
    "if (x > 0 && (y / x) == 3)\n",
    "{\n",
    "   System.out.println(\"first case\");\n",
    "}\n",
    "else\n",
    "{\n",
    "   System.out.println(\"second case\");\n",
    "}"
   ]
  },
  {
   "cell_type": "markdown",
   "metadata": {},
   "source": [
    "## Comparing Numbers"
   ]
  },
  {
   "cell_type": "markdown",
   "metadata": {
    "vscode": {
     "languageId": "java"
    }
   },
   "source": [
    "To check two numbers for equality in Java, we can use the Equals() method as well as the == operator."
   ]
  },
  {
   "cell_type": "code",
   "execution_count": null,
   "metadata": {},
   "outputs": [],
   "source": [
    "Integer val1 = new Integer(5);\n",
    "Integer val2 = new Integer(5);\n",
    "(val1 == val2)"
   ]
  },
  {
   "cell_type": "code",
   "execution_count": null,
   "metadata": {},
   "outputs": [],
   "source": [
    "public class Demo {\n",
    "    public static void main( String args[] ) {\n",
    "       Integer val1 = new Integer(5);\n",
    "       Integer val2 = new Integer(5);\n",
    "       Integer val3 = new Integer(10);\n",
    "       System.out.println(\"Integer 1 = \"+val1);\n",
    "       System.out.println(\"Integer 2 = \"+val2);\n",
    "       System.out.println(\"Integer 3 = \"+val3);\n",
    "       System.out.println(\"val1 is equal to val2 = \"+(val1 == val2));\n",
    "       System.out.println(\"val2 is not equal to val3 = \"+(val2 != val3));\n",
    "    }\n",
    " }"
   ]
  },
  {
   "cell_type": "markdown",
   "metadata": {},
   "source": [
    "## Comparing Strings\n",
    "\n",
    "Many ways to compare strings, one way is to use: String.equalsIgnoreCase() "
   ]
  },
  {
   "cell_type": "code",
   "execution_count": null,
   "metadata": {},
   "outputs": [],
   "source": [
    "// Java program to Compare two strings\n",
    "// lexicographically\n",
    "public class GFG {\n",
    "\tpublic static void main(String args[])\n",
    "\t{\n",
    "\t\tString string1 = new String(\"Geeksforgeeks\");\n",
    "\t\tString string2 = new String(\"Practice\");\n",
    "\t\tString string3 = new String(\"Geeks\");\n",
    "\t\tString string4 = new String(\"Geeks\");\n",
    "\t\tString string5 = new String(\"geeks\");\n",
    "\n",
    "\t\t// Comparing for String 1 != String 2\n",
    "\t\tSystem.out.println(\"Comparing \" + string1 + \" and \" + string2\n",
    "\t\t\t\t\t\t+ \" : \" + string1.equalsIgnoreCase(string2));\n",
    "\n",
    "\t\t// Comparing for String 3 = String 4\n",
    "\t\tSystem.out.println(\"Comparing \" + string3 + \" and \" + string4\n",
    "\t\t\t\t\t\t+ \" : \" + string3.equalsIgnoreCase(string4));\n",
    "\n",
    "\t\t// Comparing for String 4 = String 5\n",
    "\t\tSystem.out.println(\"Comparing \" + string4 + \" and \" + string5\n",
    "\t\t\t\t\t\t+ \" : \" + string4.equalsIgnoreCase(string5));\n",
    "\n",
    "\t\t// Comparing for String 1 != String 4\n",
    "\t\tSystem.out.println(\"Comparing \" + string1 + \" and \" + string4\n",
    "\t\t\t\t\t\t+ \" : \" + string1.equalsIgnoreCase(string4));\n",
    "\t}\n",
    "}\n"
   ]
  },
  {
   "cell_type": "markdown",
   "metadata": {},
   "source": [
    "## Comparing Objects\n",
    "We can use == and != operators in order to compare objects."
   ]
  },
  {
   "cell_type": "code",
   "execution_count": null,
   "metadata": {},
   "outputs": [],
   "source": [
    "assertThat(1 == 1).isTrue();\n",
    "Integer a = new Integer(1);\n",
    "assertThat(1 == a).isTrue();"
   ]
  },
  {
   "cell_type": "markdown",
   "metadata": {},
   "source": []
  }
 ],
 "metadata": {
  "kernelspec": {
   "display_name": "Java",
   "language": "java",
   "name": "java"
  },
  "language_info": {
   "codemirror_mode": "java",
   "file_extension": ".jshell",
   "mimetype": "text/x-java-source",
   "name": "java",
   "pygments_lexer": "java",
   "version": "17.0.5+8-Ubuntu-2ubuntu120.04"
  },
  "orig_nbformat": 4
 },
 "nbformat": 4,
 "nbformat_minor": 2
}
