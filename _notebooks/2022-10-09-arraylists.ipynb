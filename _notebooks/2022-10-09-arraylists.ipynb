{
 "cells": [
  {
   "cell_type": "markdown",
   "metadata": {},
   "source": [
    "# Array List\n",
    "> Array lists\n",
    "\n",
    "- toc: true\n",
    "- badges: true\n",
    "- comments: true\n",
    "- categories: [fastpages, jupyter]"
   ]
  },
  {
   "cell_type": "code",
   "execution_count": 4,
   "metadata": {
    "vscode": {
     "languageId": "java"
    }
   },
   "outputs": [
    {
     "name": "stdout",
     "output_type": "stream",
     "text": [
      "Vidhi\tKulkarni\tScrum Master\t11\tvidhi@gmail.com\n",
      "Riya\tPatil\tFrontend\t11\triya@gmail.com\n",
      "Lily\tWu\tDevOps\t11\tlily@gmail.com\n",
      "William\tWu\tBackend Developer\t11\twilliam@gmail.com \n"
     ]
    }
   ],
   "source": [
    "import java.util.ArrayList;\n",
    "import java.util.Collections;\n",
    "import java.util.List;\n",
    "\n",
    "public class Member{\n",
    "    private String firstname;\n",
    "    private String lastname;\n",
    "    private String role;\n",
    "    private int grade;\n",
    "    private String email;\n",
    "\n",
    "    public Member(String firstname, String lastname, String role, int grade, String email){\n",
    "        this.firstname = firstname;\n",
    "        this.lastname = lastname;\n",
    "        this.role = role;\n",
    "        this.grade = grade;\n",
    "        this.email = email;\n",
    "    }\n",
    "\n",
    "    public String toString() {\n",
    "        return String.format(\"%s\\t%s\\t%s\\t%d\\t%s\", firstname, lastname, role, grade, email);\n",
    "    }\n",
    "\n",
    "    public static void main(String[] args){\n",
    "        List<Member> listMembers = new ArrayList<Member>();\n",
    "\n",
    "        listMembers.add(new Member(\"Vidhi\", \"Kulkarni\", \"Scrum Master\", 11, \"vidhi@gmail.com\"));\n",
    "        listMembers.add(new Member(\"Riya\", \"Patil\", \"Frontend\", 11, \"riya@gmail.com\"));\n",
    "        listMembers.add(new Member(\"Lily\", \"Wu\", \"DevOps\", 11, \"lily@gmail.com\"));\n",
    "        listMembers.add(new Member(\"William\", \"Wu\", \"Backend Developer\", 11, \"william@gmail.com \"));\n",
    "        \n",
    "\n",
    "        for (Member n : listMembers){\n",
    "            System.out.println(n);\n",
    "        }\n",
    "    }\n",
    "}\n",
    "\n",
    "Member.main(null);"
   ]
  }
 ],
 "metadata": {
  "kernelspec": {
   "display_name": "Java",
   "language": "java",
   "name": "java"
  },
  "language_info": {
   "codemirror_mode": "java",
   "file_extension": ".jshell",
   "mimetype": "text/x-java-source",
   "name": "Java",
   "pygments_lexer": "java",
   "version": "11.0.16+8-post-Ubuntu-0ubuntu120.04"
  },
  "orig_nbformat": 4
 },
 "nbformat": 4,
 "nbformat_minor": 2
}
