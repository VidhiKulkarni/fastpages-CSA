{
 "cells": [
  {
   "cell_type": "markdown",
   "metadata": {},
   "source": [
    "# Unit 1 Homework\n",
    "> Unit 1 FRQ and Final Grade Calculator\n",
    "\n",
    "- toc: true\n",
    "- badges: true\n",
    "- comments: true\n",
    "- categories: [fastpages, jupyter]"
   ]
  },
  {
   "cell_type": "markdown",
   "metadata": {},
   "source": [
    "Notes:\n",
    "Byte: minimum value of -128 and maximum value of 127 (inclusive). It is useful for saving memory in large arrays\n",
    "Short: Minimum value of -32,768 and maximum value of 32,767. Same purpose as Byte\n",
    "Int: Any integer or whole number\n",
    "Long: Greater range than int\n",
    "Float: floating point numbers that tend to have decimals\n",
    "Double: not good for precise data\n",
    "Boolean: logic that evaluates whether a condition is true or false\n",
    "Char"
   ]
  },
  {
   "cell_type": "markdown",
   "metadata": {},
   "source": [
    "Part A"
   ]
  },
  {
   "cell_type": "code",
   "execution_count": null,
   "metadata": {},
   "outputs": [],
   "source": [
    "# Class Definition\n",
    "public DownloadInfo getDownloadInfo(String title) { \n",
    "    for (DownloadInfo info : downloadList){\n",
    "    if (info.getTitle().equals(title)){\n",
    "     return info;\n",
    "     }\n",
    "    }\n",
    "    return null; // method inside the class\n",
    "    }"
   ]
  },
  {
   "cell_type": "markdown",
   "metadata": {},
   "source": [
    "Part B"
   ]
  },
  {
   "cell_type": "code",
   "execution_count": null,
   "metadata": {},
   "outputs": [],
   "source": [
    "public void updateDownloads(List<String> titles) {\n",
    "    for (String title : titles) {\n",
    "    DownloadInfo foundInfo = getDownloadInfo(title); // calls method\n",
    "    if (foundInfo == null){\n",
    "    downloadList.add(new DownloadInfo(title)); // makes new object\n",
    "    }\n",
    "    else {\n",
    "    foundInfo.incrementTimesDownloaded();\n",
    "    }\n",
    "    }\n",
    "   }"
   ]
  },
  {
   "cell_type": "markdown",
   "metadata": {},
   "source": [
    "## Final Grade Calculator"
   ]
  },
  {
   "cell_type": "code",
   "execution_count": 1,
   "metadata": {},
   "outputs": [
    {
     "name": "stdout",
     "output_type": "stream",
     "text": [
      "Is the final in a seperate category? True to False\n",
      "Final in a seperate category is true\n",
      "What is your current grade rn?\n",
      "82.0\n",
      "What is % of grade that is final?\n",
      "20.0%\n",
      "What is your desired grade?\n",
      "86.0\n",
      "You need a 101.99999999999996 on your final\n"
     ]
    }
   ],
   "source": [
    "// java style to import library\n",
    "import java.util.Scanner;\n",
    "\n",
    "// class must alway have 1st letter as uppercase, CamelCase is Java Class convention\n",
    "public class ScanPrimitives {\n",
    "    public static void main(String[] args) {    \n",
    "        Scanner myObj = new Scanner(System.in);  // Create a Scanner object\n",
    "        System.out.println(\"Is the final in a seperate category? True to False\");\n",
    "\n",
    "        boolean tof = myObj.nextBoolean();  // Read user input\n",
    "        System.out.println(\"Final in a seperate category is \" + tof);  // Output user input\n",
    "\n",
    "        if (tof) {\n",
    "            System.out.println(\"What is your current grade rn?\");\n",
    "            double grade = myObj.nextDouble();\n",
    "            System.out.println(grade);\n",
    "\n",
    "            System.out.println(\"What is % of grade that is final?\");\n",
    "            double percent = myObj.nextDouble();\n",
    "            System.out.println(percent + \"%\");\n",
    "\n",
    "            System.out.println(\"What is your desired grade?\");\n",
    "            double desired = myObj.nextDouble();\n",
    "            System.out.println(desired);\n",
    "\n",
    "            double output = (desired - (grade * ((100-percent)/100)))/(percent/100);\n",
    "            System.out.println(\"You need a \" + output + \" on your final\");\n",
    "        }\n",
    "        else {\n",
    "            System.out.println(\"What is your current grade rn?\");\n",
    "            double grade = myObj.nextDouble();\n",
    "            System.out.println(grade);\n",
    "\n",
    "            System.out.println(\"What is the % of grade that is test category?\");\n",
    "            double percent = myObj.nextDouble();\n",
    "            System.out.println(percent + \"%\");\n",
    "\n",
    "            System.out.println(\"What is current % in tests category?\");\n",
    "            double currentpercent = myObj.nextDouble();\n",
    "            System.out.println(currentpercent + \"%\");\n",
    "\n",
    "            System.out.println(\"What is the current amount of points in the test category?\");\n",
    "            int currentpts = myObj.nextInt();\n",
    "            System.out.println(currentpts);\n",
    "\n",
    "            System.out.println(\"How many pts is the final?\");\n",
    "            int pts = myObj.nextInt();\n",
    "            System.out.println(pts);\n",
    "\n",
    "            System.out.println(\"What is your desired grade?\");\n",
    "            double desired = myObj.nextDouble();\n",
    "            System.out.println(desired);\n",
    "\n",
    "            // double output = (desired - ((grade * currentpercent)*((100 - percent)  / 100)))/((currentpts + pts)/(percent / 100))- currentpts;\n",
    "            double output = ((desired - grade+currentpercent)*(currentpts+pts)-currentpts*currentpercent)/100;\n",
    "            System.out.println(\"You need \" + output + \" pts on your final\");\n",
    "        }\n",
    "    \n",
    "    \n",
    "}\n",
    "\n",
    "}\n",
    "ScanPrimitives.main(null);"
   ]
  },
  {
   "cell_type": "markdown",
   "metadata": {},
   "source": [
    "## Java Casting"
   ]
  },
  {
   "cell_type": "markdown",
   "metadata": {},
   "source": [
    "Type casting is when you assign a value of one primitive data type to another type."
   ]
  },
  {
   "cell_type": "markdown",
   "metadata": {},
   "source": [
    "### Widening Casting\n",
    "\n",
    "Widening casting is done automatically when passing a smaller size type to a larger size type:"
   ]
  },
  {
   "cell_type": "code",
   "execution_count": null,
   "metadata": {},
   "outputs": [],
   "source": [
    "public class Main {\n",
    "    public static void main(String[] args) {\n",
    "      int myInt = 9;\n",
    "      double myDouble = myInt; // Automatic casting: int to double\n",
    "  \n",
    "      System.out.println(myInt);      // Outputs 9\n",
    "      System.out.println(myDouble);   // Outputs 9.0\n",
    "    }\n",
    "  }"
   ]
  },
  {
   "cell_type": "markdown",
   "metadata": {},
   "source": [
    "### Narrowing Casting\n",
    "\n",
    "Narrowing casting must be done manually by placing the type in parentheses in front of the value"
   ]
  },
  {
   "cell_type": "code",
   "execution_count": null,
   "metadata": {},
   "outputs": [],
   "source": [
    "public class Main {\n",
    "    public static void main(String[] args) {\n",
    "      double myDouble = 9.78d;\n",
    "      int myInt = (int) myDouble; // Manual casting: double to int\n",
    "  \n",
    "      System.out.println(myDouble);   // Outputs 9.78\n",
    "      System.out.println(myInt);      // Outputs 9\n",
    "    }\n",
    "  }"
   ]
  },
  {
   "cell_type": "markdown",
   "metadata": {},
   "source": [
    "### Casting Truncate\n",
    "Truncating a number removes the fractional part. This functionality is not the same as Math.floor, ceil or round—they affect negative or positive values in a different way."
   ]
  },
  {
   "cell_type": "code",
   "execution_count": 1,
   "metadata": {},
   "outputs": [],
   "source": [
    "import java.lang.Math;\n",
    "\n",
    "public class Program {\n",
    "    public static void main(String[] args) {\n",
    "        double test1 = 1.234;\n",
    "        double test2 = -1.567;\n",
    "        \n",
    "        // ... Math.floor will always go towards negative infinity.\n",
    "        System.out.println(Math.floor(test1));\n",
    "        System.out.println(Math.floor(test2));\n",
    "        \n",
    "        // ... Math.round may go towards negative or positive infinity.\n",
    "        System.out.println(Math.round(test1));\n",
    "        System.out.println(Math.round(test2));\n",
    "        \n",
    "        // ... Casting to int will remove the fractional part.\n",
    "        // This truncates the number.\n",
    "        System.out.println((int) test1);\n",
    "        System.out.println((int) test2);\n",
    "    }\n",
    "}"
   ]
  },
  {
   "cell_type": "markdown",
   "metadata": {},
   "source": [
    "### Casting Rounding\n",
    "Rounding rounds a number to the nearest whole number."
   ]
  },
  {
   "cell_type": "code",
   "execution_count": null,
   "metadata": {},
   "outputs": [],
   "source": [
    "double d=99.99999999; // Rounds 99 to 100\n",
    "System.out.println( Math.round(d));"
   ]
  },
  {
   "cell_type": "markdown",
   "metadata": {},
   "source": [
    "## Casting Division"
   ]
  },
  {
   "cell_type": "markdown",
   "metadata": {},
   "source": [
    "If we divide two integers, even if we are setting them to a double, we will always be returned an integer."
   ]
  },
  {
   "cell_type": "code",
   "execution_count": null,
   "metadata": {},
   "outputs": [],
   "source": [
    "int currResidents = 50;\n",
    "int floorTotal = 56;\n",
    "\n",
    "double average = floorTotal / currResidents;\n",
    "// 'average' will return the value '1'"
   ]
  },
  {
   "cell_type": "markdown",
   "metadata": {},
   "source": [
    "## Concatenation"
   ]
  },
  {
   "cell_type": "markdown",
   "metadata": {
    "vscode": {
     "languageId": "java"
    }
   },
   "source": [
    "Concatenation\n",
    "\n",
    "(+) or +=\n",
    "\n",
    "Joining of data\n",
    "\n",
    "String concatenation\n",
    "\n",
    "Primitive concatenation with strings (automatically convert primitives to String objects)\n",
    "\n",
    "String + object concatenation (will call object's toString() method)"
   ]
  },
  {
   "cell_type": "markdown",
   "metadata": {},
   "source": [
    "## Late Binding of Object\n",
    "\n",
    "An object is late bound when it is assigned to a variable declared to be of type Object. Objects of this type can hold references to any object, but lack many of the advantages of early-bound objects."
   ]
  },
  {
   "cell_type": "markdown",
   "metadata": {},
   "source": [
    "## "
   ]
  },
  {
   "cell_type": "markdown",
   "metadata": {},
   "source": [
    "## Referencing Superclass Objects \n",
    "\n",
    "A reference variable of a superclass can be used to a refer any subclass object derived from that superclass. If the methods are present in SuperClass, but overridden by SubClass, it will be the overridden method that will be executed."
   ]
  },
  {
   "cell_type": "code",
   "execution_count": null,
   "metadata": {},
   "outputs": [],
   "source": [
    "Animal a = new Chicken(); \n",
    "\n",
    "Animal b = new Goat();\n"
   ]
  },
  {
   "cell_type": "markdown",
   "metadata": {},
   "source": [
    "## Main Method\n",
    "\n",
    "The main method is used to test a class, is automatically called when class ran\n",
    "\n",
    "\n",
    "Usually creates an object and can test methods"
   ]
  },
  {
   "cell_type": "code",
   "execution_count": null,
   "metadata": {},
   "outputs": [],
   "source": [
    "class MyClass {\n",
    "    // main method\n",
    "    public static void main (String[] args) {\n",
    "      MyClass obj = new MyClass();\n",
    "    }\n",
    "  }\n",
    "  \n",
    "  MyClass.main(null);"
   ]
  },
  {
   "cell_type": "markdown",
   "metadata": {},
   "source": [
    "## Tester Method\n",
    "\n",
    "Allows you to run or test main method"
   ]
  },
  {
   "cell_type": "markdown",
   "metadata": {},
   "source": [
    "## Overriding a Method\n",
    "\n",
    "The ability of a subclass to override a method allows a class to inherit from a superclass whose behavior is \"close enough\" and then to modify behavior as needed. The overriding method has the same name, number and type of parameters, and return type as the method that it overrides."
   ]
  },
  {
   "cell_type": "markdown",
   "metadata": {},
   "source": [
    "## Overloading a Method\n",
    "\n",
    "Overloading happens when you have two methods with the same name but different signatures (or arguments). In a class we can implement two or more methods with the same name. Overloaded methods are differentiated based on the number and type of parameter passed as arguments to the methods."
   ]
  },
  {
   "cell_type": "markdown",
   "metadata": {},
   "source": [
    "## Inheritance/Extends\n",
    "\n",
    "extends a class (indicates that a class is inherited from another class)\n",
    "inherit attributes and methods from one class to another\n"
   ]
  },
  {
   "cell_type": "code",
   "execution_count": null,
   "metadata": {},
   "outputs": [],
   "source": [
    "public class PainterPlus extends Painter {"
   ]
  },
  {
   "cell_type": "markdown",
   "metadata": {},
   "source": [
    "## Abstract Class and Abstract Method\n",
    "\n",
    "Abstract Class in Java does the process of hiding the intricate code implementation details from the user and just provides the user with the necessary information.\n",
    "\n",
    "Abstract method: can only be used in an abstract class, and it does not have a body. The body is provided by the subclass (inherited from)."
   ]
  },
  {
   "cell_type": "code",
   "execution_count": null,
   "metadata": {},
   "outputs": [],
   "source": [
    "// Abstract class\n",
    "abstract class Animal {\n",
    "  // Abstract method (does not have a body)\n",
    "  public abstract void animalSound();\n",
    "  // Regular method\n",
    "  public void sleep() {\n",
    "    System.out.println(\"Zzz\");\n",
    "  }\n",
    "}\n",
    "\n",
    "// Subclass (inherit from Animal)\n",
    "class Pig extends Animal {\n",
    "  public void animalSound() {\n",
    "    // The body of animalSound() is provided here\n",
    "    System.out.println(\"The pig says: wee wee\");\n",
    "  }\n",
    "}\n",
    "\n",
    "class Main {\n",
    "  public static void main(String[] args) {\n",
    "    Pig myPig = new Pig(); // Create a Pig object\n",
    "    myPig.animalSound();\n",
    "    myPig.sleep();\n",
    "  }\n",
    "}"
   ]
  },
  {
   "cell_type": "markdown",
   "metadata": {},
   "source": [
    "## Static and Class Variables\n",
    "\n",
    "All variables which are assigned a value in the class declaration are class variables.\n",
    "\n",
    "Static variables are allocated memory ones when the object for the class is created for the first time.\n",
    "Static variables are created outside of methods but inside a class\n",
    "Static variables can be accessed through a class but not directly with a instance.\n",
    "Static variables behavior doesn’t change for every object."
   ]
  },
  {
   "cell_type": "code",
   "execution_count": null,
   "metadata": {},
   "outputs": [],
   "source": [
    "# Python program to show that the variables with a value \n",
    "# assigned in class declaration, are class variables\n",
    "  \n",
    "# Class for Computer Science Student\n",
    "class CSStudent:\n",
    "    stream = 'cse'                  # Class Variable\n",
    "    def __init__(self,name,roll):\n",
    "        self.name = name            # Instance Variable\n",
    "        self.roll = roll            # Instance Variable\n",
    "  \n",
    "# Objects of CSStudent class\n",
    "a = CSStudent('Geek', 1)\n",
    "b = CSStudent('Nerd', 2)\n",
    "  \n",
    "print(a.stream)  # prints \"cse\"\n",
    "print(b.stream)  # prints \"cse\"\n",
    "print(a.name)    # prints \"Geek\"\n",
    "print(b.name)    # prints \"Nerd\"\n",
    "print(a.roll)    # prints \"1\"\n",
    "print(b.roll)    # prints \"2\"\n",
    "  \n",
    "# Class variables can be accessed using class\n",
    "# name also\n",
    "print(CSStudent.stream) # prints \"cse\"\n",
    "  \n",
    "# Now if we change the stream for just a it won't be changed for b\n",
    "a.stream = 'ece'\n",
    "print(a.stream) # prints 'ece'\n",
    "print(b.stream) # prints 'cse'\n",
    "  \n",
    "# To change the stream for all instances of the class we can change it \n",
    "# directly from the class\n",
    "CSStudent.stream = 'mech'\n",
    "  \n",
    "print(a.stream) # prints 'ece'\n",
    "print(b.stream) # prints 'mech'"
   ]
  },
  {
   "cell_type": "markdown",
   "metadata": {},
   "source": [
    "## Static Method and Class Method\n",
    "\n",
    "Static methods/properties\n",
    "Static properties and methods are part of the class rather than each object\n",
    "Static methods do not require an object, and static properties only have one instance that is the same for all objects"
   ]
  },
  {
   "cell_type": "code",
   "execution_count": null,
   "metadata": {},
   "outputs": [],
   "source": [
    "class MyClass {\n",
    "    // static method\n",
    "    static String coolMethod (String a) {\n",
    "      return a + \" cool\";\n",
    "    }\n",
    "  \n",
    "    // static property\n",
    "    static int staticProp = 10;\n",
    "  \n",
    "    public static void main(String[] args) {\n",
    "      // no object needed for any of this\n",
    "      System.out.println(MyClass.coolMethod(\"test\"));\n",
    "      System.out.println(MyClass.staticProp);\n",
    "    }\n",
    "  }\n",
    "  \n",
    "  MyClass.main(null);"
   ]
  },
  {
   "cell_type": "markdown",
   "metadata": {},
   "source": [
    "## Subclass Constructor and Super Keyword\n",
    "\n",
    "A subclass inherits all the members (fields, methods, and nested classes) from its superclass. Constructors are not members, so they are not inherited by subclasses, but the constructor of the superclass can be invoked from the subclass.\n",
    "\n",
    "\n",
    "A subclass needs a constructor if the superclass does not have a default constructor (or has one that is not accessible to the subclass). If the subclass has no constructor at all, the compiler will automatically create a public constructor that simply calls through to the default constructor of the superclass.\n",
    "\n",
    "The super keyword refers to superclass (parent) objects. It is used to call superclass methods, and to access the superclass constructor. The most common use of the super keyword is to eliminate the confusion between superclasses and subclasses that have methods with the same name."
   ]
  },
  {
   "cell_type": "code",
   "execution_count": null,
   "metadata": {},
   "outputs": [],
   "source": [
    "// using super to call the superclass of Dog (subclass)\n",
    "class Animal { // Superclass (parent)\n",
    "    public void animalSound() {\n",
    "      System.out.println(\"The animal makes a sound\");\n",
    "    }\n",
    "  }\n",
    "  \n",
    "  class Dog extends Animal { // Subclass (child)\n",
    "    public void animalSound() {\n",
    "      super.animalSound(); // Call the superclass method\n",
    "      System.out.println(\"The dog says: bow wow\");\n",
    "    }\n",
    "  }\n",
    "  \n",
    "  public class Main {\n",
    "    public static void main(String args[]) {\n",
    "      Animal myDog = new Dog(); // Create a Dog object\n",
    "      myDog.animalSound(); // Call the method on the Dog object\n",
    "    }\n",
    "  }"
   ]
  }
 ],
 "metadata": {
  "kernelspec": {
   "display_name": "Java",
   "language": "java",
   "name": "java"
  },
  "language_info": {
   "codemirror_mode": "java",
   "file_extension": ".jshell",
   "mimetype": "text/x-java-source",
   "name": "java",
   "pygments_lexer": "java",
   "version": "17.0.5+8-Ubuntu-2ubuntu120.04"
  },
  "orig_nbformat": 4
 },
 "nbformat": 4,
 "nbformat_minor": 2
}
