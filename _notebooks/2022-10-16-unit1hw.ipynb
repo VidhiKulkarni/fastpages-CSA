{
 "cells": [
  {
   "cell_type": "markdown",
   "metadata": {},
   "source": [
    "# Unit 1 Homework\n",
    "> Unit 1 FRQ and Final Grade Calculator\n",
    "\n",
    "- toc: true\n",
    "- badges: true\n",
    "- comments: true\n",
    "- categories: [fastpages, jupyter]"
   ]
  },
  {
   "cell_type": "markdown",
   "metadata": {},
   "source": [
    "Notes:\n",
    "Byte: minimum value of -128 and maximum value of 127 (inclusive). It is useful for saving memory in large arrays\n",
    "Short: Minimum value of -32,768 and maximum value of 32,767. Same purpose as Byte\n",
    "Int: Any integer or whole number\n",
    "Long: Greater range than int\n",
    "Float: floating point numbers that tend to have decimals\n",
    "Double: not good for precise data\n",
    "Boolean: logic that evaluates whether a condition is true or false\n",
    "Char"
   ]
  },
  {
   "cell_type": "markdown",
   "metadata": {},
   "source": [
    "Part A"
   ]
  },
  {
   "cell_type": "code",
   "execution_count": null,
   "metadata": {
    "vscode": {
     "languageId": "java"
    }
   },
   "outputs": [],
   "source": [
    "# Class Definition\n",
    "public DownloadInfo getDownloadInfo(String title) { \n",
    "    for (DownloadInfo info : downloadList){\n",
    "    if (info.getTitle().equals(title)){\n",
    "     return info;\n",
    "     }\n",
    "    }\n",
    "    return null; // method inside the class\n",
    "    }"
   ]
  },
  {
   "cell_type": "markdown",
   "metadata": {},
   "source": [
    "Part B"
   ]
  },
  {
   "cell_type": "code",
   "execution_count": null,
   "metadata": {
    "vscode": {
     "languageId": "java"
    }
   },
   "outputs": [],
   "source": [
    "public void updateDownloads(List<String> titles) {\n",
    "    for (String title : titles) {\n",
    "    DownloadInfo foundInfo = getDownloadInfo(title); // calls method\n",
    "    if (foundInfo == null){\n",
    "    downloadList.add(new DownloadInfo(title)); // makes new object\n",
    "    }\n",
    "    else {\n",
    "    foundInfo.incrementTimesDownloaded();\n",
    "    }\n",
    "    }\n",
    "   }"
   ]
  },
  {
   "cell_type": "markdown",
   "metadata": {},
   "source": [
    "## Final Grade Calculator"
   ]
  },
  {
   "cell_type": "code",
   "execution_count": 1,
   "metadata": {
    "vscode": {
     "languageId": "java"
    }
   },
   "outputs": [
    {
     "name": "stdout",
     "output_type": "stream",
     "text": [
      "Is the final in a seperate category? True to False\n",
      "Final in a seperate category is true\n",
      "What is your current grade rn?\n",
      "82.0\n",
      "What is % of grade that is final?\n",
      "20.0%\n",
      "What is your desired grade?\n",
      "86.0\n",
      "You need a 101.99999999999996 on your final\n"
     ]
    }
   ],
   "source": [
    "// java style to import library\n",
    "import java.util.Scanner;\n",
    "\n",
    "// class must alway have 1st letter as uppercase, CamelCase is Java Class convention\n",
    "public class ScanPrimitives {\n",
    "    public static void main(String[] args) {    \n",
    "        Scanner myObj = new Scanner(System.in);  // Create a Scanner object\n",
    "        System.out.println(\"Is the final in a seperate category? True to False\");\n",
    "\n",
    "        boolean tof = myObj.nextBoolean();  // Read user input\n",
    "        System.out.println(\"Final in a seperate category is \" + tof);  // Output user input\n",
    "\n",
    "        if (tof) {\n",
    "            System.out.println(\"What is your current grade rn?\");\n",
    "            double grade = myObj.nextDouble();\n",
    "            System.out.println(grade);\n",
    "\n",
    "            System.out.println(\"What is % of grade that is final?\");\n",
    "            double percent = myObj.nextDouble();\n",
    "            System.out.println(percent + \"%\");\n",
    "\n",
    "            System.out.println(\"What is your desired grade?\");\n",
    "            double desired = myObj.nextDouble();\n",
    "            System.out.println(desired);\n",
    "\n",
    "            double output = (desired - (grade * ((100-percent)/100)))/(percent/100);\n",
    "            System.out.println(\"You need a \" + output + \" on your final\");\n",
    "        }\n",
    "        else {\n",
    "            System.out.println(\"What is your current grade rn?\");\n",
    "            double grade = myObj.nextDouble();\n",
    "            System.out.println(grade);\n",
    "\n",
    "            System.out.println(\"What is the % of grade that is test category?\");\n",
    "            double percent = myObj.nextDouble();\n",
    "            System.out.println(percent + \"%\");\n",
    "\n",
    "            System.out.println(\"What is current % in tests category?\");\n",
    "            double currentpercent = myObj.nextDouble();\n",
    "            System.out.println(currentpercent + \"%\");\n",
    "\n",
    "            System.out.println(\"What is the current amount of points in the test category?\");\n",
    "            int currentpts = myObj.nextInt();\n",
    "            System.out.println(currentpts);\n",
    "\n",
    "            System.out.println(\"How many pts is the final?\");\n",
    "            int pts = myObj.nextInt();\n",
    "            System.out.println(pts);\n",
    "\n",
    "            System.out.println(\"What is your desired grade?\");\n",
    "            double desired = myObj.nextDouble();\n",
    "            System.out.println(desired);\n",
    "\n",
    "            // double output = (desired - ((grade * currentpercent)*((100 - percent)  / 100)))/((currentpts + pts)/(percent / 100))- currentpts;\n",
    "            double output = ((desired - grade+currentpercent)*(currentpts+pts)-currentpts*currentpercent)/100;\n",
    "            System.out.println(\"You need \" + output + \" pts on your final\");\n",
    "        }\n",
    "    \n",
    "    \n",
    "}\n",
    "\n",
    "}\n",
    "ScanPrimitives.main(null);"
   ]
  },
  {
   "cell_type": "markdown",
   "metadata": {},
   "source": [
    "## Java Casting"
   ]
  },
  {
   "cell_type": "markdown",
   "metadata": {},
   "source": [
    "Type casting is when you assign a value of one primitive data type to another type."
   ]
  },
  {
   "cell_type": "markdown",
   "metadata": {},
   "source": [
    "### Widening Casting\n",
    "\n",
    "Widening casting is done automatically when passing a smaller size type to a larger size type:"
   ]
  },
  {
   "cell_type": "code",
   "execution_count": null,
   "metadata": {
    "vscode": {
     "languageId": "java"
    }
   },
   "outputs": [],
   "source": [
    "public class Main {\n",
    "    public static void main(String[] args) {\n",
    "      int myInt = 9;\n",
    "      double myDouble = myInt; // Automatic casting: int to double\n",
    "  \n",
    "      System.out.println(myInt);      // Outputs 9\n",
    "      System.out.println(myDouble);   // Outputs 9.0\n",
    "    }\n",
    "  }"
   ]
  },
  {
   "cell_type": "markdown",
   "metadata": {},
   "source": [
    "### Narrowing Casting\n",
    "\n",
    "Narrowing casting must be done manually by placing the type in parentheses in front of the value"
   ]
  },
  {
   "cell_type": "code",
   "execution_count": null,
   "metadata": {
    "vscode": {
     "languageId": "java"
    }
   },
   "outputs": [],
   "source": [
    "public class Main {\n",
    "    public static void main(String[] args) {\n",
    "      double myDouble = 9.78d;\n",
    "      int myInt = (int) myDouble; // Manual casting: double to int\n",
    "  \n",
    "      System.out.println(myDouble);   // Outputs 9.78\n",
    "      System.out.println(myInt);      // Outputs 9\n",
    "    }\n",
    "  }"
   ]
  },
  {
   "cell_type": "markdown",
   "metadata": {},
   "source": [
    "### Casting Truncate\n",
    "Truncating a number removes the fractional part. This functionality is not the same as Math.floor, ceil or round—they affect negative or positive values in a different way."
   ]
  },
  {
   "cell_type": "code",
   "execution_count": 1,
   "metadata": {
    "vscode": {
     "languageId": "java"
    }
   },
   "outputs": [],
   "source": [
    "import java.lang.Math;\n",
    "\n",
    "public class Program {\n",
    "    public static void main(String[] args) {\n",
    "        double test1 = 1.234;\n",
    "        double test2 = -1.567;\n",
    "        \n",
    "        // ... Math.floor will always go towards negative infinity.\n",
    "        System.out.println(Math.floor(test1));\n",
    "        System.out.println(Math.floor(test2));\n",
    "        \n",
    "        // ... Math.round may go towards negative or positive infinity.\n",
    "        System.out.println(Math.round(test1));\n",
    "        System.out.println(Math.round(test2));\n",
    "        \n",
    "        // ... Casting to int will remove the fractional part.\n",
    "        // This truncates the number.\n",
    "        System.out.println((int) test1);\n",
    "        System.out.println((int) test2);\n",
    "    }\n",
    "}"
   ]
  },
  {
   "cell_type": "markdown",
   "metadata": {},
   "source": [
    "### Casting Rounding\n",
    "Rounding rounds a number to the nearest whole number."
   ]
  },
  {
   "cell_type": "code",
   "execution_count": null,
   "metadata": {
    "vscode": {
     "languageId": "java"
    }
   },
   "outputs": [],
   "source": [
    "double d=99.99999999; // Rounds 99 to 100\n",
    "System.out.println( Math.round(d));"
   ]
  },
  {
   "cell_type": "markdown",
   "metadata": {},
   "source": [
    "## Casting Division"
   ]
  },
  {
   "cell_type": "code",
   "execution_count": null,
   "metadata": {
    "vscode": {
     "languageId": "java"
    }
   },
   "outputs": [],
   "source": []
  },
  {
   "cell_type": "markdown",
   "metadata": {},
   "source": [
    "## Mixed Type Concatenation"
   ]
  },
  {
   "cell_type": "code",
   "execution_count": null,
   "metadata": {
    "vscode": {
     "languageId": "java"
    }
   },
   "outputs": [],
   "source": []
  },
  {
   "cell_type": "markdown",
   "metadata": {},
   "source": [
    "## "
   ]
  }
 ],
 "metadata": {
  "kernelspec": {
   "display_name": "Java",
   "language": "java",
   "name": "java"
  },
  "language_info": {
   "codemirror_mode": "java",
   "file_extension": ".jshell",
   "mimetype": "text/x-java-source",
   "name": "Java",
   "pygments_lexer": "java",
   "version": "17.0.5+8-Ubuntu-2ubuntu120.04"
  },
  "orig_nbformat": 4
 },
 "nbformat": 4,
 "nbformat_minor": 2
}
