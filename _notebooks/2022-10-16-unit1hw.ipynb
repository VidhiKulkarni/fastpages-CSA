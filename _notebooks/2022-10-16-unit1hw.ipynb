{
 "cells": [
  {
   "cell_type": "markdown",
   "metadata": {},
   "source": [
    "Notes:\n",
    "Byte: minimum value of -128 and maximum value of 127 (inclusive). It is useful for saving memory in large arrays\n",
    "Short: Minimum value of -32,768 and maximum value of 32,767. Same purpose as Byte\n",
    "Int: Any integer or whole number\n",
    "Long: Greater range than int\n",
    "Float: floating point numbers that tend to have decimals\n",
    "Double: not good for precise data\n",
    "Boolean: logic that evaluates whether a condition is true or false\n",
    "Char"
   ]
  },
  {
   "cell_type": "markdown",
   "metadata": {},
   "source": [
    "Part A"
   ]
  },
  {
   "cell_type": "code",
   "execution_count": null,
   "metadata": {},
   "outputs": [],
   "source": [
    "public DownloadInfo getDownloadInfo(String title) { // define the class\n",
    "    for (DownloadInfo info : downloadList){\n",
    "    if (info.getTitle().equals(title)){\n",
    "     return info;\n",
    "     }\n",
    "    }\n",
    "    return null; // method inside the class\n",
    "    }"
   ]
  },
  {
   "cell_type": "markdown",
   "metadata": {},
   "source": [
    "Part B"
   ]
  },
  {
   "cell_type": "code",
   "execution_count": null,
   "metadata": {},
   "outputs": [],
   "source": [
    "public void updateDownloads(List<String> titles) {\n",
    "    for (String title : titles) {\n",
    "    DownloadInfo foundInfo = getDownloadInfo(title); // calls method\n",
    "    if (foundInfo == null){\n",
    "    downloadList.add(new DownloadInfo(title)); // makes new object\n",
    "    }\n",
    "    else {\n",
    "    foundInfo.incrementTimesDownloaded();\n",
    "    }\n",
    "    }\n",
    "   }"
   ]
  }
 ],
 "metadata": {
  "language_info": {
   "name": "python"
  },
  "orig_nbformat": 4
 },
 "nbformat": 4,
 "nbformat_minor": 2
}
