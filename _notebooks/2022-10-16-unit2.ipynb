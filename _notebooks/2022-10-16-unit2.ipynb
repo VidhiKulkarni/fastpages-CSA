{
 "cells": [
  {
   "cell_type": "markdown",
   "metadata": {},
   "source": [
    "# Unit 2 FRQ\n",
    "> Unit 2 FRQ\n",
    "\n",
    "- toc: true\n",
    "- badges: true\n",
    "- comments: true\n",
    "- categories: [fastpages, jupyter]"
   ]
  },
  {
   "cell_type": "markdown",
   "metadata": {},
   "source": [
    "- class: \"blueprint\" of attributes and methods for creating an object\n",
    "- object: instance of class with defined attributes\n",
    "- named with variables\n",
    "- two variables can refer to same object\n",
    "- signature: constructor name and parameter list\n",
    "\n",
    "- parameter list: lists type of values passed and their variable names (formal parameters)\n",
    "- parameter: value passed into a constructor (actual parameters), must match types specified in parameter list\n",
    "- passed using call by value\n",
    "- call by value: initializes formal parameters with copies of the actual parameters"
   ]
  },
  {
   "cell_type": "markdown",
   "metadata": {},
   "source": [
    "a) Write the WordMatch method scoreGuess. To determine the score to be returned,\n",
    "scoreGuess finds the number of times that guess occurs as a substring of secret and then\n",
    "multiplies that number by the square of the length of guess. Occurrences of guess may overlap\n",
    "within secret.\n",
    "Assume that the length of guess is less than or equal to the length of secret and that guess is\n",
    "not an empty string.\n",
    "The following examples show declarations of a WordMatch object. The tables show the outcomes of\n",
    "some possible calls to the scoreGuess method. "
   ]
  },
  {
   "cell_type": "code",
   "execution_count": null,
   "metadata": {},
   "outputs": [],
   "source": [
    "public class WordMatch\n",
    "{\n",
    "\n",
    "public int scoreGuess(String guess) //answer to 1a\n",
    "{   \n",
    "    int count = 0; //starts off the count of substring occurrences at 0\n",
    "    \n",
    "    for (int i = 0; i <= secret.length(); i++) { //assuming that length of guess is less than or equal to secret.length\n",
    "        if (secret.substring(i, guess.length().equals(guess)); //checks if guess is within substring of secret\n",
    "        count++;\n",
    "    } //then increases the count\n",
    "}\n",
    "\n",
    "return count * guess.length() * guess.length(); //numbers of times guess is found within substring and multiplies it by square of guess \n",
    "}"
   ]
  },
  {
   "cell_type": "markdown",
   "metadata": {},
   "source": [
    "b) Write the WordMatch method findBetterGuess, which returns the better guess of its two\n",
    "String parameters, guess1 and guess2. If the scoreGuess method returns different\n",
    "values for guess1 and guess2, then the guess with the higher score is returned. If the\n",
    "scoreGuess method returns the same value for guess1 and guess2, then the\n",
    "alphabetically greater guess is returned.\n",
    "The following example shows a declaration of a WordMatch object and the outcomes of some\n",
    "possible calls to the scoreGuess and findBetterGuess methods. "
   ]
  },
  {
   "cell_type": "code",
   "execution_count": null,
   "metadata": {},
   "outputs": [],
   "source": [
    "public class WordMatch\n",
    "{\n",
    "public String findBetterGuess(String guess1, String guess2)\n",
    "{\n",
    "    if (scoreGuess(guess1)>scoreGuess(guess2)) //if guess for guess1 is greater then guess1 is returned\n",
    "    {\n",
    "        return guess1;\n",
    "    }\n",
    "    if (scoreGuess(guess2)>scoreGuess(guess1)) //otherwise guess2 is returned\n",
    "    {\n",
    "        return guess2; \n",
    "    }\n",
    "}"
   ]
  }
 ],
 "metadata": {
  "kernelspec": {
   "display_name": "Java",
   "language": "java",
   "name": "java"
  },
  "language_info": {
   "name": "java"
  },
  "orig_nbformat": 4
 },
 "nbformat": 4,
 "nbformat_minor": 2
}
