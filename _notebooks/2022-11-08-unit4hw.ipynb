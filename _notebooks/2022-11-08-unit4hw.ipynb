{
 "cells": [
  {
   "cell_type": "markdown",
   "metadata": {},
   "source": [
    "# Unit 4 Iteration Homework\n",
    "> Unit 4 Iteration\n",
    "\n",
    "- toc: true\n",
    "- badges: true\n",
    "- comments: true\n",
    "- categories: [fastpages, jupyter, ap exam unit]"
   ]
  },
  {
   "cell_type": "code",
   "execution_count": null,
   "metadata": {},
   "outputs": [],
   "source": [
    "public class CaesarCipher {\n",
    "\n",
    "    String[] letters = {\"a\", \"b\", \"c\", \"d\", \"e\", \"f\", \"g\", \"h\", \"i\", \"j\", \"k\", \"l\", \"m\", \"n\", \"o\", \"p\", \"q\", \"r\", \"s\", \"t\", \"u\", \"v\", \"w\", \"x\", \"y\", \"z\"};\n",
    "    String[] capitalLetters = {\"A\", \"B\", \"C\", \"D\", \"E\", \"F\", \"G\", \"H\", \"I\", \"J\", \"K\", \"L\", \"M\", \"N\", \"O\", \"P\", \"Q\", \"R\", \"S\", \"T\", \"U\", \"V\", \"W\", \"X\", \"Y\", \"Z\"};\n",
    "    \n",
    "    static String message1 = \"Kfzb gly!\"; \n",
    "    static String message2 = \"zlab zlab zlab\";\n",
    "    static String message3 = \"prmbozxifcoxdfifpqfzbumfxifalzflrp\";\n",
    "\n",
    "    String letterIndividual = \"\";\n",
    "\n",
    "\n",
    "    public CaesarCipher(String msg) {\n",
    "        for (int i = 0; i < msg.length(); i++) {\n",
    "            letterIndividual = msg.substring(i, i+1);\n",
    "\n",
    "\n",
    "            if (letterIndividual.equals(\" \")) {\n",
    "                System.out.print(\" \"); \n",
    "            }\n",
    "\n",
    "            if (letterIndividual.equals(\"!\")) {\n",
    "                System.out.print(\"!\"); \n",
    "            }\n",
    "\n",
    "            for (int j = 0; j < letters.length; j++) {\n",
    "                if (letterIndividual.equals(letters[j])) {\n",
    "                    System.out.print(letters[(j+3)%26]); \n",
    "                }\n",
    "\n",
    "                if (letterIndividual.equals(capitalLetters[j])) {\n",
    "                    System.out.print(capitalLetters[(j+3)%26]); \n",
    "                }\n",
    "                \n",
    "                \n",
    "            }\n",
    "        }\n",
    "        System.out.println(\"\"); \n",
    "    }\n",
    "\n",
    "    public static void main(String[] args) {\n",
    "        CaesarCipher decode = new CaesarCipher(message1); \n",
    "        CaesarCipher decode2 = new CaesarCipher(message2); \n",
    "        CaesarCipher decode3 = new CaesarCipher(message3); \n",
    "\n",
    "    }\n",
    "}\n",
    "CaesarCipher.main(null)"
   ]
  },
  {
   "cell_type": "markdown",
   "metadata": {},
   "source": [
    "## For Loop"
   ]
  },
  {
   "cell_type": "markdown",
   "metadata": {},
   "source": [
    "When you know exactly how many times you want to loop through a block of code, use the for loop instead of a while loop:"
   ]
  },
  {
   "cell_type": "code",
   "execution_count": null,
   "metadata": {},
   "outputs": [],
   "source": [
    "for (int i = 0; i < 5; i++) {\n",
    "    System.out.println(i);\n",
    "  }"
   ]
  },
  {
   "cell_type": "markdown",
   "metadata": {},
   "source": [
    "## Enhanced For Loop"
   ]
  },
  {
   "cell_type": "markdown",
   "metadata": {},
   "source": [
    "This for-loop was introduced in java version 1.5 and it is also a control flow statement that iterates a part of the program multiple times. This for-loop provides another way for traversing the array or collections and hence it is mainly used for traversing array or collections. This loop also makes the code more readable and reduces the chance of bugs in the code."
   ]
  },
  {
   "cell_type": "code",
   "execution_count": null,
   "metadata": {},
   "outputs": [],
   "source": [
    "for(data-type variable : array | collection)\n",
    "  {\n",
    "   // Code to be executed\n",
    "  }  "
   ]
  },
  {
   "cell_type": "markdown",
   "metadata": {},
   "source": [
    "## While Loop"
   ]
  },
  {
   "cell_type": "markdown",
   "metadata": {},
   "source": [
    "The while loop loops through a block of code as long as a specified condition is true"
   ]
  },
  {
   "cell_type": "code",
   "execution_count": null,
   "metadata": {},
   "outputs": [],
   "source": [
    "int i = 0;\n",
    "while (i < 5) {\n",
    "  System.out.println(i);\n",
    "  i++;\n",
    "}"
   ]
  },
  {
   "cell_type": "markdown",
   "metadata": {},
   "source": [
    "## Do While Loop"
   ]
  },
  {
   "cell_type": "markdown",
   "metadata": {},
   "source": [
    "The do/while loop is a variant of the while loop. This loop will execute the code block once, before checking if the condition is true, then it will repeat the loop as long as the condition is true."
   ]
  },
  {
   "cell_type": "code",
   "execution_count": null,
   "metadata": {},
   "outputs": [],
   "source": [
    "int i = 0;\n",
    "do {\n",
    "  System.out.println(i);\n",
    "  i++;\n",
    "}\n",
    "while (i < 5);"
   ]
  },
  {
   "cell_type": "markdown",
   "metadata": {},
   "source": [
    "## Nested Loop"
   ]
  },
  {
   "cell_type": "markdown",
   "metadata": {},
   "source": [
    "If a loop exists inside the body of another loop, it's called a nested loop."
   ]
  },
  {
   "cell_type": "code",
   "execution_count": null,
   "metadata": {},
   "outputs": [],
   "source": [
    "class Main {\n",
    "    public static void main(String[] args) {\n",
    "  \n",
    "      int weeks = 3;\n",
    "      int days = 7;\n",
    "  \n",
    "      // outer loop prints weeks\n",
    "      for (int i = 1; i <= weeks; ++i) {\n",
    "        System.out.println(\"Week: \" + i);\n",
    "  \n",
    "        // inner loop prints days\n",
    "        for (int j = 1; j <= days; ++j) {\n",
    "          System.out.println(\"  Day: \" + j);\n",
    "        }\n",
    "      }\n",
    "    }\n",
    "  }"
   ]
  }
 ],
 "metadata": {
  "kernelspec": {
   "display_name": "Java",
   "language": "java",
   "name": "java"
  },
  "language_info": {
   "name": "java"
  },
  "orig_nbformat": 4
 },
 "nbformat": 4,
 "nbformat_minor": 2
}
