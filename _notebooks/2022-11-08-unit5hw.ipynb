{
 "cells": [
  {
   "cell_type": "markdown",
   "metadata": {},
   "source": [
    "# Unit 5 Homework\n",
    "> Unit 5\n",
    "\n",
    "- toc: true\n",
    "- badges: true\n",
    "- comments: true\n",
    "- categories: [fastpages, jupyter, ap exam unit]"
   ]
  },
  {
   "cell_type": "markdown",
   "metadata": {},
   "source": [
    "## Creating a Class, describe Naming Conventions\n",
    "\n",
    "Class can be created using the class keyword\n",
    "Class should be defined using upper camelcase (camelcase but first letter capital)"
   ]
  },
  {
   "cell_type": "code",
   "execution_count": null,
   "metadata": {
    "vscode": {
     "languageId": "java"
    }
   },
   "outputs": [],
   "source": [
    "// creating a class\n",
    "class MyClass {\n",
    "\n",
    "}"
   ]
  },
  {
   "cell_type": "markdown",
   "metadata": {},
   "source": [
    "## Constructor\n",
    "\n",
    "Constructor is called whenver the object is created, usually initializes fields\n",
    "Does not return anything because the object is automatically given to the user when constructor is called"
   ]
  },
  {
   "cell_type": "code",
   "execution_count": null,
   "metadata": {
    "vscode": {
     "languageId": "java"
    }
   },
   "outputs": [],
   "source": [
    "class MyClass {\n",
    "    int prop1;\n",
    "    int prop2;\n",
    "  \n",
    "    // Constructor here\n",
    "    public MyClass (int prop1input, int prop2input) {\n",
    "      // setting properties using this to reference prop1 & prop2 of the object\n",
    "      this.prop1 = prop1input;\n",
    "      this.prop2 = prop2input;\n",
    "    }\n",
    "  \n",
    "    public static void main (String[] args) {\n",
    "      MyClass obj = new MyClass(1, 2);\n",
    "    }\n",
    "  }\n",
    "  \n",
    "  MyClass.main(null);"
   ]
  },
  {
   "cell_type": "markdown",
   "metadata": {},
   "source": [
    "## Accessor Methods\n",
    "\n",
    "Used to get properties of an object from the outside the class definition\n",
    "Getters can be applied on only the properties which should be accessed outside the class"
   ]
  },
  {
   "cell_type": "code",
   "execution_count": 1,
   "metadata": {
    "vscode": {
     "languageId": "java"
    }
   },
   "outputs": [
    {
     "name": "stdout",
     "output_type": "stream",
     "text": [
      "1\n"
     ]
    }
   ],
   "source": [
    "class MyClass {\n",
    "    int prop1;\n",
    "    int prop2;\n",
    "  \n",
    "    // Constructor here\n",
    "    public MyClass (int prop1input, int prop2input) {\n",
    "      // setting properties using this to reference prop1 & prop2 of the object\n",
    "      this.prop1 = prop1input;\n",
    "      this.prop2 = prop2input;\n",
    "    }\n",
    "  \n",
    "    // getter allows outside class to access prop1\n",
    "    public int getProp1() {\n",
    "      return this.prop1;\n",
    "    }\n",
    "  \n",
    "    public static void main (String[] args) {\n",
    "      MyClass obj = new MyClass(1, 2);\n",
    "  \n",
    "      // using getter to access prop1\n",
    "      System.out.println(obj.getProp1());\n",
    "    }\n",
    "  }\n",
    "  \n",
    "  MyClass.main(null);"
   ]
  },
  {
   "cell_type": "markdown",
   "metadata": {},
   "source": [
    "## Mutator (Modifier) Method (Setter)\n",
    "\n",
    "typically a void method that changes value of instance variables or static variables\n",
    "void methods do not return values\n",
    "Must be used when different classes need to modify instance variables"
   ]
  },
  {
   "cell_type": "code",
   "execution_count": null,
   "metadata": {
    "vscode": {
     "languageId": "java"
    }
   },
   "outputs": [],
   "source": [
    "// always public void\n",
    "// setVariable (naming convention)\n",
    "// parameter type must match type of instance variable being modified\n",
    "\n",
    "public void setVariable(String variable){\n",
    "    this.variable = variable;\n",
    "}"
   ]
  },
  {
   "cell_type": "markdown",
   "metadata": {},
   "source": [
    "## Access modifiers\n",
    "\n",
    "Access modifiers control whether properties and methods can be accessed outside the class\n",
    "The public means the property/method is accessible outside while if it is private it is not accessible"
   ]
  },
  {
   "cell_type": "code",
   "execution_count": null,
   "metadata": {
    "vscode": {
     "languageId": "java"
    }
   },
   "outputs": [],
   "source": [
    "class MyClass {\n",
    "    // prop1 cannot be directly accessed\n",
    "    private int prop1;\n",
    "  \n",
    "    // prop2 can be directly accessed\n",
    "    public int prop2;\n",
    "  \n",
    "    // Constructor here\n",
    "    public MyClass (int prop1input, int prop2input) {\n",
    "      // setting properties using this to reference prop1 & prop2 of the object\n",
    "      this.prop1 = prop1input;\n",
    "      this.prop2 = prop2input;\n",
    "    }\n",
    "  \n",
    "    // getter allows outside class to access prop1\n",
    "    public int getProp1() {\n",
    "      return this.prop1;\n",
    "    }\n",
    "  \n",
    "    // setter allows outside class to set prop1\n",
    "    public void setProp1 (int propVal) {\n",
    "      this.prop1 = propVal;\n",
    "    }\n",
    "  \n",
    "    public static void main (String[] args) {\n",
    "      MyClass obj = new MyClass(1, 2);\n",
    "  \n",
    "      // would throw error\n",
    "      // obj.prop1 = 10;\n",
    "  \n",
    "      // works (because public)\n",
    "      obj.prop2 = 11;\n",
    "      System.out.println(obj.prop2);\n",
    "    }\n",
    "  }\n",
    "  \n",
    "  MyClass.main(null);"
   ]
  },
  {
   "cell_type": "markdown",
   "metadata": {},
   "source": [
    "## This keyword\n",
    "The \"this\" keyword allows you to access properties of the class"
   ]
  },
  {
   "cell_type": "markdown",
   "metadata": {},
   "source": [
    "## Standard Methods"
   ]
  },
  {
   "cell_type": "markdown",
   "metadata": {},
   "source": [
    "### toString() Method \n",
    "overridden method that provides description of a specific object (ie stored values)\n",
    "If System.out.print or System.out.println() is passed an object, that object's toString() method is called ==> returned string is printed"
   ]
  },
  {
   "cell_type": "code",
   "execution_count": null,
   "metadata": {
    "vscode": {
     "languageId": "java"
    }
   },
   "outputs": [],
   "source": [
    "// method header always stays the same\n",
    "// always returns string\n",
    "// no parameters\n",
    "\n",
    "public String toString(){\n",
    "\n",
    "}"
   ]
  },
  {
   "cell_type": "markdown",
   "metadata": {},
   "source": [
    "### Equals()\n",
    "Equals() is considered as a method in Java. 2. It is majorly used to compare the reference values and objects. It is used to compare the actual content of the object."
   ]
  },
  {
   "cell_type": "code",
   "execution_count": null,
   "metadata": {
    "vscode": {
     "languageId": "java"
    }
   },
   "outputs": [],
   "source": [
    "public boolean equals  (Object obj)\n",
    "\n",
    "// This method checks if some other Object\n",
    "// passed to it as an argument is equal to \n",
    "// the Object on which it is invoked."
   ]
  },
  {
   "cell_type": "markdown",
   "metadata": {},
   "source": [
    "### Hashcode()\n",
    "It returns the hashcode value as an Integer. Hashcode value is mostly used in hashing based collections like HashMap, HashSet, HashTable….etc. This method must be overridden in every class which overrides equals() method.\n"
   ]
  },
  {
   "cell_type": "code",
   "execution_count": null,
   "metadata": {
    "vscode": {
     "languageId": "java"
    }
   },
   "outputs": [],
   "source": [
    "public int hashCode()\n",
    "\n",
    "// This method returns the hash code value \n",
    "// for the object on which this method is invoked."
   ]
  },
  {
   "cell_type": "markdown",
   "metadata": {},
   "source": [
    "### Big O Notation\n",
    "\n",
    "Big O notation is a way of describing the accuracy and efficiency of an algorithm. We can apply it to: Hash map, Binary Search, Single loop, Nested Loop"
   ]
  },
  {
   "cell_type": "markdown",
   "metadata": {},
   "source": [
    "### Polymorphism\n",
    "\n",
    "In Java, polymorphism refers to the ability of a class to provide different implementations of a method, depending on the type of object that is passed to the method. To put it simply, polymorphism in Java allows us to perform the same action in many different ways."
   ]
  }
 ],
 "metadata": {
  "kernelspec": {
   "display_name": "Java",
   "language": "java",
   "name": "java"
  },
  "language_info": {
   "codemirror_mode": "java",
   "file_extension": ".jshell",
   "mimetype": "text/x-java-source",
   "name": "Java",
   "pygments_lexer": "java",
   "version": "17.0.5+8-Ubuntu-2ubuntu120.04"
  },
  "orig_nbformat": 4
 },
 "nbformat": 4,
 "nbformat_minor": 2
}
