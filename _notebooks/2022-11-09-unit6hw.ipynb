{
 "cells": [
  {
   "cell_type": "code",
   "execution_count": null,
   "metadata": {
    "vscode": {
     "languageId": "java"
    }
   },
   "outputs": [],
   "source": [
    "//Hack 1\n",
    "int[] arrayOne = {2, 4, 6, 8, 10, 12};\n",
    "for (int i = 0; i < arrayOne.length; i+=2) { // if smaller than array length then increments by 2\n",
    "    System.out.println(arrayOne[i]); //prints array\n",
    "}"
   ]
  },
  {
   "cell_type": "code",
   "execution_count": null,
   "metadata": {
    "vscode": {
     "languageId": "java"
    }
   },
   "outputs": [],
   "source": [
    "//Hack 2\n",
    "int[] myNumbers = new int[] {4, 5, 3, 1, 2}; //jumbled array\n",
    "int i = 0;\n",
    "int min = 0;\n",
    "public void arraySorter(int[] array) {\n",
    "    for (int i = 1; i < array.length+1; i++) { //sorts in order\n",
    "        for (int j = 0; j < array.length; j++) {\n",
    "            if (i == array[j]) {\n",
    "                System.out.println(i);\n",
    "            }\n",
    "        }\n",
    "    }\n",
    "}\n",
    " \n",
    "arraySorter(myNumbers);"
   ]
  },
  {
   "cell_type": "code",
   "execution_count": null,
   "metadata": {
    "vscode": {
     "languageId": "java"
    }
   },
   "outputs": [],
   "source": [
    "public void addMembers(String[] names, int graduationYear) {\n",
    "    //string that includes the names - 1st parameter\n",
    "    //int that contains the grad year - 2nd parameter\n",
    "    \n",
    "    for (int i = 0; i<names.length; i++) { //repeats for as many letters are in the name\n",
    "      memberList.add(new Member(names[i], graduationYear, true));\n",
    "      //adds the names and grad year to the member list for each member\n",
    "\n",
    "      return memberList; //this could possibly be names\n",
    "    }\n",
    "  }"
   ]
  }
 ],
 "metadata": {
  "language_info": {
   "name": "python"
  },
  "orig_nbformat": 4
 },
 "nbformat": 4,
 "nbformat_minor": 2
}
