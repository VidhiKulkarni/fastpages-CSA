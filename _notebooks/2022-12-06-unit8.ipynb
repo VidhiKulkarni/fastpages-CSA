{
 "cells": [
  {
   "attachments": {},
   "cell_type": "markdown",
   "metadata": {},
   "source": [
    "# Unit 8\n",
    "> Unit 8\n",
    "\n",
    "- toc: true\n",
    "- badges: true\n",
    "- comments: true\n",
    "- categories: [fastpages, jupyter, ap exam unit]"
   ]
  },
  {
   "cell_type": "code",
   "execution_count": 1,
   "metadata": {
    "vscode": {
     "languageId": "java"
    }
   },
   "outputs": [
    {
     "name": "stdout",
     "output_type": "stream",
     "text": [
      "arr[0][0] = 1\n",
      "arr[1][2] = 6\n",
      "arr[2][1] = 8\n"
     ]
    }
   ],
   "source": [
    "public class Test {\n",
    "\n",
    "    public static void main(String[] args) {\n",
    " \n",
    "       int[][] arr = {\n",
    "          { 1, 2, 3 },\n",
    "          { 4, 5, 6 },\n",
    "          { 7, 8, 9 }\n",
    "       };\n",
    " \n",
    "       System.out.println(\"arr[0][0] = \" + arr[0][0]);\n",
    "       System.out.println(\"arr[1][2] = \" + arr[1][2]);\n",
    "       System.out.println(\"arr[2][1] = \" + arr[2][1]);\n",
    "       \n",
    "    }\n",
    " \n",
    " }\n",
    " Test.main(null);"
   ]
  },
  {
   "cell_type": "code",
   "execution_count": 2,
   "metadata": {
    "vscode": {
     "languageId": "java"
    }
   },
   "outputs": [
    {
     "name": "stdout",
     "output_type": "stream",
     "text": [
      "arr[2][2] = i\n"
     ]
    }
   ],
   "source": [
    "// hack 1\n",
    "\n",
    "public class Test {\n",
    "\n",
    "    public static void main(String[] args) {\n",
    " \n",
    "      String[][] arr = {\n",
    "         { \"a\", \"f\", \"g\" },\n",
    "         { \"b\", \"e\", \"h\" },\n",
    "         { \"c\", \"d\", \"i\" }\n",
    "      };\n",
    " \n",
    "      // Print the last element in the array!\n",
    "      System.out.println(\"arr[2][2] = \" + arr[2][2]);\n",
    "    }\n",
    " \n",
    " }\n",
    " Test.main(null);"
   ]
  },
  {
   "cell_type": "code",
   "execution_count": 3,
   "metadata": {
    "vscode": {
     "languageId": "java"
    }
   },
   "outputs": [
    {
     "name": "stdout",
     "output_type": "stream",
     "text": [
      "Change Austin to Athens and print!\n",
      "Athens\n"
     ]
    }
   ],
   "source": [
    "// hack 2\n",
    "public class Test {\n",
    "\n",
    "    public static void main(String[] args) {\n",
    " \n",
    "      String[][] arr = {\n",
    "         { \"Atlanta\", \"Baltimore\", \"Chicago\" },\n",
    "         { \"Australia\", \"Boston\", \"Cincinnati\" },\n",
    "         { \"Austin\", \"Beaumont\", \"Columbus\" }\n",
    "      };\n",
    "      arr[2][0] = \"Athens\";\n",
    "       // Change Austin to Athens and print!\n",
    "      System.out.println(\"Change Austin to Athens and print!\");\n",
    "      \n",
    "      System.out.println(arr[2][0]);\n",
    "    }\n",
    " \n",
    " }\n",
    " Test.main(null);"
   ]
  },
  {
   "cell_type": "code",
   "execution_count": 5,
   "metadata": {
    "vscode": {
     "languageId": "java"
    }
   },
   "outputs": [
    {
     "name": "stdout",
     "output_type": "stream",
     "text": [
      "Atlanta Baltimore Chicago  \n",
      "Australia Boston Cincinnati  \n",
      "Austin Beaumont Columbus  \n"
     ]
    }
   ],
   "source": [
    "// hack 3\n",
    "\n",
    "public class Test {\n",
    "\n",
    "    public static void main(String[] args) {\n",
    " \n",
    "       String[][] arr = {\n",
    "          { \"Atlanta\", \"Baltimore\", \"Chicago\" },\n",
    "          { \"Australia\", \"Boston\", \"Cincinnati\" },\n",
    "          { \"Austin\", \"Beaumont\", \"Columbus\" }\n",
    "       };\n",
    "       for (int row = 0; row < 3; row++) {\n",
    "         for (int col = 0; col < 3; col++) {\n",
    "            System.out.print(arr[row][col] + \" \");\n",
    "         }\n",
    "        System.out.println(\" \");\n",
    "      }\n",
    "       // Print out the array without using numerical values!\n",
    "       \n",
    "    }\n",
    " \n",
    " }\n",
    " Test.main(null);"
   ]
  },
  {
   "cell_type": "code",
   "execution_count": 6,
   "metadata": {
    "vscode": {
     "languageId": "java"
    }
   },
   "outputs": [
    {
     "name": "stdout",
     "output_type": "stream",
     "text": [
      "Boston\n"
     ]
    }
   ],
   "source": [
    "// searching for a value in a 2d array\n",
    "\n",
    "public class Test {\n",
    "\n",
    "    public static void main(String[] args) {\n",
    "  \n",
    "        String[][] arr = {\n",
    "            { \"Atlanta\", \"Baltimore\", \"Chicago\" },\n",
    "            { \"Australia\", \"Boston\", \"Cincinnati\" },\n",
    "            { \"Austin\", \"Beaumont\", \"Columbus\" }\n",
    "        };\n",
    "\n",
    "        String match = \"\";\n",
    "        String name = \"Boston\";\n",
    "        for (String[] row : arr) {\n",
    "            for (String item : row) {\n",
    "                if (item.equals(name)) {\n",
    "                    match = name;\n",
    "                }\n",
    "            }\n",
    "        }\n",
    "\n",
    "        if (match.length() == 0) {\n",
    "            System.out.println(\"No Match!\");\n",
    "        } else {\n",
    "            System.out.println(name);\n",
    "        }\n",
    "        \n",
    "    }\n",
    " \n",
    " }\n",
    "Test.main(null);"
   ]
  },
  {
   "cell_type": "code",
   "execution_count": 7,
   "metadata": {
    "vscode": {
     "languageId": "java"
    }
   },
   "outputs": [
    {
     "name": "stdout",
     "output_type": "stream",
     "text": [
      "Use nested for loops to find the longest or shortest string!: Cincinnati\n"
     ]
    }
   ],
   "source": [
    "// hack 4\n",
    "\n",
    "public class Test {\n",
    "\n",
    "    public static void main(String[] args) {\n",
    "  \n",
    "        String[][] arr = {\n",
    "            { \"Atlanta\", \"Baltimore\", \"Chicago\" },\n",
    "            { \"Australia\", \"Boston\", \"Cincinnati\" },\n",
    "            { \"Austin\", \"Beaumont\", \"Columbus\" }\n",
    "        };\n",
    "\n",
    "        String longest = arr[0][0];\n",
    "        \n",
    "        \n",
    "        for (String[] row : arr) {\n",
    "            for (String item : row) {\n",
    "                if (item.length()>longest.length()) {\n",
    "                    longest = item;\n",
    "                }\n",
    "            }\n",
    "        }\n",
    "        // Use nested for loops to find the longest or shortest string!\n",
    "        System.out.println(\"Use nested for loops to find the longest or shortest string!: \" + longest);\n",
    "        \n",
    "    }\n",
    " \n",
    " }\n",
    "Test.main(null);"
   ]
  },
  {
   "attachments": {},
   "cell_type": "markdown",
   "metadata": {},
   "source": [
    "## Homework"
   ]
  },
  {
   "attachments": {},
   "cell_type": "markdown",
   "metadata": {},
   "source": [
    "a) Write a static method findPosition that takes an integer value and a 2D integer array and returns the position of the integer in the given 2D integer array. If the integer is not an element of the 2D integer array, the method returns null. For example, assume that array arr is the 2D integer array shown at the beginning of the question. • The call findPosition(8, arr) would return the Position object (2,1) because the value 8 appears in arr at row 2 and column 1. • The call findPosition(17, arr) would return null because the value 17 does not appear in arr."
   ]
  },
  {
   "cell_type": "code",
   "execution_count": null,
   "metadata": {
    "vscode": {
     "languageId": "java"
    }
   },
   "outputs": [],
   "source": [
    "/** Returns a 2D successor array as described in part (b) constructed from intArr.\n",
    " * Precondition: intArr contains at least one row and contains consecutive values.\n",
    "* Each of these integers may be in any position in the 2D array.\n",
    " */ \n",
    "\n",
    " public static Position[][] getSuccessorArray(int[][] intArr) \n",
    "{\n",
    "    Position[][] successor = new Position[intArr.length][intArr[0].length];\n",
    "    for(int r=0;r<intArr.length;c++)\n",
    "    {\n",
    "        for(int c=0;c<intArr[0].length;c++)\n",
    "        {\n",
    "            Position p = findPosition(intArr[r][c]+1 , intArr);\n",
    "            \n",
    "        }\n",
    "    }\n",
    "}"
   ]
  }
 ],
 "metadata": {
  "kernelspec": {
   "display_name": "Java",
   "language": "java",
   "name": "java"
  },
  "language_info": {
   "codemirror_mode": "java",
   "file_extension": ".jshell",
   "mimetype": "text/x-java-source",
   "name": "Java",
   "pygments_lexer": "java",
   "version": "17.0.5+8-Ubuntu-2ubuntu120.04"
  },
  "orig_nbformat": 4,
  "vscode": {
   "interpreter": {
    "hash": "916dbcbb3f70747c44a77c7bcd40155683ae19c65e1c03b4aa3499c5328201f1"
   }
  }
 },
 "nbformat": 4,
 "nbformat_minor": 2
}
