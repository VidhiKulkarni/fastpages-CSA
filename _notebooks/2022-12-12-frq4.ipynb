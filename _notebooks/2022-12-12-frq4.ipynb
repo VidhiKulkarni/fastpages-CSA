{
 "cells": [
  {
   "attachments": {},
   "cell_type": "markdown",
   "metadata": {},
   "source": [
    "# FRQ 4 Solved \n",
    "> FRQ 4\n",
    "\n",
    "- toc: true\n",
    "- badges: true\n",
    "- comments: true\n",
    "- categories: [fastpages, jupyter, ap exam unit]"
   ]
  },
  {
   "attachments": {},
   "cell_type": "markdown",
   "metadata": {},
   "source": [
    "A) Write the constructor for the LightBoard class, which initializes lights so that each light is set to on with a 40% probability. The notation lights[r][c] represents the array element at row r and column c."
   ]
  },
  {
   "cell_type": "code",
   "execution_count": null,
   "metadata": {
    "vscode": {
     "languageId": "java"
    }
   },
   "outputs": [],
   "source": [
    "public LightBoard(int numRows, int numCols){\n",
    "    lights = new boolean[numRows][numCols];\n",
    "    for(int i = 0; i < numRows; i++){\n",
    "        for(int j = 0; j < numCols; j++){\n",
    "            // 0-99 inclusive\n",
    "            if(((int)Math.random() * 100) <= 39){\n",
    "                lights[i][j] = true;\n",
    "            }\n",
    "            else{\n",
    "                lights[i][j] = false;\n",
    "            }\n",
    "        }\n",
    "    }\n",
    "}"
   ]
  },
  {
   "attachments": {},
   "cell_type": "markdown",
   "metadata": {},
   "source": [
    "B) Write the method evaluateLight, which computes and returns the status of a light at a given row and column based on the following rules.\n",
    "\n",
    "1. If the light is on, return false if the number of lights in its column that are on is even, including the current light.\n",
    "2. If the light is off, return true if the number of lights in its column that are on is divisible by three.\n",
    "3. Otherwise, return the light’s current status. For example, suppose that LightBoard sim = new LightBoard(7, 5) creates a light board with the initial state shown below, where true represents a light that is on and false represents a light that is off. Lights that are off are shaded."
   ]
  },
  {
   "cell_type": "code",
   "execution_count": null,
   "metadata": {
    "vscode": {
     "languageId": "java"
    }
   },
   "outputs": [],
   "source": [
    "public boolean evaluateLight(int row, int col){\n",
    "    if(lights[row][col]){\n",
    "        int numOn = 0;\n",
    "        for(int i = 0; i < row; i++){\n",
    "            if(lights[i][col]){\n",
    "                numOn++;\n",
    "            }\n",
    "        }\n",
    "        if(numOn % 2 == 0){\n",
    "            return false;\n",
    "        }\n",
    "    }\n",
    "    if(!lights[row][col]){\n",
    "        int numOn2 = 0;\n",
    "        for(int i = 0; i < row; i++){\n",
    "            if(lights[i][col]){\n",
    "                numOn2++;\n",
    "            }\n",
    "        }\n",
    "        if(numOn2 % 3 == 0){\n",
    "            return true;\n",
    "        }\n",
    "    }\n",
    "    return lights[row][col];\n",
    "}"
   ]
  },
  {
   "attachments": {},
   "cell_type": "markdown",
   "metadata": {},
   "source": [
    "## Usability for On/Off"
   ]
  },
  {
   "cell_type": "code",
   "execution_count": null,
   "metadata": {
    "vscode": {
     "languageId": "java"
    }
   },
   "outputs": [],
   "source": [
    "/* Assign random colors and effects */\n",
    "public Light() {\n",
    "    int maxColor = 255;\n",
    "    int effect = 9;\n",
    "    this.red = (short) (Math.random()*(maxColor+1));\n",
    "    this.green = (short) (Math.random()*(maxColor+1));\n",
    "    this.blue = (short) (Math.random()*(maxColor+1));\n",
    "    this.onOff();\n",
    "    if(!this.on){\n",
    "        this.effect = 0;\n",
    "    }\n",
    "    else{\n",
    "        this.effect = (short) (Math.random()*(effect+1));\n",
    "    }    \n",
    "}\n",
    "\n",
    "public void onOff(){\n",
    "    if(((int)Math.random() * 100) <= 39){\n",
    "        this.on = true;\n",
    "    }\n",
    "    else{\n",
    "        this.on = false;\n",
    "    }\n",
    "}"
   ]
  },
  {
   "attachments": {},
   "cell_type": "markdown",
   "metadata": {},
   "source": [
    "## Edit the size of the Array"
   ]
  },
  {
   "cell_type": "code",
   "execution_count": null,
   "metadata": {
    "vscode": {
     "languageId": "java"
    }
   },
   "outputs": [],
   "source": [
    "LightBoard lightBoard = new LightBoard(4, 4);"
   ]
  },
  {
   "attachments": {},
   "cell_type": "markdown",
   "metadata": {},
   "source": [
    "## Final Size of Each Color Palette Cell"
   ]
  },
  {
   "cell_type": "code",
   "execution_count": null,
   "metadata": {
    "vscode": {
     "languageId": "java"
    }
   },
   "outputs": [],
   "source": [
    "final int ROWS = 2\n",
    "final int COLS = 2;"
   ]
  }
 ],
 "metadata": {
  "kernelspec": {
   "display_name": "Java",
   "language": "java",
   "name": "java"
  },
  "language_info": {
   "codemirror_mode": "java",
   "file_extension": ".jshell",
   "mimetype": "text/x-java-source",
   "name": "Java",
   "pygments_lexer": "java",
   "version": "17.0.5+8-Ubuntu-2ubuntu120.04"
  },
  "orig_nbformat": 4
 },
 "nbformat": 4,
 "nbformat_minor": 2
}
