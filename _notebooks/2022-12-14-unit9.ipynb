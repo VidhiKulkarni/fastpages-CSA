{
 "cells": [
  {
   "attachments": {},
   "cell_type": "markdown",
   "metadata": {},
   "source": [
    "# Unit 9\n",
    "> Unit 9\n",
    "\n",
    "- toc: true\n",
    "- badges: true\n",
    "- comments: true\n",
    "- categories: [fastpages, jupyter, ap exam unit]"
   ]
  },
  {
   "attachments": {},
   "cell_type": "markdown",
   "metadata": {},
   "source": [
    "### Subclasses\n",
    "\n",
    "\n",
    "Method to create hierarchy between classes by inheriting from other classes\n",
    "\n",
    "\n",
    "parent and child classes\n",
    "\n",
    "\n",
    "extends extend a class to show its inherited and extends functionality\n",
    "\n",
    "\n",
    "Subclass inherits all methods and fields from superclass, and constructor can be carried out from subclass\n",
    "\n",
    "\n",
    "super refers to superclass or parent objects"
   ]
  },
  {
   "cell_type": "code",
   "execution_count": 1,
   "metadata": {},
   "outputs": [],
   "source": [
    "// hack 1\n",
    "\n",
    "// Hacks 1\n",
    "private class Plane {\n",
    "    private String model = \"Boeing 737\";\n",
    "    private int age = 3; //two attributes\n",
    "\n",
    "    public void getAge(String model, int age) {\n",
    "        println(\"Age: \" + age);\n",
    "    }\n",
    "}\n",
    "\n",
    "private class Jet extends Plane {\n",
    "    private String color = \"blue\";\n",
    "    \n",
    "}"
   ]
  },
  {
   "attachments": {},
   "cell_type": "markdown",
   "metadata": {},
   "source": [
    "### Overload & Override\n",
    "\n",
    "\n",
    "Overload happens when there are two methods with same name but different arguments or parameters\n",
    "\n",
    "\n",
    "Method override happens when child class has the same method that is present in a parent class, overwrites base class method"
   ]
  },
  {
   "cell_type": "code",
   "execution_count": null,
   "metadata": {},
   "outputs": [],
   "source": [
    "public class Plane {\n",
    "    private String model = \"Boeing 737\";\n",
    "    private int age = 3;\n",
    "\n",
    "    public void engineBurr() {\n",
    "        System.out.println(\"brrrrrr\");\n",
    "    }\n",
    "}\n",
    "\n",
    "private class Jettison extends Plane {\n",
    "    public Jettison(String model, int age, String color) {\n",
    "        super(model, age); \n",
    "        this.color = color; \n",
    "\n",
    "        @Override\n",
    "        public void engineBurr() {\n",
    "        System.out.println(\"BRRRRRRRRR\"); \n",
    "    }\n",
    "\n",
    "}"
   ]
  },
  {
   "attachments": {},
   "cell_type": "markdown",
   "metadata": {},
   "source": [
    "### Polymorphism\n",
    "\n",
    "\n",
    "Ability of class to provide different implementations of methods, such as overloading, overriding, late binding"
   ]
  },
  {
   "cell_type": "code",
   "execution_count": null,
   "metadata": {},
   "outputs": [],
   "source": [
    "// hack 3\n",
    "\n",
    "private class Jets extends Plane {\n",
    "    @Override\n",
    "    public void getAge(String model, int age, String color) {\n",
    "        println(\"Age: \" + age);\n",
    "    }\n",
    "\n",
    "    public void getAge(int age, String color) {\n",
    "        println(\"Age: \" + age);\n",
    "    }\n",
    "}"
   ]
  }
 ],
 "metadata": {
  "kernelspec": {
   "display_name": "Java",
   "language": "java",
   "name": "java"
  },
  "language_info": {
   "codemirror_mode": "java",
   "file_extension": ".jshell",
   "mimetype": "text/x-java-source",
   "name": "java",
   "pygments_lexer": "java",
   "version": "17.0.5+8-Ubuntu-2ubuntu120.04"
  },
  "orig_nbformat": 4,
  "vscode": {
   "interpreter": {
    "hash": "916dbcbb3f70747c44a77c7bcd40155683ae19c65e1c03b4aa3499c5328201f1"
   }
  }
 },
 "nbformat": 4,
 "nbformat_minor": 2
}
