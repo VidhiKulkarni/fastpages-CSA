{
 "cells": [
  {
   "attachments": {},
   "cell_type": "markdown",
   "metadata": {},
   "source": [
    "# Unit 10\n",
    "> Unit 10\n",
    "\n",
    "- toc: true\n",
    "- badges: true\n",
    "- comments: true\n",
    "- categories: [fastpages, jupyter, ap exam unit]"
   ]
  },
  {
   "attachments": {},
   "cell_type": "markdown",
   "metadata": {},
   "source": [
    "Two parts to the method:\n",
    "\n",
    "- a base case\n",
    "- recursive call\n",
    "- After multiple calls, the base case is reached where recursion is stopped and a value is returned\n",
    "\n",
    "Should be written first to avoid infinite recursion"
   ]
  },
  {
   "cell_type": "code",
   "execution_count": null,
   "metadata": {},
   "outputs": [],
   "source": [
    "//example of base case\n",
    "int fact(int n)\n",
    "{\n",
    "    if (n < = 1) // base case\n",
    "        return 1;\n",
    "    else    \n",
    "        return n*fact(n-1);    \n",
    "}"
   ]
  },
  {
   "attachments": {},
   "cell_type": "markdown",
   "metadata": {},
   "source": [
    "### Binary Search\n",
    "\n",
    "Binary search algorithm\n",
    "\n",
    "\n",
    "Data must be in sorted order\n",
    "\n",
    "\n",
    "Keeps halving array until value is found\n",
    "\n",
    "\n",
    "More efficient than linear search (O(log2n) vs O(n))"
   ]
  },
  {
   "attachments": {},
   "cell_type": "markdown",
   "metadata": {},
   "source": [
    "### Big O notation\n",
    "\n",
    "\n",
    "How long an algorithm takes to run\n",
    "\n",
    "\n",
    "HashMap has O(1) which is same amount of time to execute\n",
    "\n",
    "\n",
    "Binary Search has O(log N) which means it takes an additional step each time data doubles\n",
    "\n",
    "\n",
    "Single and Nested loop is O(1)"
   ]
  },
  {
   "cell_type": "code",
   "execution_count": null,
   "metadata": {},
   "outputs": [],
   "source": [
    "// Java Program to Illustrate Recursive Binary Search\n",
    "import java.util.*;\n",
    " \n",
    "// Main class\n",
    "class Binary {\n",
    "    // Recursive binary search\n",
    "    // Returns index of x if it is present\n",
    "    // in arr[l..r], else return -1\n",
    "    int binarySearch(int arr[], int l, int r, int x)\n",
    "    {\n",
    "        // Restrict the boundary of right index\n",
    "        // and the left index to prevent\n",
    "        // overflow of indices\n",
    "        if (r >= l && l <= arr.length - 1) {\n",
    " \n",
    "            int mid = l + (r - l) / 2;\n",
    " \n",
    "            // If the element is present\n",
    "            // at the middle itself\n",
    "            if (arr[mid] == x)\n",
    "                return mid;\n",
    " \n",
    "            // If element is smaller than mid, then it can\n",
    "            // only be present in left subarray\n",
    "            if (arr[mid] > x)\n",
    "                return binarySearch(arr, l, mid - 1, x);\n",
    " \n",
    "            // Else the element can only be present\n",
    "            // in right subarray\n",
    "            return binarySearch(arr, mid + 1, r, x);\n",
    "        }\n",
    " \n",
    "        // We reach here when element is not present in\n",
    "        // array\n",
    "        return -1;\n",
    "    }\n",
    "  \n",
    "    \n",
    "}"
   ]
  },
  {
   "attachments": {},
   "cell_type": "markdown",
   "metadata": {},
   "source": [
    "### Linear Recursion\n",
    "\n",
    "\n",
    "A function that only makes a single call to itself each time the function runs (as opposed to one that would call itself multiple times during its execution)\n",
    "\n",
    "Selection Sort: The algorithm works by repeatedly finding the minimum element (considering ascending order) from the unsorted part and putting it at the end of the sorted part\n",
    "\n",
    "Merge Sort: It divides the input array into two halves, calls itself for the two halves, and then merges the two sorted halves"
   ]
  }
 ],
 "metadata": {
  "kernelspec": {
   "display_name": "Java",
   "language": "java",
   "name": "java"
  },
  "language_info": {
   "name": "java",
   "version": "3.8.10 (default, Jun 22 2022, 20:18:18) \n[GCC 9.4.0]"
  },
  "orig_nbformat": 4,
  "vscode": {
   "interpreter": {
    "hash": "916dbcbb3f70747c44a77c7bcd40155683ae19c65e1c03b4aa3499c5328201f1"
   }
  }
 },
 "nbformat": 4,
 "nbformat_minor": 2
}
