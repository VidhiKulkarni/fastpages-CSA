{
 "cells": [
  {
   "cell_type": "markdown",
   "metadata": {},
   "source": [
    "# Primitives Notes + Hacks\n",
    "> Temperature Converter\n",
    "\n",
    "- toc: true\n",
    "- badges: true\n",
    "- comments: true\n",
    "- categories: [fastpages, jupyter]"
   ]
  },
  {
   "cell_type": "markdown",
   "metadata": {},
   "source": [
    "## Temperature Converter (Celcius to Kelvin)"
   ]
  },
  {
   "cell_type": "code",
   "execution_count": 13,
   "metadata": {},
   "outputs": [
    {
     "name": "stdout",
     "output_type": "stream",
     "text": [
      "Enter your name: \n",
      "Hello Vidhi\n",
      "Are you in AP Chemistry: \n",
      "Your answer: True\n",
      "Enter a degree in Celsius: \n",
      "57.0 degree Celsius is equal to 330.0 in Celsius\n"
     ]
    }
   ],
   "source": [
    "import java.util.Scanner;\n",
    "public class CelciustoKelvin {\n",
    "    public static void main (String[] args) {\n",
    "        Scanner input;\n",
    "\n",
    "\n",
    "        input = new Scanner(System.in);\n",
    "        System.out.println(\"Enter your name: \");\n",
    "        String name = input.nextLine();\n",
    "        System.out.println(\"Hello \" + name );\n",
    "        input.close();\n",
    "\n",
    "        input = new Scanner(System.in);\n",
    "        System.out.println(\"Are you in AP Chemistry: \");\n",
    "        String chem = input.nextLine();\n",
    "        System.out.println(\"Your answer: \" + chem);\n",
    "        input.close();\n",
    "\n",
    "        input = new Scanner(System.in);\n",
    "        System.out.println(\"Enter a degree in Celsius: \");\n",
    "        double celsius = input.nextDouble();\n",
    "        double kelvin = (celsius + 273.0);\n",
    "        System.out.println( celsius + \" degree Celsius is equal to \" + kelvin + \" in Celsius\");\n",
    "        input.close();\n",
    "    }\n",
    "}\n",
    "CelciustoKelvin.main(null);"
   ]
  }
 ],
 "metadata": {
  "kernelspec": {
   "display_name": "Java",
   "language": "java",
   "name": "java"
  },
  "language_info": {
   "codemirror_mode": "java",
   "file_extension": ".jshell",
   "mimetype": "text/x-java-source",
   "name": "java",
   "pygments_lexer": "java",
   "version": "11.0.16+8-post-Ubuntu-0ubuntu120.04"
  },
  "orig_nbformat": 4
 },
 "nbformat": 4,
 "nbformat_minor": 2
}
