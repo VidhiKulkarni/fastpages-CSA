{
 "cells": [
  {
   "cell_type": "markdown",
   "metadata": {},
   "source": [
    "# Bash Notes + Hacks\n",
    "> Tech Talk\n",
    "\n",
    "- toc: true\n",
    "- badges: true\n",
    "- comments: true\n",
    "- categories: [fastpages, jupyter]"
   ]
  },
  {
   "cell_type": "markdown",
   "metadata": {},
   "source": [
    "## Introduction to Bash and Command Line"
   ]
  },
  {
   "cell_type": "code",
   "execution_count": 2,
   "metadata": {
    "vscode": {
     "languageId": "shellscript"
    }
   },
   "outputs": [
    {
     "name": "stdout",
     "output_type": "stream",
     "text": [
      "/home/vidhi/vscode/fastpages-CSA/_notebooks\n",
      "bash: cd: vscode: No such file or directory\n",
      "2020-02-20-test.ipynb             2022-8-23-primitives-hacks.ipynb\n",
      "2022-08-16-java-notebook.ipynb    README.md\n",
      "2022-08-16-python-notebook.ipynb  \u001b[0m\u001b[01;34mghtop_images\u001b[0m\n",
      "2022-26-08-primitives.ipynb       installationcheck.ipynb\n",
      "2022-8-22-bash-notebook.ipynb     \u001b[01;34mmy_icons\u001b[0m\n",
      "total 3176\n",
      "drwxr-xr-x 1 vidhi vidhi    4096 Aug 28 15:03 \u001b[0m\u001b[01;34m.\u001b[0m\n",
      "drwxr-xr-x 1 vidhi vidhi    4096 Aug 28 14:51 \u001b[01;34m..\u001b[0m\n",
      "-rw-r--r-- 1 vidhi vidhi 3162384 Aug 16 01:40 2020-02-20-test.ipynb\n",
      "-rw-r--r-- 1 vidhi vidhi    1228 Aug 22 10:28 2022-08-16-java-notebook.ipynb\n",
      "-rw-r--r-- 1 vidhi vidhi    1112 Aug 26 11:04 2022-08-16-python-notebook.ipynb\n",
      "-rw-r--r-- 1 vidhi vidhi   12963 Aug 28 14:51 2022-26-08-primitives.ipynb\n",
      "-rw-r--r-- 1 vidhi vidhi   29923 Aug 28 15:47 2022-8-22-bash-notebook.ipynb\n",
      "-rw-r--r-- 1 vidhi vidhi    1138 Aug 26 10:36 2022-8-23-primitives-hacks.ipynb\n",
      "-rw-r--r-- 1 vidhi vidhi     771 Aug 16 01:40 README.md\n",
      "drwxr-xr-x 1 vidhi vidhi    4096 Aug 16 01:40 \u001b[01;34mghtop_images\u001b[0m\n",
      "-rw-r--r-- 1 vidhi vidhi   19791 Aug 25 10:30 installationcheck.ipynb\n",
      "drwxr-xr-x 1 vidhi vidhi    4096 Aug 16 01:40 \u001b[01;34mmy_icons\u001b[0m\n",
      "# Auto-convert Jupyter Notebooks To Posts\n",
      "\n",
      "[`fastpages`](https://github.com/fastai/fastpages) will automatically convert [Jupyter](https://jupyter.org/) Notebooks saved into this directory as blog posts!\n",
      "\n",
      "You must save your notebook with the naming convention `YYYY-MM-DD-*.ipynb`.  Examples of valid filenames are:\n",
      "\n",
      "```shell\n",
      "2020-01-28-My-First-Post.ipynb\n",
      "2012-09-12-how-to-write-a-blog.ipynb\n",
      "```\n",
      "\n",
      "If you fail to name your file correctly, `fastpages` will automatically attempt to fix the problem by prepending the last modified date of your notebook. However, it is recommended that you name your files properly yourself for more transparency.\n",
      "\n",
      "See [Writing Blog Posts With Jupyter](https://github.com/fastai/fastpages#writing-blog-posts-with-jupyter) for more details.\n",
      "SHELL=/bin/bash\n",
      "PYTHONUNBUFFERED=1\n",
      "CONDA_EXE=/home/vidhi/miniconda3/bin/conda\n",
      "_CE_M=\n",
      "APPLICATION_INSIGHTS_NO_DIAGNOSTIC_CHANNEL=1\n",
      "WSL_DISTRO_NAME=Ubuntu\n",
      "ELECTRON_RUN_AS_NODE=1\n",
      "VSCODE_AMD_ENTRYPOINT=vs/workbench/api/node/extensionHostProcess\n",
      "NAME=LAPTOP-JFJT8QA2\n",
      "PWD=/home/vidhi/vscode/fastpages-CSA/_notebooks\n",
      "GSETTINGS_SCHEMA_DIR=/home/vidhi/miniconda3/share/glib-2.0/schemas\n",
      "LOGNAME=vidhi\n",
      "CONDA_PREFIX=/home/vidhi/miniconda3\n",
      "GSETTINGS_SCHEMA_DIR_CONDA_BACKUP=\n",
      "HOME=/home/vidhi\n",
      "LANG=C.UTF-8\n",
      "LS_COLORS=rs=0:di=01;34:ln=01;36:mh=00:pi=40;33:so=01;35:do=01;35:bd=40;33;01:cd=40;33;01:or=40;31;01:mi=00:su=37;41:sg=30;43:ca=30;41:tw=30;42:ow=34;42:st=37;44:ex=01;32:*.tar=01;31:*.tgz=01;31:*.arc=01;31:*.arj=01;31:*.taz=01;31:*.lha=01;31:*.lz4=01;31:*.lzh=01;31:*.lzma=01;31:*.tlz=01;31:*.txz=01;31:*.tzo=01;31:*.t7z=01;31:*.zip=01;31:*.z=01;31:*.dz=01;31:*.gz=01;31:*.lrz=01;31:*.lz=01;31:*.lzo=01;31:*.xz=01;31:*.zst=01;31:*.tzst=01;31:*.bz2=01;31:*.bz=01;31:*.tbz=01;31:*.tbz2=01;31:*.tz=01;31:*.deb=01;31:*.rpm=01;31:*.jar=01;31:*.war=01;31:*.ear=01;31:*.sar=01;31:*.rar=01;31:*.alz=01;31:*.ace=01;31:*.zoo=01;31:*.cpio=01;31:*.7z=01;31:*.rz=01;31:*.cab=01;31:*.wim=01;31:*.swm=01;31:*.dwm=01;31:*.esd=01;31:*.jpg=01;35:*.jpeg=01;35:*.mjpg=01;35:*.mjpeg=01;35:*.gif=01;35:*.bmp=01;35:*.pbm=01;35:*.pgm=01;35:*.ppm=01;35:*.tga=01;35:*.xbm=01;35:*.xpm=01;35:*.tif=01;35:*.tiff=01;35:*.png=01;35:*.svg=01;35:*.svgz=01;35:*.mng=01;35:*.pcx=01;35:*.mov=01;35:*.mpg=01;35:*.mpeg=01;35:*.m2v=01;35:*.mkv=01;35:*.webm=01;35:*.ogm=01;35:*.mp4=01;35:*.m4v=01;35:*.mp4v=01;35:*.vob=01;35:*.qt=01;35:*.nuv=01;35:*.wmv=01;35:*.asf=01;35:*.rm=01;35:*.rmvb=01;35:*.flc=01;35:*.avi=01;35:*.fli=01;35:*.flv=01;35:*.gl=01;35:*.dl=01;35:*.xcf=01;35:*.xwd=01;35:*.yuv=01;35:*.cgm=01;35:*.emf=01;35:*.ogv=01;35:*.ogx=01;35:*.aac=00;36:*.au=00;36:*.flac=00;36:*.m4a=00;36:*.mid=00;36:*.midi=00;36:*.mka=00;36:*.mp3=00;36:*.mpc=00;36:*.ogg=00;36:*.ra=00;36:*.wav=00;36:*.oga=00;36:*.opus=00;36:*.spx=00;36:*.xspf=00;36:\n",
      "CONDA_PROMPT_MODIFIER=(base) \n",
      "LESSCLOSE=/usr/bin/lesspipe %s %s\n",
      "VSCODE_HANDLES_SIGPIPE=true\n",
      "TERM=xterm-256color\n",
      "_CE_CONDA=\n",
      "LESSOPEN=| /usr/bin/lesspipe %s\n",
      "USER=vidhi\n",
      "PYTHONIOENCODING=utf-8\n",
      "CONDA_SHLVL=1\n",
      "SHLVL=1\n",
      "PAGER=cat\n",
      "VSCODE_CWD=/mnt/c/Users/ameya/AppData/Local/Programs/Microsoft VS Code\n",
      "CONDA_PYTHON_EXE=/home/vidhi/miniconda3/bin/python\n",
      "PS1=[PEXP\\[\\]ECT_PROMPT>\n",
      "CONDA_DEFAULT_ENV=base\n",
      "WSLENV=VSCODE_WSL_EXT_LOCATION/up\n",
      "VSCODE_WSL_EXT_LOCATION=/mnt/c/Users/ameya/.vscode/extensions/ms-vscode-remote.remote-wsl-0.66.3\n",
      "XDG_DATA_DIRS=/usr/local/share:/usr/share:/var/lib/snapd/desktop\n",
      "PATH=/home/vidhi/miniconda3/bin:/home/vidhi/.vscode-server/bin/e4503b30fc78200f846c62cf8091b76ff5547662/bin/remote-cli:/home/vidhi/.local/bin:/home/vidhi/miniconda3/bin:/home/vidhi/miniconda3/condabin:/home/vidhi/miniconda3/bin:/usr/local/sbin:/usr/local/bin:/usr/sbin:/usr/bin:/sbin:/bin:/usr/games:/usr/local/games:/mnt/c/Program Files (x86)/VMware/VMware Player/bin:/mnt/c/windows/system32:/mnt/c/windows:/mnt/c/windows/System32/Wbem:/mnt/c/windows/System32/WindowsPowerShell/v1.0:/mnt/c/windows/System32/OpenSSH:/mnt/c/Program Files (x86)/NVIDIA Corporation/PhysX/Common:/mnt/c/Program Files/NVIDIA Corporation/NVIDIA NvDLISR:/mnt/c/Program Files/Git/cmd:/mnt/c/WINDOWS/system32:/mnt/c/WINDOWS:/mnt/c/WINDOWS/System32/Wbem:/mnt/c/WINDOWS/System32/WindowsPowerShell/v1.0:/mnt/c/WINDOWS/System32/OpenSSH:/mnt/c/Users/ameya/AppData/Local/Microsoft/WindowsApps:/mnt/c/Users/ameya/AppData/Local/Programs/Microsoft VS Code/bin:/snap/bin\n",
      "VSCODE_NLS_CONFIG={\"locale\":\"en\",\"availableLanguages\":{}}\n",
      "HOSTTYPE=x86_64\n",
      "VSCODE_HANDLES_UNCAUGHT_ERRORS=true\n",
      "VSCODE_IPC_HOOK_CLI=/tmp/vscode-ipc-7511730b-a56b-4bd0-8796-8d1943a0a0e0.sock\n",
      "_=/usr/bin/env\n"
     ]
    }
   ],
   "source": [
    "# prints the working directory (the directory the user is currently in)\n",
    "pwd\n",
    "\n",
    "# changes the current directory (in this case to vscode)\n",
    "cd vscode\n",
    "\n",
    "# prints contents of the current directory not including hidden files\n",
    "ls\n",
    "\n",
    "# prints all contents of the current directory including hidden files\n",
    "ls -al\n",
    "\n",
    "## reads/prints the contents of the file (in this case README.md)\n",
    "cat README.md\n",
    "\n",
    "# print a certain line of text\n",
    "echo\n",
    "\n",
    "#print the environment variables in shell\n",
    "env\n",
    "\n",
    "#move inside directory of files\n",
    "cd $project"
   ]
  },
  {
   "cell_type": "markdown",
   "metadata": {},
   "source": [
    "- Python: don't have to declare data type before using it in code\n",
    "- Java: declare data type before using it in code\n",
    "\n",
    "- Runtime vs Ease of Syntax:\n",
    "    1. C (fastest runtime)\n",
    "    2. Java\n",
    "    3. Python (easier syntax)\n",
    "\n",
    "    \n",
    "- Extra Command: jupyter notebook [notebook_name] to run notebook in browser\n",
    "\n",
    "- config.yml - important file for settings on fastpages site\n",
    "    - formatted in key value pairs (ex. images)\n"
   ]
  },
  {
   "cell_type": "code",
   "execution_count": 3,
   "metadata": {
    "vscode": {
     "languageId": "shellscript"
    }
   },
   "outputs": [
    {
     "name": "stdout",
     "output_type": "stream",
     "text": [
      "Using conditional statement to create a project directory and project\n",
      "Directory /home/vidhi/vscode exists.\n",
      "Directory /home/vidhi/vscode/APCSA exists.\n"
     ]
    }
   ],
   "source": [
    "echo \"Using conditional statement to create a project directory and project\"\n",
    "\n",
    "# Variable section\n",
    "export project_dir=$HOME/vscode  # change vscode to different name to test git clone\n",
    "export project=$project_dir/APCSA  # change APCSP to name of project from git clone\n",
    "export project_repo=\"https://github.com/nighthawkcoders/APCSA.git\"  # change to project of choice\n",
    "\n",
    "cd ~    # start in home directory\n",
    "\n",
    "# Conditional block to make a project directory\n",
    "if [ ! -d $project_dir ]\n",
    "then \n",
    "    echo \"Directory $project_dir does not exists... makinng directory $project_dir\"\n",
    "    mkdir -p $project_dir\n",
    "fi\n",
    "echo \"Directory $project_dir exists.\" \n",
    "\n",
    "# Conditional block to git clone a project from project_repo\n",
    "if [ ! -d $project ]\n",
    "then\n",
    "    echo \"Directory $project does not exists... cloning $project_repo\"\n",
    "    cd $project_dir\n",
    "    git clone $project_repo\n",
    "    cd ~\n",
    "fi\n",
    "echo \"Directory $project exists.\""
   ]
  },
  {
   "cell_type": "code",
   "execution_count": 4,
   "metadata": {
    "vscode": {
     "languageId": "shellscript"
    }
   },
   "outputs": [
    {
     "name": "stdout",
     "output_type": "stream",
     "text": [
      "Navigate to project, then navigate to area wwhere files were cloned\n",
      "/home/vidhi/vscode/APCSA\n",
      "\n",
      "list top level or root of files with project pulled from github\n",
      "\u001b[0m\u001b[01;32mGemfile\u001b[0m    \u001b[01;34m_action_files\u001b[0m    \u001b[01;34m_layouts\u001b[0m    \u001b[01;34m_posts\u001b[0m  \u001b[01;32mdocker-compose.yml\u001b[0m\n",
      "LICENSE    _config.yml      \u001b[01;34m_notebooks\u001b[0m  \u001b[01;34m_sass\u001b[0m   \u001b[01;34mimages\u001b[0m\n",
      "\u001b[01;32mMakefile\u001b[0m   \u001b[01;34m_fastpages_docs\u001b[0m  \u001b[01;34m_pages\u001b[0m      \u001b[01;34m_word\u001b[0m   index.html\n",
      "\u001b[01;32mREADME.md\u001b[0m  \u001b[01;34m_includes\u001b[0m        \u001b[01;34m_plugins\u001b[0m    \u001b[01;34massets\u001b[0m\n",
      "\n",
      "list again with hidden files pulled from github\n",
      "\u001b[0m\u001b[01;34m.\u001b[0m                   .gitignore  \u001b[01;34m_action_files\u001b[0m    \u001b[01;34m_pages\u001b[0m    \u001b[01;32mdocker-compose.yml\u001b[0m\n",
      "\u001b[01;34m..\u001b[0m                  \u001b[01;34m.vscode\u001b[0m     _config.yml      \u001b[01;34m_plugins\u001b[0m  \u001b[01;34mimages\u001b[0m\n",
      ".devcontainer.json  \u001b[01;32mGemfile\u001b[0m     \u001b[01;34m_fastpages_docs\u001b[0m  \u001b[01;34m_posts\u001b[0m    index.html\n",
      "\u001b[01;34m.git\u001b[0m                LICENSE     \u001b[01;34m_includes\u001b[0m        \u001b[01;34m_sass\u001b[0m\n",
      ".gitattributes      \u001b[01;32mMakefile\u001b[0m    \u001b[01;34m_layouts\u001b[0m         \u001b[01;34m_word\u001b[0m\n",
      "\u001b[01;34m.github\u001b[0m             \u001b[01;32mREADME.md\u001b[0m   \u001b[01;34m_notebooks\u001b[0m       \u001b[01;34massets\u001b[0m\n",
      "\n",
      "list all files in long format\n",
      "total 40\n",
      "drwxr-xr-x 1 vidhi vidhi  4096 Aug 16 01:14 \u001b[0m\u001b[01;34m.\u001b[0m\n",
      "drwxr-xr-x 1 vidhi vidhi  4096 Aug 21 13:46 \u001b[01;34m..\u001b[0m\n",
      "-rw-r--r-- 1 vidhi vidhi   420 Aug 16 01:14 .devcontainer.json\n",
      "drwxr-xr-x 1 vidhi vidhi  4096 Aug 21 13:55 \u001b[01;34m.git\u001b[0m\n",
      "-rw-r--r-- 1 vidhi vidhi    84 Aug 16 01:14 .gitattributes\n",
      "drwxr-xr-x 1 vidhi vidhi  4096 Aug 16 01:14 \u001b[01;34m.github\u001b[0m\n",
      "-rw-r--r-- 1 vidhi vidhi   917 Aug 16 01:14 .gitignore\n",
      "drwxr-xr-x 1 vidhi vidhi  4096 Aug 16 01:14 \u001b[01;34m.vscode\u001b[0m\n",
      "-rwxr-xr-x 1 vidhi vidhi  1304 Aug 16 01:14 \u001b[01;32mGemfile\u001b[0m\n",
      "-rw-r--r-- 1 vidhi vidhi 11351 Aug 16 01:14 LICENSE\n",
      "-rwxr-xr-x 1 vidhi vidhi  1422 Aug 16 01:14 \u001b[01;32mMakefile\u001b[0m\n",
      "-rwxr-xr-x 1 vidhi vidhi  3614 Aug 16 01:14 \u001b[01;32mREADME.md\u001b[0m\n",
      "drwxr-xr-x 1 vidhi vidhi  4096 Aug 16 01:14 \u001b[01;34m_action_files\u001b[0m\n",
      "-rw-r--r-- 1 vidhi vidhi  3690 Aug 16 01:14 _config.yml\n",
      "drwxr-xr-x 1 vidhi vidhi  4096 Aug 16 01:14 \u001b[01;34m_fastpages_docs\u001b[0m\n",
      "drwxr-xr-x 1 vidhi vidhi  4096 Aug 16 01:14 \u001b[01;34m_includes\u001b[0m\n",
      "drwxr-xr-x 1 vidhi vidhi  4096 Aug 16 01:14 \u001b[01;34m_layouts\u001b[0m\n",
      "drwxr-xr-x 1 vidhi vidhi  4096 Aug 23 10:47 \u001b[01;34m_notebooks\u001b[0m\n",
      "drwxr-xr-x 1 vidhi vidhi  4096 Aug 21 13:55 \u001b[01;34m_pages\u001b[0m\n",
      "drwxr-xr-x 1 vidhi vidhi  4096 Aug 16 01:14 \u001b[01;34m_plugins\u001b[0m\n",
      "drwxr-xr-x 1 vidhi vidhi  4096 Aug 21 13:55 \u001b[01;34m_posts\u001b[0m\n",
      "drwxr-xr-x 1 vidhi vidhi  4096 Aug 16 01:14 \u001b[01;34m_sass\u001b[0m\n",
      "drwxr-xr-x 1 vidhi vidhi  4096 Aug 16 01:14 \u001b[01;34m_word\u001b[0m\n",
      "drwxr-xr-x 1 vidhi vidhi  4096 Aug 16 01:14 \u001b[01;34massets\u001b[0m\n",
      "-rwxr-xr-x 1 vidhi vidhi  1136 Aug 16 01:14 \u001b[01;32mdocker-compose.yml\u001b[0m\n",
      "drwxr-xr-x 1 vidhi vidhi  4096 Aug 21 13:55 \u001b[01;34mimages\u001b[0m\n",
      "-rw-r--r-- 1 vidhi vidhi  1030 Aug 16 01:14 index.html\n"
     ]
    }
   ],
   "source": [
    "echo \"Navigate to project, then navigate to area wwhere files were cloned\"\n",
    "cd $project\n",
    "pwd\n",
    "\n",
    "echo \"\"\n",
    "echo \"list top level or root of files with project pulled from github\"\n",
    "ls\n",
    "\n",
    "echo \"\"\n",
    "echo \"list again with hidden files pulled from github\"\n",
    "ls -a   # hidden files flag, many shell commands have flags\n",
    "\n",
    "echo \"\"\n",
    "echo \"list all files in long format\"\n",
    "ls -al   # all files and long listing"
   ]
  },
  {
   "cell_type": "code",
   "execution_count": 5,
   "metadata": {
    "vscode": {
     "languageId": "shellscript"
    }
   },
   "outputs": [
    {
     "name": "stdout",
     "output_type": "stream",
     "text": [
      "Look for posts\n",
      "/home/vidhi/vscode/APCSA/_posts\n",
      "total 212\n",
      "-rw-r--r-- 1 vidhi vidhi 10891 Aug 16 01:14 2022-06-01-TT150-spring_thymeleaf.md\n",
      "-rw-r--r-- 1 vidhi vidhi  4496 Aug 16 01:14 2022-06-14-TR200-historical_calendar.md\n",
      "-rw-r--r-- 1 vidhi vidhi  5232 Aug 16 01:14 2022-06-14-TR300-historical_calendar.md\n",
      "-rw-r--r-- 1 vidhi vidhi  5861 Aug 16 01:14 2022-07-07-PBL-FE-binary.md\n",
      "-rw-r--r-- 1 vidhi vidhi  3085 Aug 16 01:14 2022-07-08-PBL-FE-grade_calc.md\n",
      "-rw-r--r-- 1 vidhi vidhi  3698 Aug 16 01:14 2022-07-08-PBL-FE-graph.md\n",
      "-rw-r--r-- 1 vidhi vidhi  5729 Aug 16 01:14 2022-07-08-PBL-FE-life.md\n",
      "-rw-r--r-- 1 vidhi vidhi 14387 Aug 16 01:14 2022-07-08-PBL-FE-snake.md\n",
      "-rw-r--r-- 1 vidhi vidhi  4049 Aug 16 01:14 2022-07-10-PBL-covid19.md\n",
      "-rw-r--r-- 1 vidhi vidhi   484 Aug 16 01:14 2022-07-10-PBL-database.md\n",
      "-rw-r--r-- 1 vidhi vidhi  2981 Aug 16 01:14 2022-07-10-PBL-jokes.md\n",
      "-rw-r--r-- 1 vidhi vidhi  6670 Aug 16 01:14 2022-07-19-PBL-calculator.md\n",
      "-rw-r--r-- 1 vidhi vidhi  3890 Aug 16 01:14 2022-07-29-workshop.md\n",
      "-rw-r--r-- 1 vidhi vidhi  3193 Aug 16 01:14 2022-08-15-TP100-college_board_history.md\n",
      "-rw-r--r-- 1 vidhi vidhi  8042 Aug 21 13:55 2022-08-15-TR100-introduction.md\n",
      "-rw-r--r-- 1 vidhi vidhi 17148 Aug 21 13:55 2022-08-15-TT100-tools.md\n",
      "-rw-r--r-- 1 vidhi vidhi  5590 Aug 21 13:55 2022-08-15-TT101-vscode-wsl.md\n",
      "-rw-r--r-- 1 vidhi vidhi  1933 Aug 16 01:14 2022-08-22-TR110-pair_innovation.md\n",
      "-rw-r--r-- 1 vidhi vidhi 10592 Aug 16 01:14 2022-08-22-TT110-agile.md\n",
      "-rw-r--r-- 1 vidhi vidhi  5116 Aug 16 01:14 2022-08-22-TT110-fastpages.md\n",
      "-rw-r--r-- 1 vidhi vidhi  1498 Aug 16 01:14 2022-08-29-TR120-team_innovation.md\n",
      "-rw-r--r-- 1 vidhi vidhi  2941 Aug 16 01:14 2022-08-29-TT120-focus.md\n",
      "-rw-r--r-- 1 vidhi vidhi  1100 Aug 16 01:14 2022-09-05-TR130-creative_development.md\n",
      "-rw-r--r-- 1 vidhi vidhi 19946 Aug 16 01:14 2022-09-05-TT130-deploy.md\n",
      "-rw-r--r-- 1 vidhi vidhi  3182 Aug 16 01:14 2022-09-05-TT130-spring_boot.md\n",
      "-rw-r--r-- 1 vidhi vidhi   720 Aug 16 01:14 README.md\n",
      "-rw-r--r-- 1 vidhi vidhi 13042 Aug 16 01:14 \u001b[0m\u001b[01;35mgood_life.jpeg\u001b[0m\n"
     ]
    }
   ],
   "source": [
    "echo \"Look for posts\"\n",
    "export posts=$project/_posts  # _posts inside project\n",
    "cd $posts  # this should exist per fastpages\n",
    "pwd  # present working directory\n",
    "ls -l  # list posts"
   ]
  },
  {
   "cell_type": "code",
   "execution_count": 6,
   "metadata": {
    "vscode": {
     "languageId": "shellscript"
    }
   },
   "outputs": [
    {
     "name": "stdout",
     "output_type": "stream",
     "text": [
      "Look for images in notebooks, print working directory, list files\n",
      "bash: cd: /images: No such file or directory\n",
      "/home/vidhi/vscode/APCSA/_posts\n",
      "total 212\n",
      "-rw-r--r-- 1 vidhi vidhi 10891 Aug 16 01:14 2022-06-01-TT150-spring_thymeleaf.md\n",
      "-rw-r--r-- 1 vidhi vidhi  4496 Aug 16 01:14 2022-06-14-TR200-historical_calendar.md\n",
      "-rw-r--r-- 1 vidhi vidhi  5232 Aug 16 01:14 2022-06-14-TR300-historical_calendar.md\n",
      "-rw-r--r-- 1 vidhi vidhi  5861 Aug 16 01:14 2022-07-07-PBL-FE-binary.md\n",
      "-rw-r--r-- 1 vidhi vidhi  3085 Aug 16 01:14 2022-07-08-PBL-FE-grade_calc.md\n",
      "-rw-r--r-- 1 vidhi vidhi  3698 Aug 16 01:14 2022-07-08-PBL-FE-graph.md\n",
      "-rw-r--r-- 1 vidhi vidhi  5729 Aug 16 01:14 2022-07-08-PBL-FE-life.md\n",
      "-rw-r--r-- 1 vidhi vidhi 14387 Aug 16 01:14 2022-07-08-PBL-FE-snake.md\n",
      "-rw-r--r-- 1 vidhi vidhi  4049 Aug 16 01:14 2022-07-10-PBL-covid19.md\n",
      "-rw-r--r-- 1 vidhi vidhi   484 Aug 16 01:14 2022-07-10-PBL-database.md\n",
      "-rw-r--r-- 1 vidhi vidhi  2981 Aug 16 01:14 2022-07-10-PBL-jokes.md\n",
      "-rw-r--r-- 1 vidhi vidhi  6670 Aug 16 01:14 2022-07-19-PBL-calculator.md\n",
      "-rw-r--r-- 1 vidhi vidhi  3890 Aug 16 01:14 2022-07-29-workshop.md\n",
      "-rw-r--r-- 1 vidhi vidhi  3193 Aug 16 01:14 2022-08-15-TP100-college_board_history.md\n",
      "-rw-r--r-- 1 vidhi vidhi  8042 Aug 21 13:55 2022-08-15-TR100-introduction.md\n",
      "-rw-r--r-- 1 vidhi vidhi 17148 Aug 21 13:55 2022-08-15-TT100-tools.md\n",
      "-rw-r--r-- 1 vidhi vidhi  5590 Aug 21 13:55 2022-08-15-TT101-vscode-wsl.md\n",
      "-rw-r--r-- 1 vidhi vidhi  1933 Aug 16 01:14 2022-08-22-TR110-pair_innovation.md\n",
      "-rw-r--r-- 1 vidhi vidhi 10592 Aug 16 01:14 2022-08-22-TT110-agile.md\n",
      "-rw-r--r-- 1 vidhi vidhi  5116 Aug 16 01:14 2022-08-22-TT110-fastpages.md\n",
      "-rw-r--r-- 1 vidhi vidhi  1498 Aug 16 01:14 2022-08-29-TR120-team_innovation.md\n",
      "-rw-r--r-- 1 vidhi vidhi  2941 Aug 16 01:14 2022-08-29-TT120-focus.md\n",
      "-rw-r--r-- 1 vidhi vidhi  1100 Aug 16 01:14 2022-09-05-TR130-creative_development.md\n",
      "-rw-r--r-- 1 vidhi vidhi 19946 Aug 16 01:14 2022-09-05-TT130-deploy.md\n",
      "-rw-r--r-- 1 vidhi vidhi  3182 Aug 16 01:14 2022-09-05-TT130-spring_boot.md\n",
      "-rw-r--r-- 1 vidhi vidhi   720 Aug 16 01:14 README.md\n",
      "-rw-r--r-- 1 vidhi vidhi 13042 Aug 16 01:14 \u001b[0m\u001b[01;35mgood_life.jpeg\u001b[0m\n"
     ]
    }
   ],
   "source": [
    "echo \"Look for images in notebooks, print working directory, list files\"\n",
    "cd $notebooks/images  # this should exist per fastpages\n",
    "pwd\n",
    "ls -l"
   ]
  },
  {
   "cell_type": "code",
   "execution_count": 7,
   "metadata": {
    "vscode": {
     "languageId": "shellscript"
    }
   },
   "outputs": [
    {
     "name": "stdout",
     "output_type": "stream",
     "text": [
      "Navigate to project, then navigate to area wwhere files were cloned\n",
      "show the contents of README.md\n",
      "\n",
      "[//]: # (This template replaces README.md when someone creates a new repo with the fastpages template.)\n",
      "\n",
      "![](https://github.com/nighthawkcoders/APCSA/workflows/CI/badge.svg) \n",
      "![](https://github.com/nighthawkcoders/APCSA/workflows/GH-Pages%20Status/badge.svg) \n",
      "[![](https://img.shields.io/static/v1?label=fastai&message=fastpages&color=57aeac&labelColor=black&style=flat&logo=data:image/png;base64,iVBORw0KGgoAAAANSUhEUgAAABkAAAAjCAYAAABhCKGoAAAGMklEQVR42q1Xa0xTVxyfKExlui9blszoB12yDzPGzJhtyT5s+zBxUxELBQSHm2ZzU5epBF/LclXae29pCxR5VEGgLQUuIOKDuClhm8oUK7S9ve19tLTl/fA5p9MNc/Y/hRYEzGLxJL/87zk9Ob/zf5++NGHMALzYgdDYmWh0Qly3Lybtwi6lXdpN2cWN5A0+hrQKe5R2PoN2uD+OKcn/UF5ZsVduMmyXVRi+jzebdmI5/juhwrgj3mTI2GA0vvsUIcMwM7GkOD42t7Mf6bqHkFry2yk7X5PXcxMVDN5DGtFf9NkJfe6W5iaUyFShjfV1KPlk7VPAa0k11WjzL+eRvMJ4IKQO0dw8SydJL+Op0u5cn+3tQTn+fqTivTbQpiavF0iG7iGt6NevKjpKpTbUo3hj+QO47XB8hfHfIGAelA+T6mqQzFi+e0oTKm3iexQnXaU56ZrK5SlVsq70LMF7TuX0XNTyvi1rThzLST3TgOCgxwD0DPwDGoE07QkcSl/m5ynbHWmZVm6b0sp9o2DZN8aTZtqk9w9b2G2HLbbvsjlx+fry0vwU0OS5SH68Ylmilny3c3x9SOvpRuQN7hO8vqulZQ6WJMuXFAzcRfkDd5BG8B1bpc+nU0+fQtgkYLIngOEJwGt/J9UxCIJg1whJ05Ul4IMejbsLqUUfOjJKQnCDr4ySHMeO1/UMIa3UmR9TUpj7ZdMFJK8yo6RaZjLAF/JqM/rifCO+yP4AycGmlgUaT9cZ0OYP2um5prjBLhtvLhy68Fs7RFqbRvSlf15ybGdyLcPJmcpfIcIuT4nqqt+Sa2vaZaby1FB+JGi1c9INhuiv9fpIysItIh3CVgVAzXfEE1evzse/bwr8bolcAXs+zcqKXksQc5+FD2D/svT06I8IYtaUeZLZzsVm+3oRDmON1Ok/2NKyIJSs0xnj84RknXG6zgGEE1It+rsPtrYuDOxBKAJLrO1qnW7+OpqeNxF4HWv6v4Rql3uFRvL/DATnc/29x4lmy2t4fXVjY+ASGwylm8DBvkSm2gpgx1Bpg4hyyysqVoUuFRw0z8+jXe40yiFsp1lpC9navlJpE9JIh7RVwfJywmKZO4Hkh02NZ1FilfkJLi1B4GhLPduAZGazHO9LGDX/WAj7+npzwUQqvuOBoo1Va91dj3Tdgyinc0Dae+HyIrxvc2npbCxlxrJvcW3CeSKDMhKCoexRYnUlSqg0xU0iIS5dXwzm6c/x9iKKEx8q2lkV5RARJCcm9We2sgsZhGZmgMYjJOU7UhpOIqhRwwlmEwrBZHgCBRKkKX4ySVvbmzQnXoSDHWCyS6SV20Ha+VaSFTiSE8/ttVheDe4NarLxVB1kdE0fYAgjGaOWGYD1vxKrqmInkSBchRkmiuC4KILhonAo4+9gWVHYnElQMEsAxbRDSHtp7dq5CRWly2VlZe/EFRcvDcBQvBTPZeXly1JMpvlThzBBRASBoDsSBIpgOBQV6C+sUJzffwflQX8BTevCTZMZeoslUo9QJJZYTZDw3RuIKtIhlhXdfhDoJ7TTXY/XdBBpgUshwFMSRYTVwim7FJvt6aFyOnoVKqc7MZQDzzNwsmnd3UegCudl8R2qzHZ7bJbQoYGyn692+zMULCfXenoOacTOTBUnJYRFsq+5+a3sjp5BXM6hEz7ObHNoVEIHyocekiX6WIiykwWDd1HhzT8RzY2YqxnK0HNQBJtW500ddiwrDgdIeCABZ4MPnKQdk9xDhUP3wfHSqbBI9v/e9jo0Iy30cCOgAMyVgMMVCMwql/cQxfKp2R1dWWrRm0PzUkrIXC9ykDY+hnJ5DqkE709guriwSRgGzWTQCPABWJZ6vbNHQlgo099+CCEMPnF6xnwynYETEWd8ls0WPUpSWnTrfuAhAWacPslUiQRNLBGXFSA7TrL8V3gNhesTnLFY0jb+bYWVp0i7SClY184jVtcayi7so2yuA0r4npbjsV8CJHZhPQ7no323cJ5w8FqpLwR/YJNRnHs0hNGs6ZFw/Lpsb+9oj/dZSbuL0XUNojx4d9Gch5mOT0ImINsdKyHzT9Muz1lcXhRWbo9a8J3B72H8Lg6+bKb1hyWMPeERBXMGRxEBCM7Ddfh/1jDuWhb5+QkAAAAASUVORK5CYII=)](https://github.com/fastai/fastpages)\n",
      "\n",
      "https://nighthawkcoders.github.io/APCSA/\n",
      "\n",
      "# My Blog\n",
      "\n",
      "\n",
      "_powered by [fastpages](https://github.com/fastai/fastpages)_\n",
      "\n",
      "\n",
      "## What To Do Next?\n",
      "\n",
      "Great!  You have setup your repo.  Now its time to start writing content.  Some helpful links:\n",
      "\n",
      "- [Writing Blogs With Jupyter](https://github.com/fastai/fastpages#writing-blog-posts-with-jupyter)\n",
      "\n",
      "- [Writing Blogs With Markdown](https://github.com/fastai/fastpages#writing-blog-posts-with-markdown)\n",
      "\n",
      "- [Writing Blog Posts With Word](https://github.com/fastai/fastpages#writing-blog-posts-with-microsoft-word)\n",
      "\n",
      "- [(Optional) Preview Your Blog Locally](_fastpages_docs/DEVELOPMENT.md)\n",
      "\n",
      "Note: you may want to remove example blog posts from the `_posts`,  `_notebooks` or `_word` folders (but leave them empty, don't delete these folders) if you don't want these blog posts to appear on your site.\n",
      "\n",
      "Please use the [nbdev & blogging channel](https://forums.fast.ai/c/fastai-users/nbdev/48) in the fastai forums for any questions or feature requests.\n",
      "\n",
      "end of README.md\n"
     ]
    }
   ],
   "source": [
    "echo \"Navigate to project, then navigate to area wwhere files were cloned\"\n",
    "\n",
    "cd $project\n",
    "echo \"show the contents of README.md\"\n",
    "echo \"\"\n",
    "\n",
    "cat README.md  # show contents of file, in this case markdown\n",
    "echo \"\"\n",
    "echo \"end of README.md\""
   ]
  },
  {
   "cell_type": "code",
   "execution_count": 8,
   "metadata": {
    "vscode": {
     "languageId": "shellscript"
    }
   },
   "outputs": [
    {
     "name": "stdout",
     "output_type": "stream",
     "text": [
      "Show the shell environment variables, key on left of equal value on right\n",
      "\n",
      "SHELL=/bin/bash\n",
      "PYTHONUNBUFFERED=1\n",
      "project=/home/vidhi/vscode/APCSA\n",
      "CONDA_EXE=/home/vidhi/miniconda3/bin/conda\n",
      "_CE_M=\n",
      "APPLICATION_INSIGHTS_NO_DIAGNOSTIC_CHANNEL=1\n",
      "WSL_DISTRO_NAME=Ubuntu\n",
      "ELECTRON_RUN_AS_NODE=1\n",
      "VSCODE_AMD_ENTRYPOINT=vs/workbench/api/node/extensionHostProcess\n",
      "NAME=LAPTOP-JFJT8QA2\n",
      "PWD=/home/vidhi/vscode/APCSA\n",
      "GSETTINGS_SCHEMA_DIR=/home/vidhi/miniconda3/share/glib-2.0/schemas\n",
      "LOGNAME=vidhi\n",
      "CONDA_PREFIX=/home/vidhi/miniconda3\n",
      "GSETTINGS_SCHEMA_DIR_CONDA_BACKUP=\n",
      "project_dir=/home/vidhi/vscode\n",
      "HOME=/home/vidhi\n",
      "LANG=C.UTF-8\n",
      "LS_COLORS=rs=0:di=01;34:ln=01;36:mh=00:pi=40;33:so=01;35:do=01;35:bd=40;33;01:cd=40;33;01:or=40;31;01:mi=00:su=37;41:sg=30;43:ca=30;41:tw=30;42:ow=34;42:st=37;44:ex=01;32:*.tar=01;31:*.tgz=01;31:*.arc=01;31:*.arj=01;31:*.taz=01;31:*.lha=01;31:*.lz4=01;31:*.lzh=01;31:*.lzma=01;31:*.tlz=01;31:*.txz=01;31:*.tzo=01;31:*.t7z=01;31:*.zip=01;31:*.z=01;31:*.dz=01;31:*.gz=01;31:*.lrz=01;31:*.lz=01;31:*.lzo=01;31:*.xz=01;31:*.zst=01;31:*.tzst=01;31:*.bz2=01;31:*.bz=01;31:*.tbz=01;31:*.tbz2=01;31:*.tz=01;31:*.deb=01;31:*.rpm=01;31:*.jar=01;31:*.war=01;31:*.ear=01;31:*.sar=01;31:*.rar=01;31:*.alz=01;31:*.ace=01;31:*.zoo=01;31:*.cpio=01;31:*.7z=01;31:*.rz=01;31:*.cab=01;31:*.wim=01;31:*.swm=01;31:*.dwm=01;31:*.esd=01;31:*.jpg=01;35:*.jpeg=01;35:*.mjpg=01;35:*.mjpeg=01;35:*.gif=01;35:*.bmp=01;35:*.pbm=01;35:*.pgm=01;35:*.ppm=01;35:*.tga=01;35:*.xbm=01;35:*.xpm=01;35:*.tif=01;35:*.tiff=01;35:*.png=01;35:*.svg=01;35:*.svgz=01;35:*.mng=01;35:*.pcx=01;35:*.mov=01;35:*.mpg=01;35:*.mpeg=01;35:*.m2v=01;35:*.mkv=01;35:*.webm=01;35:*.ogm=01;35:*.mp4=01;35:*.m4v=01;35:*.mp4v=01;35:*.vob=01;35:*.qt=01;35:*.nuv=01;35:*.wmv=01;35:*.asf=01;35:*.rm=01;35:*.rmvb=01;35:*.flc=01;35:*.avi=01;35:*.fli=01;35:*.flv=01;35:*.gl=01;35:*.dl=01;35:*.xcf=01;35:*.xwd=01;35:*.yuv=01;35:*.cgm=01;35:*.emf=01;35:*.ogv=01;35:*.ogx=01;35:*.aac=00;36:*.au=00;36:*.flac=00;36:*.m4a=00;36:*.mid=00;36:*.midi=00;36:*.mka=00;36:*.mp3=00;36:*.mpc=00;36:*.ogg=00;36:*.ra=00;36:*.wav=00;36:*.oga=00;36:*.opus=00;36:*.spx=00;36:*.xspf=00;36:\n",
      "CONDA_PROMPT_MODIFIER=(base) \n",
      "posts=/home/vidhi/vscode/APCSA/_posts\n",
      "LESSCLOSE=/usr/bin/lesspipe %s %s\n",
      "VSCODE_HANDLES_SIGPIPE=true\n",
      "TERM=xterm-256color\n",
      "_CE_CONDA=\n",
      "LESSOPEN=| /usr/bin/lesspipe %s\n",
      "USER=vidhi\n",
      "PYTHONIOENCODING=utf-8\n",
      "CONDA_SHLVL=1\n",
      "SHLVL=1\n",
      "PAGER=cat\n",
      "project_repo=https://github.com/nighthawkcoders/APCSA.git\n",
      "VSCODE_CWD=/mnt/c/Users/ameya/AppData/Local/Programs/Microsoft VS Code\n",
      "CONDA_PYTHON_EXE=/home/vidhi/miniconda3/bin/python\n",
      "PS1=[PEXP\\[\\]ECT_PROMPT>\n",
      "CONDA_DEFAULT_ENV=base\n",
      "WSLENV=VSCODE_WSL_EXT_LOCATION/up\n",
      "VSCODE_WSL_EXT_LOCATION=/mnt/c/Users/ameya/.vscode/extensions/ms-vscode-remote.remote-wsl-0.66.3\n",
      "PATH=/home/vidhi/miniconda3/bin:/home/vidhi/miniconda3/condabin:/home/vidhi/miniconda3/bin:/home/vidhi/.vscode-server/bin/e4503b30fc78200f846c62cf8091b76ff5547662/bin/remote-cli:/usr/local/sbin:/usr/local/bin:/usr/sbin:/usr/bin:/sbin:/bin:/usr/games:/usr/local/games:/mnt/c/Program Files (x86)/VMware/VMware Player/bin:/mnt/c/windows/system32:/mnt/c/windows:/mnt/c/windows/System32/Wbem:/mnt/c/windows/System32/WindowsPowerShell/v1.0:/mnt/c/windows/System32/OpenSSH:/mnt/c/Program Files (x86)/NVIDIA Corporation/PhysX/Common:/mnt/c/Program Files/NVIDIA Corporation/NVIDIA NvDLISR:/mnt/c/Program Files/Git/cmd:/mnt/c/WINDOWS/system32:/mnt/c/WINDOWS:/mnt/c/WINDOWS/System32/Wbem:/mnt/c/WINDOWS/System32/WindowsPowerShell/v1.0:/mnt/c/WINDOWS/System32/OpenSSH:/mnt/c/Users/ameya/AppData/Local/Microsoft/WindowsApps:/mnt/c/Users/ameya/AppData/Local/Programs/Microsoft VS Code/bin\n",
      "VSCODE_NLS_CONFIG={\"locale\":\"en\",\"availableLanguages\":{}}\n",
      "HOSTTYPE=x86_64\n",
      "VSCODE_HANDLES_UNCAUGHT_ERRORS=true\n",
      "OLDPWD=/home/vidhi/vscode/APCSA/_posts\n",
      "VSCODE_IPC_HOOK_CLI=/tmp/vscode-ipc-d9dde67f-db31-4b53-a72d-0fede6729b7d.sock\n",
      "_=/usr/bin/env\n"
     ]
    }
   ],
   "source": [
    "echo \"Show the shell environment variables, key on left of equal value on right\"\n",
    "echo \"\"\n",
    "\n",
    "env"
   ]
  },
  {
   "cell_type": "code",
   "execution_count": 9,
   "metadata": {
    "vscode": {
     "languageId": "shellscript"
    }
   },
   "outputs": [
    {
     "name": "stdout",
     "output_type": "stream",
     "text": [
      "\n",
      "show the secrets of .git\n",
      "total 20\n",
      "-rw-r--r-- 1 vidhi vidhi    30 Aug 21 13:55 COMMIT_EDITMSG\n",
      "-rw-r--r-- 1 vidhi vidhi   347 Aug 21 15:51 FETCH_HEAD\n",
      "-rw-r--r-- 1 vidhi vidhi    23 Aug 16 01:14 HEAD\n",
      "-rw-r--r-- 1 vidhi vidhi    41 Aug 21 13:55 ORIG_HEAD\n",
      "drwxr-xr-x 1 vidhi vidhi  4096 Aug 16 01:14 \u001b[0m\u001b[01;34mbranches\u001b[0m\n",
      "-rw-r--r-- 1 vidhi vidhi   386 Aug 21 13:55 config\n",
      "-rw-r--r-- 1 vidhi vidhi    73 Aug 16 01:14 description\n",
      "drwxr-xr-x 1 vidhi vidhi  4096 Aug 16 01:14 \u001b[01;34mhooks\u001b[0m\n",
      "-rw-r--r-- 1 vidhi vidhi 19950 Aug 21 13:55 index\n",
      "drwxr-xr-x 1 vidhi vidhi  4096 Aug 16 01:14 \u001b[01;34minfo\u001b[0m\n",
      "drwxr-xr-x 1 vidhi vidhi  4096 Aug 16 01:14 \u001b[01;34mlogs\u001b[0m\n",
      "drwxr-xr-x 1 vidhi vidhi  4096 Aug 21 13:55 \u001b[01;34mobjects\u001b[0m\n",
      "-rw-r--r-- 1 vidhi vidhi    46 Aug 21 13:55 packed-refs\n",
      "drwxr-xr-x 1 vidhi vidhi  4096 Aug 16 01:14 \u001b[01;34mrefs\u001b[0m\n",
      "\n",
      "look at config file\n",
      "[core]\n",
      "\trepositoryformatversion = 0\n",
      "\tfilemode = true\n",
      "\tbare = false\n",
      "\tlogallrefupdates = true\n",
      "[remote \"upstream\"]\n",
      "\turl = https://github.com/nighthawkcoders/APCSA.git\n",
      "\tfetch = +refs/heads/*:refs/remotes/upstream/*\n",
      "[branch \"master\"]\n",
      "\tremote = origin\n",
      "\tmerge = refs/heads/master\n",
      "[remote \"origin\"]\n",
      "\turl = https://github.com/VidhiKulkarni/APCSA.git\n",
      "\tfetch = +refs/heads/*:refs/remotes/origin/*\n"
     ]
    }
   ],
   "source": [
    "cd $project\n",
    "\n",
    "echo \"\"\n",
    "echo \"show the secrets of .git\"\n",
    "cd .git\n",
    "ls -l\n",
    "\n",
    "echo \"\"\n",
    "echo \"look at config file\"\n",
    "cat config"
   ]
  },
  {
   "cell_type": "markdown",
   "metadata": {},
   "source": [
    "# Check Installations"
   ]
  },
  {
   "cell_type": "markdown",
   "metadata": {},
   "source": [
    "## Python"
   ]
  },
  {
   "cell_type": "code",
   "execution_count": 10,
   "metadata": {
    "vscode": {
     "languageId": "shellscript"
    }
   },
   "outputs": [
    {
     "name": "stdout",
     "output_type": "stream",
     "text": [
      "Python 3.9.13\n",
      "Python 2.7.18\n"
     ]
    }
   ],
   "source": [
    "python --version\n",
    "python2 --version"
   ]
  },
  {
   "cell_type": "markdown",
   "metadata": {},
   "source": [
    "## Java"
   ]
  },
  {
   "cell_type": "code",
   "execution_count": 3,
   "metadata": {
    "vscode": {
     "languageId": "shellscript"
    }
   },
   "outputs": [
    {
     "name": "stdout",
     "output_type": "stream",
     "text": [
      "openjdk 11.0.16 2022-07-19\n",
      "OpenJDK Runtime Environment (build 11.0.16+8-post-Ubuntu-0ubuntu120.04)\n",
      "OpenJDK 64-Bit Server VM (build 11.0.16+8-post-Ubuntu-0ubuntu120.04, mixed mode, sharing)\n",
      "javac 11.0.16\n"
     ]
    }
   ],
   "source": [
    "java --version\n",
    "javac --version"
   ]
  },
  {
   "cell_type": "markdown",
   "metadata": {},
   "source": [
    "## JavaScript"
   ]
  },
  {
   "cell_type": "code",
   "execution_count": 9,
   "metadata": {
    "vscode": {
     "languageId": "shellscript"
    }
   },
   "outputs": [
    {
     "name": "stdout",
     "output_type": "stream",
     "text": [
      "8.15.0\n"
     ]
    }
   ],
   "source": [
    "npm --version"
   ]
  },
  {
   "cell_type": "markdown",
   "metadata": {},
   "source": [
    "## Anaconda"
   ]
  },
  {
   "cell_type": "code",
   "execution_count": 4,
   "metadata": {
    "vscode": {
     "languageId": "shellscript"
    }
   },
   "outputs": [
    {
     "name": "stdout",
     "output_type": "stream",
     "text": [
      "conda 4.14.0\n"
     ]
    }
   ],
   "source": [
    "conda --version"
   ]
  },
  {
   "cell_type": "code",
   "execution_count": 5,
   "metadata": {
    "vscode": {
     "languageId": "shellscript"
    }
   },
   "outputs": [
    {
     "name": "stdout",
     "output_type": "stream",
     "text": [
      "# packages in environment at /home/vidhi/miniconda3:\n",
      "#\n",
      "# Name                    Version                   Build  Channel\n",
      "_libgcc_mutex             0.1                 conda_forge    conda-forge\n",
      "_openmp_mutex             4.5                       2_gnu    conda-forge\n",
      "alsa-lib                  1.2.6.1              h7f98852_0    conda-forge\n",
      "argon2-cffi               21.3.0             pyhd8ed1ab_0    conda-forge\n",
      "argon2-cffi-bindings      21.2.0           py39hb9d737c_2    conda-forge\n",
      "asttokens                 2.0.8              pyhd8ed1ab_0    conda-forge\n",
      "attr                      2.5.1                h166bdaf_1    conda-forge\n",
      "attrs                     22.1.0             pyh71513ae_1    conda-forge\n",
      "backcall                  0.2.0              pyh9f0ad1d_0    conda-forge\n",
      "backports                 1.0                        py_2    conda-forge\n",
      "backports.functools_lru_cache 1.6.4              pyhd8ed1ab_0    conda-forge\n",
      "bash-kernel               0.7.2                    pypi_0    pypi\n",
      "beautifulsoup4            4.11.1             pyha770c72_0    conda-forge\n",
      "bleach                    5.0.1              pyhd8ed1ab_0    conda-forge\n",
      "brotlipy                  0.7.0           py39hb9d737c_1004    conda-forge\n",
      "bzip2                     1.0.8                h7f98852_4    conda-forge\n",
      "ca-certificates           2022.6.15            ha878542_0    conda-forge\n",
      "certifi                   2022.6.15        py39hf3d152e_0    conda-forge\n",
      "cffi                      1.15.1           py39he91dace_0    conda-forge\n",
      "charset-normalizer        2.1.0              pyhd8ed1ab_0    conda-forge\n",
      "colorama                  0.4.5              pyhd8ed1ab_0    conda-forge\n",
      "conda                     4.14.0           py39hf3d152e_0    conda-forge\n",
      "conda-package-handling    1.8.1            py39hb9d737c_1    conda-forge\n",
      "cryptography              37.0.1           py39h9ce1e76_0  \n",
      "dbus                      1.13.6               h5008d03_3    conda-forge\n",
      "debugpy                   1.6.3            py39h5a03fae_0    conda-forge\n",
      "decorator                 5.1.1              pyhd8ed1ab_0    conda-forge\n",
      "defusedxml                0.7.1              pyhd8ed1ab_0    conda-forge\n",
      "entrypoints               0.4                pyhd8ed1ab_0    conda-forge\n",
      "executing                 0.10.0             pyhd8ed1ab_0    conda-forge\n",
      "expat                     2.4.8                h27087fc_0    conda-forge\n",
      "fftw                      3.3.10          nompi_ha7695d1_103    conda-forge\n",
      "flit-core                 3.7.1              pyhd8ed1ab_0    conda-forge\n",
      "font-ttf-dejavu-sans-mono 2.37                 hab24e00_0    conda-forge\n",
      "font-ttf-inconsolata      3.000                h77eed37_0    conda-forge\n",
      "font-ttf-source-code-pro  2.038                h77eed37_0    conda-forge\n",
      "font-ttf-ubuntu           0.83                 hab24e00_0    conda-forge\n",
      "fontconfig                2.14.0               h8e229c2_0    conda-forge\n",
      "fonts-conda-ecosystem     1                             0    conda-forge\n",
      "fonts-conda-forge         1                             0    conda-forge\n",
      "freetype                  2.12.1               hca18f0e_0    conda-forge\n",
      "gettext                   0.19.8.1          h73d1719_1008    conda-forge\n",
      "glib                      2.72.1               h6239696_0    conda-forge\n",
      "glib-tools                2.72.1               h6239696_0    conda-forge\n",
      "gst-plugins-base          1.20.3               hf6a322e_0    conda-forge\n",
      "gstreamer                 1.20.3               hd4edc92_0    conda-forge\n",
      "icu                       70.1                 h27087fc_0    conda-forge\n",
      "idna                      3.3                pyhd8ed1ab_0    conda-forge\n",
      "importlib-metadata        4.11.4           py39hf3d152e_0    conda-forge\n",
      "importlib_resources       5.9.0              pyhd8ed1ab_0    conda-forge\n",
      "ipykernel                 6.15.1             pyh210e3f2_0    conda-forge\n",
      "ipython                   8.4.0            py39hf3d152e_0    conda-forge\n",
      "ipython_genutils          0.2.0                      py_1    conda-forge\n",
      "ipywidgets                7.7.1              pyhd8ed1ab_0    conda-forge\n",
      "jack                      1.9.18            h8c3723f_1002    conda-forge\n",
      "jedi                      0.18.1             pyhd8ed1ab_2    conda-forge\n",
      "jinja2                    3.1.2              pyhd8ed1ab_1    conda-forge\n",
      "jpeg                      9e                   h166bdaf_2    conda-forge\n",
      "jsonschema                4.9.1              pyhd8ed1ab_0    conda-forge\n",
      "jupyter                   1.0.0            py39hf3d152e_7    conda-forge\n",
      "jupyter_client            7.3.4              pyhd8ed1ab_0    conda-forge\n",
      "jupyter_console           6.4.4              pyhd8ed1ab_0    conda-forge\n",
      "jupyter_core              4.11.1           py39hf3d152e_0    conda-forge\n",
      "jupyterlab_pygments       0.2.2              pyhd8ed1ab_0    conda-forge\n",
      "jupyterlab_widgets        1.1.1              pyhd8ed1ab_0    conda-forge\n",
      "keyutils                  1.6.1                h166bdaf_0    conda-forge\n",
      "krb5                      1.19.3               h3790be6_0    conda-forge\n",
      "ld_impl_linux-64          2.36.1               hea4e1c9_2    conda-forge\n",
      "libcap                    2.64                 ha37c62d_0    conda-forge\n",
      "libclang                  14.0.6          default_h2e3cab8_0    conda-forge\n",
      "libclang13                14.0.6          default_h3a83d3e_0    conda-forge\n",
      "libcups                   2.3.3                h3e49a29_2    conda-forge\n",
      "libdb                     6.2.32               h9c3ff4c_0    conda-forge\n",
      "libedit                   3.1.20191231         he28a2e2_2    conda-forge\n",
      "libevent                  2.1.10               h9b69904_4    conda-forge\n",
      "libffi                    3.4.2                h7f98852_5    conda-forge\n",
      "libflac                   1.3.4                h27087fc_0    conda-forge\n",
      "libgcc-ng                 12.1.0              h8d9b700_16    conda-forge\n",
      "libgfortran-ng            12.1.0              h69a702a_16    conda-forge\n",
      "libgfortran5              12.1.0              hdcd56e2_16    conda-forge\n",
      "libglib                   2.72.1               h2d90d5f_0    conda-forge\n",
      "libgomp                   12.1.0              h8d9b700_16    conda-forge\n",
      "libiconv                  1.16                 h516909a_0    conda-forge\n",
      "libllvm14                 14.0.6               he0ac6c6_0    conda-forge\n",
      "libnsl                    2.0.0                h7f98852_0    conda-forge\n",
      "libogg                    1.3.4                h7f98852_1    conda-forge\n",
      "libopus                   1.3.1                h7f98852_1    conda-forge\n",
      "libpng                    1.6.37               h753d276_4    conda-forge\n",
      "libpq                     14.5                 hd77ab85_0    conda-forge\n",
      "libsndfile                1.0.31               h9c3ff4c_1    conda-forge\n",
      "libsodium                 1.0.18               h36c2ea0_1    conda-forge\n",
      "libstdcxx-ng              12.1.0              ha89aaad_16    conda-forge\n",
      "libtool                   2.4.6             h9c3ff4c_1008    conda-forge\n",
      "libudev1                  249                  h166bdaf_4    conda-forge\n",
      "libuuid                   2.32.1            h7f98852_1000    conda-forge\n",
      "libuv                     1.44.2               h166bdaf_0    conda-forge\n",
      "libvorbis                 1.3.7                h9c3ff4c_0    conda-forge\n",
      "libxcb                    1.13              h7f98852_1004    conda-forge\n",
      "libxkbcommon              1.0.3                he3ba5ed_0    conda-forge\n",
      "libxml2                   2.9.14               h22db469_4    conda-forge\n",
      "libxslt                   1.1.35               h8affb1d_0    conda-forge\n",
      "libzlib                   1.2.12               h166bdaf_1    conda-forge\n",
      "lxml                      4.9.1            py39hb9d737c_0    conda-forge\n",
      "lz4-c                     1.9.3                h9c3ff4c_1    conda-forge\n",
      "markupsafe                2.1.1            py39hb9d737c_1    conda-forge\n",
      "matplotlib-inline         0.1.3              pyhd8ed1ab_0    conda-forge\n",
      "mistune                   0.8.4           py39h3811e60_1005    conda-forge\n",
      "mysql-common              8.0.30               haf5c9bc_0    conda-forge\n",
      "mysql-libs                8.0.30               h28c427c_0    conda-forge\n",
      "nbclient                  0.6.6              pyhd8ed1ab_0    conda-forge\n",
      "nbconvert                 6.5.3              pyhd8ed1ab_0    conda-forge\n",
      "nbconvert-core            6.5.3              pyhd8ed1ab_0    conda-forge\n",
      "nbconvert-pandoc          6.5.3              pyhd8ed1ab_0    conda-forge\n",
      "nbformat                  5.4.0              pyhd8ed1ab_0    conda-forge\n",
      "ncurses                   6.3                  h27087fc_1    conda-forge\n",
      "nest-asyncio              1.5.5              pyhd8ed1ab_0    conda-forge\n",
      "nodejs                    18.7.0               h96d913c_0    conda-forge\n",
      "notebook                  6.4.12             pyha770c72_0    conda-forge\n",
      "nspr                      4.32                 h9c3ff4c_1    conda-forge\n",
      "nss                       3.78                 h2350873_0    conda-forge\n",
      "openssl                   1.1.1q               h166bdaf_0    conda-forge\n",
      "packaging                 21.3               pyhd8ed1ab_0    conda-forge\n",
      "pandoc                    2.19                 ha770c72_0    conda-forge\n",
      "pandocfilters             1.5.0              pyhd8ed1ab_0    conda-forge\n",
      "parso                     0.8.3              pyhd8ed1ab_0    conda-forge\n",
      "pcre                      8.45                 h9c3ff4c_0    conda-forge\n",
      "pexpect                   4.8.0              pyh9f0ad1d_2    conda-forge\n",
      "pickleshare               0.7.5                   py_1003    conda-forge\n",
      "pip                       22.1.2             pyhd8ed1ab_0    conda-forge\n",
      "pkgutil-resolve-name      1.3.10             pyhd8ed1ab_0    conda-forge\n",
      "ply                       3.11                       py_1    conda-forge\n",
      "portaudio                 19.6.0               h57a0ea0_5    conda-forge\n",
      "prometheus_client         0.14.1             pyhd8ed1ab_0    conda-forge\n",
      "prompt-toolkit            3.0.30             pyha770c72_0    conda-forge\n",
      "prompt_toolkit            3.0.30               hd8ed1ab_0    conda-forge\n",
      "psutil                    5.9.1            py39hb9d737c_0    conda-forge\n",
      "pthread-stubs             0.4               h36c2ea0_1001    conda-forge\n",
      "ptyprocess                0.7.0              pyhd3deb0d_0    conda-forge\n",
      "pulseaudio                14.0                 h7f54b18_8    conda-forge\n",
      "pure_eval                 0.2.2              pyhd8ed1ab_0    conda-forge\n",
      "pycosat                   0.6.3           py39hb9d737c_1010    conda-forge\n",
      "pycparser                 2.21               pyhd8ed1ab_0    conda-forge\n",
      "pygments                  2.12.0             pyhd8ed1ab_0    conda-forge\n",
      "pyopenssl                 22.0.0             pyhd8ed1ab_0    conda-forge\n",
      "pyparsing                 3.0.9              pyhd8ed1ab_0    conda-forge\n",
      "pyqt                      5.15.7           py39h18e9c17_0    conda-forge\n",
      "pyqt5-sip                 12.11.0          py39h5a03fae_0    conda-forge\n",
      "pyrsistent                0.18.1           py39hb9d737c_1    conda-forge\n",
      "pysocks                   1.7.1            py39hf3d152e_5    conda-forge\n",
      "python                    3.9.13          h9a8a25e_0_cpython    conda-forge\n",
      "python-dateutil           2.8.2              pyhd8ed1ab_0    conda-forge\n",
      "python-fastjsonschema     2.16.1             pyhd8ed1ab_0    conda-forge\n",
      "python_abi                3.9                      2_cp39    conda-forge\n",
      "pyzmq                     23.2.1           py39headdf64_0    conda-forge\n",
      "qt-main                   5.15.4               ha5833f6_2    conda-forge\n",
      "qtconsole                 5.3.1              pyhd8ed1ab_0    conda-forge\n",
      "qtconsole-base            5.3.1              pyha770c72_0    conda-forge\n",
      "qtpy                      2.2.0              pyhd8ed1ab_0    conda-forge\n",
      "readline                  8.1.2                h0f457ee_0    conda-forge\n",
      "requests                  2.28.1             pyhd8ed1ab_0    conda-forge\n",
      "ruamel_yaml               0.15.80         py39hb9d737c_1007    conda-forge\n",
      "send2trash                1.8.0              pyhd8ed1ab_0    conda-forge\n",
      "setuptools                63.1.0           py39hf3d152e_0    conda-forge\n",
      "sip                       6.6.2            py39h5a03fae_0    conda-forge\n",
      "six                       1.16.0             pyh6c4a22f_0    conda-forge\n",
      "soupsieve                 2.3.2.post1        pyhd8ed1ab_0    conda-forge\n",
      "sqlite                    3.39.0               h4ff8645_0    conda-forge\n",
      "stack_data                0.4.0              pyhd8ed1ab_0    conda-forge\n",
      "terminado                 0.15.0           py39hf3d152e_0    conda-forge\n",
      "tinycss2                  1.1.1              pyhd8ed1ab_0    conda-forge\n",
      "tk                        8.6.12               h27826a3_0    conda-forge\n",
      "toml                      0.10.2             pyhd8ed1ab_0    conda-forge\n",
      "toolz                     0.12.0             pyhd8ed1ab_0    conda-forge\n",
      "tornado                   6.2              py39hb9d737c_0    conda-forge\n",
      "tqdm                      4.64.0             pyhd8ed1ab_0    conda-forge\n",
      "traitlets                 5.3.0              pyhd8ed1ab_0    conda-forge\n",
      "tzdata                    2022a                h191b570_0    conda-forge\n",
      "urllib3                   1.26.10            pyhd8ed1ab_0    conda-forge\n",
      "wcwidth                   0.2.5              pyh9f0ad1d_2    conda-forge\n",
      "webencodings              0.5.1                      py_1    conda-forge\n",
      "wheel                     0.37.1             pyhd8ed1ab_0    conda-forge\n",
      "widgetsnbextension        3.6.1              pyha770c72_0    conda-forge\n",
      "xcb-util                  0.4.0                h166bdaf_0    conda-forge\n",
      "xcb-util-image            0.4.0                h166bdaf_0    conda-forge\n",
      "xcb-util-keysyms          0.4.0                h166bdaf_0    conda-forge\n",
      "xcb-util-renderutil       0.3.9                h166bdaf_0    conda-forge\n",
      "xcb-util-wm               0.4.1                h166bdaf_0    conda-forge\n",
      "xorg-libxau               1.0.9                h7f98852_0    conda-forge\n",
      "xorg-libxdmcp             1.1.3                h7f98852_0    conda-forge\n",
      "xz                        5.2.5                h516909a_1    conda-forge\n",
      "yaml                      0.2.5                h7f98852_2    conda-forge\n",
      "zeromq                    4.3.4                h9c3ff4c_1    conda-forge\n",
      "zipp                      3.8.1              pyhd8ed1ab_0    conda-forge\n",
      "zlib                      1.2.12               h166bdaf_1    conda-forge\n",
      "zstd                      1.5.2                h8a70e8d_4    conda-forge\n"
     ]
    }
   ],
   "source": [
    "conda list"
   ]
  },
  {
   "cell_type": "code",
   "execution_count": 6,
   "metadata": {
    "vscode": {
     "languageId": "shellscript"
    }
   },
   "outputs": [
    {
     "name": "stdout",
     "output_type": "stream",
     "text": [
      "\u001b[01;31m\u001b[Kjupyter\u001b[m\u001b[K                   1.0.0            py39hf3d152e_7    conda-forge\n",
      "\u001b[01;31m\u001b[Kjupyter\u001b[m\u001b[K_client            7.3.4              pyhd8ed1ab_0    conda-forge\n",
      "\u001b[01;31m\u001b[Kjupyter\u001b[m\u001b[K_console           6.4.4              pyhd8ed1ab_0    conda-forge\n",
      "\u001b[01;31m\u001b[Kjupyter\u001b[m\u001b[K_core              4.11.1           py39hf3d152e_0    conda-forge\n",
      "\u001b[01;31m\u001b[Kjupyter\u001b[m\u001b[Klab_pygments       0.2.2              pyhd8ed1ab_0    conda-forge\n",
      "\u001b[01;31m\u001b[Kjupyter\u001b[m\u001b[Klab_widgets        1.1.1              pyhd8ed1ab_0    conda-forge\n"
     ]
    }
   ],
   "source": [
    "conda list | grep \"jupyter\""
   ]
  },
  {
   "cell_type": "code",
   "execution_count": 11,
   "metadata": {
    "vscode": {
     "languageId": "shellscript"
    }
   },
   "outputs": [
    {
     "name": "stdout",
     "output_type": "stream",
     "text": [
      "jupyter                   1.0.0            py39hf3d152e_7    conda-forge\n",
      "jupyter_client            7.3.4              pyhd8ed1ab_0    conda-forge\n",
      "jupyter_console           6.4.4              pyhd8ed1ab_0    conda-forge\n",
      "jupyter_core              4.11.1           py39hf3d152e_0    conda-forge\n",
      "jupyterlab_pygments       0.2.2              pyhd8ed1ab_0    conda-forge\n",
      "jupyterlab_widgets        1.1.1              pyhd8ed1ab_0    conda-forge\n"
     ]
    }
   ],
   "source": [
    "test=\"jupyter\" # keyword\n",
    "check=`conda list | grep $test` # run command\n",
    "n=${#check} # determine length\n",
    "if [[ ${n} > 0 ]];  # testt length\n",
    "then # greater than zero\n",
    "    echo \"$check\"\n",
    "else # less than zero\n",
    "    echo \"$check\"\n",
    "fi"
   ]
  },
  {
   "cell_type": "markdown",
   "metadata": {},
   "source": [
    "## Jupyter and Kernels"
   ]
  },
  {
   "cell_type": "code",
   "execution_count": 8,
   "metadata": {
    "vscode": {
     "languageId": "shellscript"
    }
   },
   "outputs": [
    {
     "name": "stdout",
     "output_type": "stream",
     "text": [
      "Selected Jupyter core packages...\n",
      "IPython          : 8.4.0\n",
      "ipykernel        : 6.15.1\n",
      "ipywidgets       : 7.7.1\n",
      "jupyter_client   : 7.3.4\n",
      "jupyter_core     : 4.11.1\n",
      "jupyter_server   : not installed\n",
      "jupyterlab       : not installed\n",
      "nbclient         : 0.6.6\n",
      "nbconvert        : 6.5.3\n",
      "nbformat         : 5.4.0\n",
      "notebook         : 6.4.12\n",
      "qtconsole        : 5.3.1\n",
      "traitlets        : 5.3.0\n",
      "Available kernels:\n",
      "  bash       /home/vidhi/.local/share/jupyter/kernels/bash\n",
      "  java       /home/vidhi/.local/share/jupyter/kernels/java\n",
      "  python3    /home/vidhi/.local/share/jupyter/kernels/python3\n"
     ]
    }
   ],
   "source": [
    "jupyter --version\n",
    "jupyter kernelspec list"
   ]
  },
  {
   "cell_type": "code",
   "execution_count": 10,
   "metadata": {
    "vscode": {
     "languageId": "shellscript"
    }
   },
   "outputs": [
    {
     "name": "stdout",
     "output_type": "stream",
     "text": [
      "  python3    /home/vidhi/.local/share/jupyter/kernels/python3\n"
     ]
    }
   ],
   "source": [
    "test=\"python3\" # keyword\n",
    "check=`jupyter kernelspec list | grep $test` # run command\n",
    "n=${#check} # determine length\n",
    "if [[ ${n} > 0 ]];  # testt length\n",
    "then # greater than zero\n",
    "    echo \"$check\"\n",
    "else # less than zero\n",
    "    echo \"$check\"\n",
    "fi"
   ]
  }
 ],
 "metadata": {
  "kernelspec": {
   "display_name": "Bash",
   "language": "bash",
   "name": "bash"
  },
  "language_info": {
   "codemirror_mode": "shell",
   "file_extension": ".sh",
   "mimetype": "text/x-sh",
   "name": "bash"
  },
  "orig_nbformat": 4,
  "vscode": {
   "interpreter": {
    "hash": "916dbcbb3f70747c44a77c7bcd40155683ae19c65e1c03b4aa3499c5328201f1"
   }
  }
 },
 "nbformat": 4,
 "nbformat_minor": 2
}
