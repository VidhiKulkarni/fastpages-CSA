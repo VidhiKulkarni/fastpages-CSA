{
 "cells": [
  {
   "cell_type": "code",
   "execution_count": null,
   "metadata": {
    "vscode": {
     "languageId": "java"
    }
   },
   "outputs": [],
   "source": [
    "import java.util.Scanner;\n",
    "public class CelciustoKelvin {\n",
    "    public static void main (String[] args) {\n",
    "        Scanner input;\n",
    "        input = new Scanner(System.in);\n",
    "        System.out.println(\"Enter a degree in Celsius: \");\n",
    "        double celsius = input.nextDouble();\n",
    "        double kelvin = (celsius + 273.0);\n",
    "        System.out.println( celsius + \" degree Celsius is equal to \" + kelvin + \" in Celsius\");\n",
    "    }\n",
    "}\n",
    "CelciustoKelvin.main(null);"
   ]
  }
 ],
 "metadata": {
  "kernelspec": {
   "display_name": "Java",
   "language": "java",
   "name": "java"
  },
  "language_info": {
   "codemirror_mode": "java",
   "file_extension": ".jshell",
   "mimetype": "text/x-java-source",
   "name": "Java",
   "pygments_lexer": "java",
   "version": "11.0.16+8-post-Ubuntu-0ubuntu120.04"
  },
  "orig_nbformat": 4
 },
 "nbformat": 4,
 "nbformat_minor": 2
}
