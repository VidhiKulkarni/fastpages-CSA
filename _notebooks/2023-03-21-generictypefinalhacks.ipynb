{
 "cells": [
  {
   "attachments": {},
   "cell_type": "markdown",
   "metadata": {},
   "source": [
    "# Generic Type Hacks\n",
    "> Generic Types Blog\n",
    "\n",
    "- toc: true\n",
    "- badges: true\n",
    "- comments: true\n",
    "- categories: [fastpages, jupyter, ap exam unit]"
   ]
  },
  {
   "cell_type": "code",
   "execution_count": 1,
   "metadata": {
    "vscode": {
     "languageId": "java"
    }
   },
   "outputs": [
    {
     "name": "stdout",
     "output_type": "stream",
     "text": [
      "Empty Queue\n",
      "John\n",
      "Jane\n",
      "Bob\n",
      "Iterate over Array\n",
      "John\n",
      "Jane\n",
      "Bob\n"
     ]
    }
   ],
   "source": [
    "Queue<String> queue = new LinkedList<>();  // Queue interface uses LL implementation\n",
    "queue.add(\"John\");\n",
    "queue.add(\"Jane\");\n",
    "queue.add(\"Bob\");\n",
    "// Collections has a toArray convertion\n",
    "Object[] arr = queue.toArray();\n",
    "\n",
    "// Empty queue\n",
    "System.out.println(\"Empty Queue\");\n",
    "while (queue.size() > 0) // Interate while size\n",
    "    System.out.println(queue.remove());\n",
    "\n",
    "// Iterate of array\n",
    "System.out.println(\"Iterate over Array\");\n",
    "for (Object a : arr) // Type is Object from convertion\n",
    "    System.out.println(a);"
   ]
  },
  {
   "cell_type": "code",
   "execution_count": 2,
   "metadata": {
    "vscode": {
     "languageId": "java"
    }
   },
   "outputs": [],
   "source": [
    "public abstract class Generics {\n",
    "\tpublic final String masterType = \"Generic\";\n",
    "\tprivate String type;\t// extender should define their data type\n",
    "\n",
    "\t// generic enumerated interface\n",
    "\tpublic interface KeyTypes {\n",
    "\t\tString name();\n",
    "\t}\n",
    "\tprotected abstract KeyTypes getKey();  \t// this method helps force usage of KeyTypes\n",
    "\n",
    "\t// getter\n",
    "\tpublic String getMasterType() {\n",
    "\t\treturn masterType;\n",
    "\t}\n",
    "\n",
    "\t// getter\n",
    "\tpublic String getType() {\n",
    "\t\treturn type;\n",
    "\t}\n",
    "\n",
    "\t// setter\n",
    "\tpublic void setType(String type) {\n",
    "\t\tthis.type = type;\n",
    "\t}\n",
    "\t\n",
    "\t// this method is used to establish key order\n",
    "\tpublic abstract String toString();\n",
    "\n",
    "\t// static print method used by extended classes\n",
    "\tpublic static void print(Generics[] objs) {\n",
    "\t\t// print 'Object' properties\n",
    "\t\tSystem.out.println(objs.getClass() + \" \" + objs.length);\n",
    "\n",
    "\t\t// print 'Generics' properties\n",
    "\t\tif (objs.length > 0) {\n",
    "\t\t\tGenerics obj = objs[0];\t// Look at properties of 1st element\n",
    "            System.out.println(\n",
    "\t\t\t\t\tobj.getMasterType() + \": \" + \n",
    "\t\t\t\t\tobj.getType() +\n",
    "\t\t\t\t\t\" listed by \" +\n",
    "\t\t\t\t\tobj.getKey());\n",
    "\t\t}\n",
    "\n",
    "\t\t// print \"Generics: Objects'\n",
    "\t\tfor(Object o : objs)\t// observe that type is Opaque\n",
    "\t\t\tSystem.out.println(o);\n",
    "\n",
    "\t\tSystem.out.println();\n",
    "\t}\n",
    "}"
   ]
  },
  {
   "cell_type": "code",
   "execution_count": 12,
   "metadata": {
    "vscode": {
     "languageId": "java"
    }
   },
   "outputs": [
    {
     "name": "stdout",
     "output_type": "stream",
     "text": [
      "class [LREPL.$JShell$22C$Lingo; 4\n",
      "Generic: Lingo listed by lang\n",
      "Python\n",
      "Java\n",
      "JavaScript\n",
      "C++\n",
      "\n",
      "class [LREPL.$JShell$22C$Lingo; 4\n",
      "Generic: Lingo listed by years\n",
      "Lingo: Python, 1, 4\n",
      "Lingo: Java, 4, 3\n",
      "Lingo: JavaScript, 3, 5\n",
      "Lingo: C++, 2, 4\n",
      "\n",
      "class [LREPL.$JShell$22C$Lingo; 4\n",
      "Generic: Lingo listed by level\n",
      "1\n",
      "4\n",
      "3\n",
      "2\n",
      "\n"
     ]
    }
   ],
   "source": [
    "public class Lingo extends Generics {\n",
    "\t// Class data\n",
    "\tpublic static KeyTypes key = KeyType.lang;  // static initializer\n",
    "\tpublic static void setOrder(KeyTypes key) {Lingo.key = key;}\n",
    "\tpublic enum KeyType implements KeyTypes {lang, years, level}\n",
    "\n",
    "\t// Instance data\n",
    "\tprivate final String lang;\n",
    "\tprivate final int years;\n",
    "    private final int level;\n",
    "\n",
    "\t// Constructor\n",
    "\n",
    "\tLingo(String lang, int years, int level)\n",
    "\t{\n",
    "\t\tthis.setType(\"Lingo\");\n",
    "\t\tthis.lang = lang;\n",
    "\t\tthis.years = years;\n",
    "\t\tthis.level = level;\n",
    "\t}\n",
    "\n",
    "\t/* 'Generics' requires getKey to help enforce KeyTypes usage */\n",
    "\t@Override\n",
    "\tprotected KeyTypes getKey() { return Lingo.key; }\n",
    "\n",
    "\t/* 'Generics' requires toString override\n",
    "\t * toString provides data based off of Static Key setting */\n",
    "\t@Override\n",
    "\tpublic String toString() {\t\t\n",
    "\t\tString output=\"\";\n",
    "\t\tif (KeyType.lang.equals(this.getKey())) {\n",
    "\t\t\toutput += this.lang;\n",
    "\t\t} else if (KeyType.level.equals(this.getKey())) {\n",
    "\t\t\toutput += this.years;\n",
    "\t\t} else if (KeyType.level.equals(this.getKey())) {\n",
    "\t\t\toutput += + this.level;\n",
    "\t\t} else {\n",
    "\t\t\toutput = super.getType() + \": \" + this.lang + \", \" + this.years + \", \" + this.level;\n",
    "\t\t}\n",
    "\t\treturn output;\n",
    "\t}\n",
    "\n",
    "\t// Test data initializer\n",
    "\tpublic static Lingo[] languages() {\n",
    "\t\treturn new Lingo[]{\n",
    "\t\t\t\tnew Lingo(\"Python\", 1, 4),\n",
    "\t\t\t    new Lingo(\"Java\", 4, 3),\n",
    "\t\t\t    new Lingo(\"JavaScript\", 3, 5),\n",
    "                new Lingo(\"C++\", 2, 4),\n",
    "\t\t};\n",
    "\t}\n",
    "\t\n",
    "\tpublic static void main(String[] args)\n",
    "\t{\n",
    "\t\t// Inheritance Hierarchy\n",
    "\t\tLingo[] objs = languages();\n",
    "\n",
    "\t\t// print with language\n",
    "\t\tLingo.setOrder(KeyType.lang);\n",
    "\t\tLingo.print(objs);\n",
    "\n",
    "\t\t// print level \n",
    "\t\tLingo.setOrder(KeyType.years);\n",
    "\t\tLingo.print(objs);\n",
    "\t\t// print correct out of 10\n",
    "\t\tLingo.setOrder(KeyType.level);\n",
    "\t\tLingo.print(objs);\n",
    "\t}\n",
    "\t\n",
    "}\n",
    "Lingo.main(null);"
   ]
  },
  {
   "attachments": {},
   "cell_type": "markdown",
   "metadata": {},
   "source": [
    "## Hack Challenges"
   ]
  },
  {
   "cell_type": "code",
   "execution_count": 1,
   "metadata": {
    "vscode": {
     "languageId": "java"
    }
   },
   "outputs": [
    {
     "name": "stdout",
     "output_type": "stream",
     "text": [
      "Enqueued data: seven\n",
      "Words count: 1, data: seven\n",
      "\n",
      "Enqueued data: slimy\n",
      "Words count: 2, data: seven slimy\n",
      "\n",
      "Enqueued data: snakes\n",
      "Words count: 3, data: seven slimy snakes\n",
      "\n",
      "Enqueued data: sallying\n",
      "Words count: 4, data: seven slimy snakes sallying\n",
      "\n",
      "Enqueued data: slowly\n",
      "Words count: 5, data: seven slimy snakes sallying slowly\n",
      "\n",
      "Enqueued data: slithered\n",
      "Words count: 6, data: seven slimy snakes sallying slowly slithered\n",
      "\n",
      "Enqueued data: southward\n",
      "Words count: 7, data: seven slimy snakes sallying slowly slithered southward\n",
      "\n",
      "Dequeued data: seven\n",
      "Words count: 6, data: slimy snakes sallying slowly slithered southward\n",
      "\n",
      "Dequeued data: slimy\n",
      "Words count: 5, data: snakes sallying slowly slithered southward\n",
      "\n",
      "Dequeued data: snakes\n",
      "Words count: 4, data: sallying slowly slithered southward\n",
      "\n",
      "Dequeued data: sallying\n",
      "Words count: 3, data: slowly slithered southward\n",
      "\n",
      "Dequeued data: slowly\n",
      "Words count: 2, data: slithered southward\n",
      "\n",
      "Dequeued data: slithered\n",
      "Words count: 1, data: southward\n",
      "\n",
      "Dequeued data: southward\n",
      "Words count: 0, data: \n",
      "\n"
     ]
    }
   ],
   "source": [
    "// Hack 1\n",
    "public class QueueExample {\n",
    "    public static void main(String[] args) {\n",
    "        Queue<String> queue = new LinkedList<String>();\n",
    "\n",
    "        // Adding elements to the queue\n",
    "        queue.add(\"seven\");\n",
    "        System.out.println(\"Enqueued data: \" + \"seven\");\n",
    "        printQueue(queue);\n",
    "\n",
    "        queue.add(\"slimy\");\n",
    "        System.out.println(\"Enqueued data: \" + \"slimy\");\n",
    "        printQueue(queue);\n",
    "\n",
    "        queue.add(\"snakes\");\n",
    "        System.out.println(\"Enqueued data: \" + \"snakes\");\n",
    "        printQueue(queue);\n",
    "\n",
    "        queue.add(\"sallying\");\n",
    "        System.out.println(\"Enqueued data: \" + \"sallying\");\n",
    "        printQueue(queue);\n",
    "\n",
    "        queue.add(\"slowly\");\n",
    "        System.out.println(\"Enqueued data: \" + \"slowly\");\n",
    "        printQueue(queue);\n",
    "\n",
    "        queue.add(\"slithered\");\n",
    "        System.out.println(\"Enqueued data: \" + \"slithered\");\n",
    "        printQueue(queue);\n",
    "\n",
    "        queue.add(\"southward\");\n",
    "        System.out.println(\"Enqueued data: \" + \"southward\");\n",
    "        printQueue(queue);\n",
    "\n",
    "        // Removing elements from the queue\n",
    "        String data =queue.remove();\n",
    "\n",
    "        System.out.println(\"Dequeued data: \" + data);\n",
    "        printQueue(queue);\n",
    "\n",
    "        data = queue.remove();\n",
    "        System.out.println(\"Dequeued data: \" + data);\n",
    "        printQueue(queue);\n",
    "\n",
    "        data = queue.remove();\n",
    "        System.out.println(\"Dequeued data: \" + data);\n",
    "        printQueue(queue);\n",
    "\n",
    "        data = queue.remove();\n",
    "        System.out.println(\"Dequeued data: \" + data);\n",
    "        printQueue(queue);\n",
    "\n",
    "        data = queue.remove();\n",
    "        System.out.println(\"Dequeued data: \" + data);\n",
    "        printQueue(queue);\n",
    "\n",
    "        data = queue.remove();\n",
    "        System.out.println(\"Dequeued data: \" + data);\n",
    "        printQueue(queue);\n",
    "\n",
    "        data = queue.remove();\n",
    "        System.out.println(\"Dequeued data: \" + data);\n",
    "        printQueue(queue);\n",
    "    }\n",
    "\n",
    "    // Helper method to print the contents of the queue\n",
    "    public static void printQueue(Queue<String> queue) {\n",
    "        System.out.println(\"Words count: \" + queue.size() + \", data: \" + String.join(\" \", queue));\n",
    "        System.out.println();\n",
    "    }\n",
    "}\n",
    "\n",
    "QueueExample.main(null);"
   ]
  },
  {
   "cell_type": "code",
   "execution_count": 2,
   "metadata": {
    "vscode": {
     "languageId": "java"
    }
   },
   "outputs": [
    {
     "name": "stdout",
     "output_type": "stream",
     "text": [
      "Python Question # Order: [1, 2, 3, 4, 5, 6, 7, 8]\n"
     ]
    }
   ],
   "source": [
    "//Hack 2 - merge 2 queues\n",
    "Queue<Integer> questionNums1 = new LinkedList<>();\n",
    "//offer adds an element to the end of the queue and \n",
    "//returns a boolean value indicating whether the operation was successful\n",
    "questionNums1.add(1);\n",
    "questionNums1.add(4);\n",
    "questionNums1.add(5);\n",
    "questionNums1.add(8);\n",
    "\n",
    "Queue<Integer> questionNums2 = new LinkedList<>();\n",
    "questionNums2.add(2);\n",
    "questionNums2.add(3);\n",
    "questionNums2.add(6);\n",
    "questionNums2.add(7);\n",
    "\n",
    "Queue<Integer> mergedQueue = new LinkedList<>();\n",
    "\n",
    "while (!questionNums1.isEmpty() && !questionNums2.isEmpty()) {\n",
    "    if (questionNums1.peek() < questionNums2.peek()) { //Retrieve the first element from each queue using the peek() method\n",
    "        //peek method returns the element at the front of the queue without removing it\n",
    "        mergedQueue.offer(questionNums1.poll());\n",
    "    } else { //Compare the two elements \n",
    "        //enqueue the smaller one to the new queue using the offer() method.\n",
    "        mergedQueue.offer(questionNums2.poll());\n",
    "    }//repeat\n",
    "}\n",
    "\n",
    "mergedQueue.addAll(questionNums1);\n",
    "mergedQueue.addAll(questionNums2);\n",
    "\n",
    "System.out.println(\"Python Question # Order: \" + mergedQueue);"
   ]
  },
  {
   "cell_type": "code",
   "execution_count": 3,
   "metadata": {
    "vscode": {
     "languageId": "java"
    }
   },
   "outputs": [
    {
     "name": "stdout",
     "output_type": "stream",
     "text": [
      "Original queue: [Mastered, Beginner, Expert, Improving]\n",
      "Shuffled queue: [Improving, Mastered, Mastered, Mastered]\n"
     ]
    }
   ],
   "source": [
    "import java.util.Queue;\n",
    "import java.util.LinkedList;\n",
    "import java.util.Random;\n",
    "\n",
    "public class ShuffleQueue {\n",
    "    public static void shuffle(Queue<String> queue) {\n",
    "        Random rand = new Random();\n",
    "//static shuffle method that takes a Queue of strings as its argument and shuffles the elements\n",
    "        for (int i = 0; i < queue.size(); i++) {\n",
    "            int randomIndex = rand.nextInt(queue.size());\n",
    "            String temp = queue.peek();\n",
    "            //view or peek at the element at the front of the queue without removing it\n",
    "            for (int j = 0; j < randomIndex; j++) {\n",
    "                queue.add(queue.remove());\n",
    "            }//iterating through the queue and swapping\n",
    "            // each element with another element at a random position in the queue.\n",
    "            queue.remove();\n",
    "            for (int j = 0; j < randomIndex; j++) {\n",
    "                queue.add(queue.remove());\n",
    "            }\n",
    "            queue.add(temp);\n",
    "        }\n",
    "    }\n",
    "    //Random object to generate random indices within the size of the queue\n",
    "    //combination of remove and add methods to move elements around in the queue\n",
    "\n",
    "    public static void main(String[] args) {\n",
    "        Queue<String> queue = new LinkedList<>();\n",
    "        queue.add(\"Mastered\");\n",
    "        queue.add(\"Beginner\");\n",
    "        queue.add(\"Expert\");\n",
    "        queue.add(\"Improving\");\n",
    "\n",
    "        System.out.println(\"Original queue: \" + queue);\n",
    "\n",
    "        shuffle(queue);\n",
    "\n",
    "        System.out.println(\"Shuffled queue: \" + queue);\n",
    "    }\n",
    "}\n",
    "ShuffleQueue.main(null);"
   ]
  },
  {
   "cell_type": "code",
   "execution_count": 4,
   "metadata": {
    "vscode": {
     "languageId": "java"
    }
   },
   "outputs": [
    {
     "name": "stdout",
     "output_type": "stream",
     "text": [
      "Original Question Numbers: []\n",
      "Reversed Question Numbers: [5, 4, 3, 2, 1]\n"
     ]
    }
   ],
   "source": [
    "//Hack 4\n",
    "Queue<Integer> queue = new LinkedList<>();\n",
    "//Create a new empty stack to store the elements of the queue\n",
    "queue.offer(1);\n",
    "queue.offer(2);\n",
    "queue.offer(3);\n",
    "queue.offer(4);\n",
    "queue.offer(5);\n",
    "\n",
    "Stack<Integer> stack = new Stack<>();\n",
    "while (!queue.isEmpty()) {\n",
    "    stack.push(queue.poll());\n",
    "}\n",
    "//Dequeue all elements from the original queue and push them onto the stack\n",
    "Queue<Integer> reversedQueue = new LinkedList<>();\n",
    "while (!stack.isEmpty()) {\n",
    "    reversedQueue.offer(stack.pop());\n",
    "}//Create a new empty queue to store the reversed elements\n",
    "// pop removes and returns the top element of the stack\n",
    "\n",
    "System.out.println(\"Original Question Numbers: \" + queue);\n",
    "System.out.println(\"Reversed Question Numbers: \" + reversedQueue);"
   ]
  },
  {
   "cell_type": "code",
   "execution_count": 5,
   "metadata": {
    "vscode": {
     "languageId": "java"
    }
   },
   "outputs": [
    {
     "name": "stdout",
     "output_type": "stream",
     "text": [
      "Reversed queue of languages: []\n"
     ]
    }
   ],
   "source": [
    "import java.util.Queue;\n",
    "import java.util.Stack;\n",
    "\n",
    "public class Languages {\n",
    "    public static void reverse(Queue<String> queue) {\n",
    "        Stack<String> stack = new Stack<>();\n",
    "//The reverse method creates a new Stack object, \n",
    "//then iterates through the elements in the queue, removing them one by one and pushing them onto the stack\n",
    "        while (!queue.isEmpty()) {\n",
    "            stack.push(queue.remove());\n",
    "        }\n",
    "\n",
    "        while (!stack.isEmpty()) {\n",
    "            queue.add(stack.pop()); //the method iterates \n",
    "            //through the elements in the stack, popping them off one by one and adding them back to the queue\n",
    "        }\n",
    "    }\n",
    "}\n",
    "System.out.println(\"Reversed queue of languages: \"+queue);"
   ]
  },
  {
   "attachments": {},
   "cell_type": "markdown",
   "metadata": {},
   "source": [
    "## Bubble Sort"
   ]
  },
  {
   "cell_type": "code",
   "execution_count": 1,
   "metadata": {
    "vscode": {
     "languageId": "java"
    }
   },
   "outputs": [
    {
     "name": "stdout",
     "output_type": "stream",
     "text": [
      "Original: 23, 56, 21, 34, 678, 2, 4, 7, 2235, 996, 446, 999, 6574, 87, 67, 902, 8754, \n",
      "Sorted: 2, 4, 7, 21, 23, 34, 56, 67, 87, 446, 678, 902, 996, 999, 2235, 6574, 8754, "
     ]
    }
   ],
   "source": [
    "public class BubbleSort{ \n",
    "    public static void main(String[] args)\n",
    "    {\n",
    "        int[] bubble_arr = {23,56,21,34,678,2,4,7,2235,996,446,999,6574,87,67,902,8754};\n",
    "        System.out.print(\"Original: \");\n",
    "        for(int index=0; index<bubble_arr.length; index++){\n",
    "            System.out.print(bubble_arr[index] + \", \");\n",
    "        }\n",
    "        System.out.println();\n",
    "\n",
    "        /* run continuously until the first time where no swaps happen */\n",
    "        boolean swap = true;\n",
    "        while(swap)\n",
    "        {\n",
    "            swap = false;\n",
    "            for(int i=0; i<bubble_arr.length-1; i++){\n",
    "                if (bubble_arr[i]>bubble_arr[i+1]){\n",
    "                    swap = true;\n",
    "                    int temp = bubble_arr[i];\n",
    "                    bubble_arr[i] = bubble_arr[i+1];\n",
    "                    bubble_arr[i+1] = temp;\n",
    "                }\n",
    "            }\n",
    "        }\n",
    "        System.out.print(\"Sorted: \");\n",
    "        for(int index=0; index<bubble_arr.length; index++){\n",
    "            System.out.print(bubble_arr[index] + \", \");\n",
    "        }\n",
    "\n",
    "        }\n",
    "    \n",
    "}\n",
    "\n",
    "BubbleSort.main(null);"
   ]
  },
  {
   "attachments": {},
   "cell_type": "markdown",
   "metadata": {},
   "source": [
    "## Insertion Sort"
   ]
  },
  {
   "cell_type": "code",
   "execution_count": null,
   "metadata": {
    "vscode": {
     "languageId": "java"
    }
   },
   "outputs": [],
   "source": [
    "public class Insertion{\n",
    "    public static void main(String[] args){\n",
    "      int[] array = {3,2,5,1,0,10,43,2353,32,75,12,33};\n",
    "      \n",
    "      for(int i = 0; i<array.length; i++){\n",
    "          System.out.print(array[i] + \", \");\n",
    "      }\n",
    "      System.out.println();\n",
    "\n",
    "      \n",
    "      for(int index=1; index<array.length; index++){\n",
    "        for(int sorted_index = index; sorted_index>0; sorted_index--){\n",
    "            if(array[sorted_index]<array[sorted_index-1]){\n",
    "                int temp = array[sorted_index];\n",
    "                array[sorted_index] = array[sorted_index-1];\n",
    "                array[sorted_index-1] = temp;\n",
    "            }\n",
    "        }\n",
    "      }\n",
    "      \n",
    "      for (int i = 0; i<array.length; i++){\n",
    "        System.out.print(array[i] + \", \");\n",
    "      }\n",
    "    \n",
    "    }\n",
    "  }\n",
    "  \n",
    "  \n",
    "  \n",
    "  Insertion.main(null);"
   ]
  },
  {
   "attachments": {},
   "cell_type": "markdown",
   "metadata": {},
   "source": [
    "## Selection Sort"
   ]
  },
  {
   "cell_type": "code",
   "execution_count": 3,
   "metadata": {
    "vscode": {
     "languageId": "java"
    }
   },
   "outputs": [
    {
     "name": "stdout",
     "output_type": "stream",
     "text": [
      "23, 12, 57, 335, 5433, 24567, 64, 25, 66, \n",
      "12, 23, 25, 57, 64, 66, 335, 5433, 24567, "
     ]
    },
    {
     "ename": "CompilationException",
     "evalue": "",
     "output_type": "error",
     "traceback": [
      "\u001b[1m\u001b[30m|   \u001b[1m\u001b[30m23\u001b[0m\u001b[1m\u001b[30m\u001b[41m\u001b[0m\u001b[1m\u001b[30m, 12, 57, 335, 5433, 24567, 64;\u001b[0m",
      "\u001b[1m\u001b[31m';' expected\u001b[0m",
      ""
     ]
    }
   ],
   "source": [
    "//Method 1: PLacing all the lowest integers to the right, or the end of the array. \n",
    "\n",
    "public class Selection {\n",
    "    public static void main(String[] args){\n",
    "        int[] array = {23,12,57,335,5433,24567,64,25,66};\n",
    "        for (int i = 0; i<array.length; i++){\n",
    "            System.out.print(array[i] + \", \");\n",
    "          }\n",
    "          System.out.println();\n",
    "        int times = array.length;\n",
    "        for (int outer=times; outer>0; outer--){\n",
    "            int min = 0xFFFFFF;\n",
    "            int min_idx = 0;\n",
    "            for(int i=0; i<outer; i++){\n",
    "                if(array[i] < min){\n",
    "                    min = array[i];\n",
    "                    min_idx = i;\n",
    "                }\n",
    "            }\n",
    "            for (int j = min_idx+1; j < array.length; j++){\n",
    "                        array[j-1]=array[j];\n",
    "            }\n",
    "            array[array.length-1] = min;\n",
    "        }\n",
    "        for (int i = 0; i<array.length; i++){\n",
    "            System.out.print(array[i] + \", \");\n",
    "          }\n",
    "    }\n",
    "}\n",
    "\n",
    "Selection.main(null);\n",
    "23, 12, 57, 335, 5433, 24567, 64;"
   ]
  },
  {
   "cell_type": "markdown",
   "metadata": {},
   "source": []
  }
 ],
 "metadata": {
  "kernelspec": {
   "display_name": "Java",
   "language": "java",
   "name": "java"
  },
  "language_info": {
   "codemirror_mode": "java",
   "file_extension": ".jshell",
   "mimetype": "text/x-java-source",
   "name": "Java",
   "pygments_lexer": "java",
   "version": "17.0.5+8-Ubuntu-2ubuntu120.04"
  },
  "orig_nbformat": 4
 },
 "nbformat": 4,
 "nbformat_minor": 2
}
