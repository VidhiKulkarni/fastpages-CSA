{
 "cells": [
  {
   "attachments": {},
   "cell_type": "markdown",
   "metadata": {},
   "source": [
    "# Binary Search Hack 1\n",
    "> Here is my merge sort hack.\n",
    "\n",
    "- toc: true\n",
    "- badges: true\n",
    "- comments: true\n",
    "- categories: [fastpages, hacks]"
   ]
  },
  {
   "cell_type": "code",
   "execution_count": 2,
   "metadata": {
    "vscode": {
     "languageId": "java"
    }
   },
   "outputs": [
    {
     "name": "stdout",
     "output_type": "stream",
     "text": [
      "Index of 45: 6\n"
     ]
    }
   ],
   "source": [
    "public class BinarySearch {\n",
    "    \n",
    "    // recursively searches through the sorted array to find the target value\n",
    "    public static int binarySearch(int[] arr, int start, int end, int target) {\n",
    "        \n",
    "        // calculate the middle index of the array\n",
    "        int mid = (start + end) / 2;\n",
    "\n",
    "        // if the middle element of the array is the target, return the index\n",
    "        if (arr[mid] == target) {\n",
    "            return mid;\n",
    "        }\n",
    "        // if the middle element is greater than the target, search the left half of the array\n",
    "        else if (arr[mid] > target) {\n",
    "            return binarySearch(arr, start, mid - 1, target);\n",
    "        }\n",
    "        // if the middle element is less than the target, search the right half of the array\n",
    "        else {\n",
    "            return binarySearch(arr, mid + 1, end, target);\n",
    "        }\n",
    "    }\n",
    "\n",
    "    // tester\n",
    "    public static void main(String[] args) {\n",
    "        // initialize array and target value\n",
    "        int[] arr = {1, 3, 5, 7, 9, 23, 45, 67};\n",
    "        int target = 45;\n",
    "\n",
    "        // call the binarySearch function and store the index in a variable\n",
    "        int index = binarySearch(arr, 0, arr.length - 1, target);\n",
    "\n",
    "        // print out the result\n",
    "        System.out.println(\"Index of \" + target + \": \" + index);\n",
    "        // expected output: \"Index of 45: 6\"\n",
    "    }\n",
    "}\n",
    "\n",
    "// call the main function to run the program\n",
    "BinarySearch.main(null);\n"
   ]
  }
 ],
 "metadata": {
  "kernelspec": {
   "display_name": "Java",
   "language": "java",
   "name": "java"
  },
  "language_info": {
   "codemirror_mode": "java",
   "file_extension": ".jshell",
   "mimetype": "text/x-java-source",
   "name": "Java",
   "pygments_lexer": "java",
   "version": "17.0.5+8-Ubuntu-2ubuntu120.04"
  },
  "orig_nbformat": 4
 },
 "nbformat": 4,
 "nbformat_minor": 2
}
