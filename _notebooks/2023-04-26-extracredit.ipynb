{
 "cells": [
  {
   "attachments": {},
   "cell_type": "markdown",
   "metadata": {},
   "source": [
    "# Extra Credit FRQ Implementation and Rewrite Random Test\n",
    "> Here is my extra credit\n",
    "\n",
    "- toc: true\n",
    "- badges: true\n",
    "- comments: true\n",
    "- categories: [fastpages, hacks]"
   ]
  },
  {
   "attachments": {},
   "cell_type": "markdown",
   "metadata": {},
   "source": [
    "## Methods and Control Structures FRQ"
   ]
  },
  {
   "cell_type": "code",
   "execution_count": 3,
   "metadata": {
    "vscode": {
     "languageId": "java"
    }
   },
   "outputs": [
    {
     "name": "stdout",
     "output_type": "stream",
     "text": [
      "Reverse the String 'apple': elppa\n",
      "Check if 'mom' is a Palindrome: mom is a palindrome\n",
      "Check if 'computer' is a Palindrome: computer is not a palindrome\n"
     ]
    }
   ],
   "source": [
    "public class StringManip {\n",
    "\n",
    "    // Define a static method that takes a String parameter and returns a reversed String\n",
    "    public static String reverseString(String str) {\n",
    "        \n",
    "        // Get the length of the input String\n",
    "        int length = str.length();\n",
    "        \n",
    "        // Initialize an empty String to store the reversed String\n",
    "        String result = \"\";\n",
    "        \n",
    "        // Convert the input String to a character array\n",
    "        char[] strArray = str.toCharArray();\n",
    "        \n",
    "        // Iterate through the character array backwards and append each character to the result String\n",
    "        for (int i = length - 1; i >= 0; i--) {\n",
    "            result = result + strArray[i];\n",
    "        }\n",
    "        \n",
    "        // Return the reversed String\n",
    "        return result;\n",
    "    }\n",
    "\n",
    "    // Define a static method that takes a String parameter and checks if it is a palindrome\n",
    "    public static String palindromeChecker(String str) {\n",
    "        \n",
    "        // Call the reverseString method to get the reversed String\n",
    "        String reverse = reverseString(str);\n",
    "        \n",
    "        // Compare the original String to the reversed String and check if they are equal\n",
    "        if (str.compareTo(reverse) == 0) {\n",
    "            \n",
    "            // Return a message indicating that the String is a palindrome\n",
    "            return (str + \" is a palindrome\");\n",
    "        } else {\n",
    "            \n",
    "            // Return a message indicating that the String is not a palindrome\n",
    "            return (str + \" is not a palindrome\");\n",
    "        }\n",
    "    }\n",
    "\n",
    "    // Define the main tester method\n",
    "    public static void main(String[] args) {\n",
    "        \n",
    "        // Print the result of reversing the String \"apple\"\n",
    "        System.out.println(\"Reverse the String 'apple': \" + StringManip.reverseString(\"apple\"));\n",
    "        \n",
    "        // Print the result of checking if the String \"mom\" is a palindrome\n",
    "        System.out.println(\"Check if 'mom' is a Palindrome: \" + StringManip.palindromeChecker(\"mom\"));\n",
    "        \n",
    "        // Print the result of checking if the String \"computer\" is a palindrome\n",
    "        System.out.println(\"Check if 'computer' is a Palindrome: \" + StringManip.palindromeChecker(\"computer\"));\n",
    "    }\n",
    "}\n",
    "StringManip.main(null);\n"
   ]
  },
  {
   "attachments": {},
   "cell_type": "markdown",
   "metadata": {},
   "source": [
    "## Writing Classes FRQ"
   ]
  },
  {
   "cell_type": "code",
   "execution_count": 4,
   "metadata": {
    "vscode": {
     "languageId": "java"
    }
   },
   "outputs": [
    {
     "name": "stdout",
     "output_type": "stream",
     "text": [
      "10\n",
      "13\n",
      "10\n"
     ]
    }
   ],
   "source": [
    "public class AdditionPattern {\n",
    "    // private instance variables to store start and add values\n",
    "    private int start;\n",
    "    private int add;\n",
    "\n",
    "    // constructor to initialize instance variables\n",
    "    public AdditionPattern(int start, int add) {\n",
    "        this.start = start;\n",
    "        this.add = add;\n",
    "    }\n",
    "\n",
    "    // method to return current number in sequence\n",
    "    public int currentNumber() {\n",
    "        return start;\n",
    "    }\n",
    "\n",
    "    // method to move to next number in sequence\n",
    "    public void next() {\n",
    "        start += add;\n",
    "    }\n",
    "    \n",
    "    // method to move to previous number in sequence\n",
    "    public void previous() {\n",
    "        start -= add;\n",
    "    }\n",
    "\n",
    "    // main method to test the class\n",
    "    public static void main(String[] args) {\n",
    "        // create a new instance of the class with start=10 and add=3\n",
    "        AdditionPattern addition = new AdditionPattern(10, 3);\n",
    "\n",
    "        // print the current number (should be 10)\n",
    "        System.out.println(addition.currentNumber());\n",
    "\n",
    "        // move to next number and print (should be 13)\n",
    "        addition.next();\n",
    "        System.out.println(addition.currentNumber());\n",
    "\n",
    "        // move to previous number and print (should be 10 again)\n",
    "        addition.previous();\n",
    "        System.out.println(addition.currentNumber());\n",
    "    }\n",
    "}\n",
    "\n",
    "// call the main method to run the program\n",
    "AdditionPattern.main(null);\n"
   ]
  },
  {
   "attachments": {},
   "cell_type": "markdown",
   "metadata": {},
   "source": [
    "## Arrays/Arraylist FRQ"
   ]
  },
  {
   "cell_type": "code",
   "execution_count": 5,
   "metadata": {
    "vscode": {
     "languageId": "java"
    }
   },
   "outputs": [
    {
     "name": "stdout",
     "output_type": "stream",
     "text": [
      "true\n",
      "false\n",
      "false\n",
      "true\n",
      "true\n"
     ]
    }
   ],
   "source": [
    "// The CarRepair class represents a repair job on a car.\n",
    "public class CarRepair {\n",
    "    private int mechanicNum; // The mechanic number responsible for the repair job\n",
    "    private int bayNum; // The bay number where the repair job will take place\n",
    "\n",
    "    // Constructor for creating a new CarRepair object.\n",
    "    public CarRepair(int m, int b) {\n",
    "        mechanicNum = m;\n",
    "        bayNum = b;\n",
    "    }\n",
    "\n",
    "    // Returns the mechanic number for this repair job.\n",
    "    public int getMechanicNum() {\n",
    "        return mechanicNum;\n",
    "    }\n",
    "\n",
    "    // Returns the bay number for this repair job.\n",
    "    public int getBayNum() {\n",
    "        return bayNum;\n",
    "    }\n",
    "    // There may be other instance variables, constructors, and methods not shown.\n",
    "}\n",
    "\n",
    "// The RepairSchedule class manages the schedule of car repairs.\n",
    "public class RepairSchedule {\n",
    "    private ArrayList<CarRepair> schedule; // An arraylist to store the CarRepair objects\n",
    "    private int numberOfMechanics; // The total number of mechanics available to do repairs\n",
    "\n",
    "    // Constructor for creating a new RepairSchedule object.\n",
    "    public RepairSchedule(int n) {\n",
    "        schedule = new ArrayList<CarRepair>();\n",
    "        numberOfMechanics = n;\n",
    "    }\n",
    "\n",
    "    // Adds a new CarRepair object to the schedule if the mechanic and bay are not already in use.\n",
    "    public boolean addRepair(int m, int b) {\n",
    "        for (int i = 0; i < schedule.size(); i++) {\n",
    "            if (schedule.get(i).getMechanicNum() == m || schedule.get(i).getBayNum() == b) {\n",
    "                return false;\n",
    "            }\n",
    "        }\n",
    "        schedule.add(new CarRepair(m, b));\n",
    "        return true;\n",
    "    }\n",
    "\n",
    "    public static void main(String[] args) {\n",
    "        RepairSchedule schedule = new RepairSchedule(3); // create a schedule with 3 mechanics\n",
    "        System.out.println(schedule.addRepair(1, 1)); // should print true\n",
    "        System.out.println(schedule.addRepair(2, 1)); // should print true\n",
    "        System.out.println(schedule.addRepair(1, 2)); // should print true\n",
    "        System.out.println(schedule.addRepair(2, 2)); // should print false (both mechanic 2 and bay 2 are already in use)\n",
    "        System.out.println(schedule.addRepair(3, 3)); // should print true\n",
    "    }\n",
    "}\n",
    "\n",
    "// Call the main method of the RepairSchedule class\n",
    "RepairSchedule.main(null);\n"
   ]
  },
  {
   "attachments": {},
   "cell_type": "markdown",
   "metadata": {},
   "source": [
    "## 2D Arrays FRQ"
   ]
  },
  {
   "cell_type": "code",
   "execution_count": 6,
   "metadata": {
    "vscode": {
     "languageId": "java"
    }
   },
   "outputs": [
    {
     "name": "stdout",
     "output_type": "stream",
     "text": [
      "Testing isNonZeroRow method:\n",
      "true\n",
      "false\n",
      "false\n",
      "Testing resize method:\n",
      "1 2 \n",
      "3 4 \n",
      "5 6 \n"
     ]
    }
   ],
   "source": [
    "public class ArrayResizer {\n",
    "    \n",
    "    // Check if a given row in a 2D array has all non-zero values\n",
    "    public static boolean isNonZeroRow(int[][] array2D, int r) {\n",
    "        // Use == instead of = to compare values\n",
    "        for (int col = 0; col < array2D[0].length; col++) {\n",
    "            if (array2D[r][col] == 0) {\n",
    "                return false;\n",
    "            }\n",
    "        }\n",
    "        // If all values are non-zero, return true\n",
    "        return true;\n",
    "    }\n",
    "\n",
    "    // Resize a 2D array by copying its elements into a new array\n",
    "    public static int[][] resize(int[][] array2D) {\n",
    "        int rownum = 0;\n",
    "        int col = 0;\n",
    "        int[][] arr = new int[array2D.length][array2D[0].length]; // Add semicolon at the end of the line\n",
    "\n",
    "        for (int row = 0; row < array2D.length; row++) {\n",
    "            for (col = 0; col < array2D[0].length; col++) {\n",
    "                arr[rownum][col] = array2D[row][col];\n",
    "            }\n",
    "            rownum++; // Increment rownum to copy elements to the next row in the new array\n",
    "        }\n",
    "        // Return the resized array\n",
    "        return arr;\n",
    "    }\n",
    "\n",
    "    public static void main(String[] args) {\n",
    "        // Call methods inside the main method\n",
    "        // Test isNonZeroRow method\n",
    "        int[][] testArray1 = {{1, 2, 3}, {4, 0, 6}, {7, 8, 9}};\n",
    "        int[][] testArray2 = {{0, 0, 0}, {4, 5, 6}, {7, 8, 9}};\n",
    "\n",
    "        System.out.println(\"Testing isNonZeroRow method:\");\n",
    "        System.out.println(isNonZeroRow(testArray1, 0)); // Expected output: true\n",
    "        System.out.println(isNonZeroRow(testArray1, 1)); // Expected output: false\n",
    "        System.out.println(isNonZeroRow(testArray2, 0)); // Expected output: false\n",
    "\n",
    "        // Test resize method\n",
    "        int[][] testArray3 = {{1, 2}, {3, 4}, {5, 6}};\n",
    "        int[][] resizedArray = resize(testArray3);\n",
    "\n",
    "        System.out.println(\"Testing resize method:\");\n",
    "        for (int i = 0; i < resizedArray.length; i++) {\n",
    "            for (int j = 0; j < resizedArray[0].length; j++) {\n",
    "                System.out.print(resizedArray[i][j] + \" \");\n",
    "            }\n",
    "            System.out.println();\n",
    "        }\n",
    "        // Expected output:\n",
    "        // 1 2\n",
    "        // 3 4\n",
    "        // 5 6\n",
    "    }\n",
    "}\n",
    "ArrayResizer.main(null);\n"
   ]
  }
 ],
 "metadata": {
  "kernelspec": {
   "display_name": "Java",
   "language": "java",
   "name": "java"
  },
  "language_info": {
   "codemirror_mode": "java",
   "file_extension": ".jshell",
   "mimetype": "text/x-java-source",
   "name": "Java",
   "pygments_lexer": "java",
   "version": "17.0.5+8-Ubuntu-2ubuntu120.04"
  },
  "orig_nbformat": 4
 },
 "nbformat": 4,
 "nbformat_minor": 2
}
