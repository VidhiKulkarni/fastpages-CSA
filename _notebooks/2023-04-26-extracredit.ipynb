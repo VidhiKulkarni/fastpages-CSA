{
 "cells": [
  {
   "attachments": {},
   "cell_type": "markdown",
   "metadata": {},
   "source": [
    "# Extra Credit FRQ Implementation and Rewrite Random Test\n",
    "> Here is my extra credit\n",
    "\n",
    "- toc: true\n",
    "- badges: true\n",
    "- comments: true\n",
    "- categories: [fastpages, hacks]"
   ]
  },
  {
   "attachments": {},
   "cell_type": "markdown",
   "metadata": {},
   "source": [
    "## Methods and Control Structures FRQ"
   ]
  },
  {
   "cell_type": "code",
   "execution_count": 19,
   "metadata": {
    "vscode": {
     "languageId": "java"
    }
   },
   "outputs": [
    {
     "name": "stdout",
     "output_type": "stream",
     "text": [
      "Reverse the String 'apple': elppa\n",
      "Check if 'mom' is a Palindrome: mom is a palindrome\n",
      "Check if 'computer' is a Palindrome: computer is not a palindrome\n"
     ]
    }
   ],
   "source": [
    "public class StringManip{\n",
    "public static String reverseString(String str) {\n",
    "    int length = str.length();\n",
    "    String result = \"\";\n",
    "    char[] strArray = str.toCharArray();\n",
    "    for (int i = length - 1; i >= 0; i--) {\n",
    "        result = result + strArray[i];\n",
    "    }\n",
    "    return result;\n",
    "}\n",
    "\n",
    "public static String palindromeChecker(String str) {\n",
    "    String reverse = reverseString(str);\n",
    "    if (str.compareTo(reverse) == 0) {\n",
    "        return (str + \" is a palindrome\");\n",
    "    } else {\n",
    "        return (str + \" is not a palindrome\");\n",
    "    }\n",
    "}\n",
    "\n",
    "public static void main(String[] args){\n",
    "    System.out.println(\"Reverse the String 'apple': \" + StringManip.reverseString(\"apple\"));\n",
    "    System.out.println(\"Check if 'mom' is a Palindrome: \" + StringManip.palindromeChecker(\"mom\"));\n",
    "    System.out.println(\"Check if 'computer' is a Palindrome: \" + StringManip.palindromeChecker(\"computer\"));\n",
    "}\n",
    "}\n",
    "StringManip.main(null)"
   ]
  },
  {
   "attachments": {},
   "cell_type": "markdown",
   "metadata": {},
   "source": [
    "## Writing Classes FRQ"
   ]
  },
  {
   "cell_type": "code",
   "execution_count": 27,
   "metadata": {
    "vscode": {
     "languageId": "java"
    }
   },
   "outputs": [
    {
     "name": "stdout",
     "output_type": "stream",
     "text": [
      "10\n",
      "13\n",
      "10\n"
     ]
    }
   ],
   "source": [
    "public class AdditionPattern {\n",
    "    private int start;\n",
    "    private int add;\n",
    "\n",
    "    public AdditionPattern(int start, int add) {\n",
    "        this.start = start;\n",
    "        this.add = add;\n",
    "    }\n",
    "\n",
    "    public int currentNumber() {\n",
    "        return start;\n",
    "    }\n",
    "\n",
    "    public void next() {\n",
    "        start += add;\n",
    "    }\n",
    "    \n",
    "    public void previous() {\n",
    "        start -= add;\n",
    "    }\n",
    "\n",
    "    public static void main(String[] args) {\n",
    "        AdditionPattern addition = new AdditionPattern(10, 3);\n",
    "\n",
    "        System.out.println(addition.currentNumber());\n",
    "        addition.next();\n",
    "        System.out.println(addition.currentNumber());\n",
    "        addition.previous();\n",
    "        System.out.println(addition.currentNumber());\n",
    "    }\n",
    "}\n",
    "AdditionPattern.main(null)"
   ]
  },
  {
   "attachments": {},
   "cell_type": "markdown",
   "metadata": {},
   "source": [
    "## Arrays/Arraylist FRQ"
   ]
  },
  {
   "cell_type": "code",
   "execution_count": 48,
   "metadata": {
    "vscode": {
     "languageId": "java"
    }
   },
   "outputs": [
    {
     "name": "stdout",
     "output_type": "stream",
     "text": [
      "true\n",
      "false\n",
      "false\n",
      "true\n",
      "true\n"
     ]
    }
   ],
   "source": [
    "public class CarRepair\n",
    "{\n",
    "private int mechanicNum;\n",
    "private int bayNum;\n",
    "\n",
    "public CarRepair(int m, int b)\n",
    "{\n",
    "mechanicNum = m;\n",
    "bayNum = b;\n",
    "}\n",
    " \n",
    "public int getMechanicNum()\n",
    "{ return mechanicNum; }\n",
    "\n",
    "public int getBayNum()\n",
    "{ return bayNum; }\n",
    "\n",
    "// There may be other instance variables, constructors, and methods not shown.\n",
    "\n",
    "}\n",
    "\n",
    "\n",
    "public class RepairSchedule {\n",
    "    private ArrayList<CarRepair> schedule;\n",
    "    private int numberOfMechanics;\n",
    "\n",
    "    public RepairSchedule(int n) {\n",
    "    schedule = new ArrayList<CarRepair>();\n",
    "    numberOfMechanics = n;\n",
    "    }\n",
    "\n",
    "    public boolean addRepair(int m, int b) {\n",
    "    for (int i = 0; i < schedule.size(); i++) {\n",
    "        if (schedule.get(i).getMechanicNum() == m || schedule.get(i).getBayNum() == b) {\n",
    "            return false;\n",
    "        }\n",
    "    }\n",
    "    schedule.add(new CarRepair(m, b));\n",
    "    return true;\n",
    "}\n",
    "public static void main(String[] args) {\n",
    "    RepairSchedule schedule = new RepairSchedule(3); // create a schedule with 3 mechanics\n",
    "    System.out.println(schedule.addRepair(1, 1)); // should print true\n",
    "    System.out.println(schedule.addRepair(2, 1)); // should print true\n",
    "    System.out.println(schedule.addRepair(1, 2)); // should print true\n",
    "    System.out.println(schedule.addRepair(2, 2)); // should print false (both mechanic 2 and bay 2 are already in use)\n",
    "    System.out.println(schedule.addRepair(3, 3)); // should print true\n",
    "}\n",
    "}\n",
    "RepairSchedule.main(null);"
   ]
  },
  {
   "attachments": {},
   "cell_type": "markdown",
   "metadata": {},
   "source": [
    "## 2D Arrays FRQ"
   ]
  },
  {
   "cell_type": "code",
   "execution_count": 2,
   "metadata": {
    "vscode": {
     "languageId": "java"
    }
   },
   "outputs": [
    {
     "name": "stdout",
     "output_type": "stream",
     "text": [
      "Testing isNonZeroRow method:\n",
      "true\n",
      "false\n",
      "false\n",
      "Testing resize method:\n",
      "1 2 \n",
      "3 4 \n",
      "5 6 \n"
     ]
    }
   ],
   "source": [
    "public class ArrayResizer {\n",
    "    public static boolean isNonZeroRow(int[][] array2D, int r) {\n",
    "        // Use == instead of = to compare values\n",
    "        for (int col = 0; col < array2D[0].length; col++) {\n",
    "            if (array2D[r][col] == 0) {\n",
    "                return false;\n",
    "            }\n",
    "        }\n",
    "        // Move return statement inside the method\n",
    "        return true;\n",
    "    }\n",
    "\n",
    "    public static int[][] resize(int[][] array2D) {\n",
    "        int rownum = 0;\n",
    "        int col = 0;\n",
    "        int[][] arr = new int[array2D.length][array2D[0].length]; // Add semicolon at the end of the line\n",
    "\n",
    "        for (int row = 0; row < array2D.length; row++) {\n",
    "            for (col = 0; col < array2D[0].length; col++) {\n",
    "                arr[rownum][col] = array2D[row][col];\n",
    "            }\n",
    "            rownum++; // Move increment statement inside the outer loop\n",
    "        }\n",
    "        // Add return statement\n",
    "        return arr;\n",
    "    }\n",
    "\n",
    "    public static void main(String[] args) {\n",
    "        // Call methods inside the main method\n",
    "        // Test isNonZeroRow method\n",
    "        int[][] testArray1 = {{1, 2, 3}, {4, 0, 6}, {7, 8, 9}};\n",
    "        int[][] testArray2 = {{0, 0, 0}, {4, 5, 6}, {7, 8, 9}};\n",
    "\n",
    "        System.out.println(\"Testing isNonZeroRow method:\");\n",
    "        System.out.println(isNonZeroRow(testArray1, 0)); // Expected output: true\n",
    "        System.out.println(isNonZeroRow(testArray1, 1)); // Expected output: false\n",
    "        System.out.println(isNonZeroRow(testArray2, 0)); // Expected output: false\n",
    "\n",
    "        // Test resize method\n",
    "        int[][] testArray3 = {{1, 2}, {3, 4}, {5, 6}};\n",
    "        int[][] resizedArray = resize(testArray3);\n",
    "\n",
    "        System.out.println(\"Testing resize method:\");\n",
    "        for (int i = 0; i < resizedArray.length; i++) {\n",
    "            for (int j = 0; j < resizedArray[0].length; j++) {\n",
    "                System.out.print(resizedArray[i][j] + \" \");\n",
    "            }\n",
    "            System.out.println();\n",
    "        }\n",
    "        // Expected output:\n",
    "        // 1 2\n",
    "        // 3 4\n",
    "        // 5 6\n",
    "    }\n",
    "}\n",
    "ArrayResizer.main(null);"
   ]
  }
 ],
 "metadata": {
  "kernelspec": {
   "display_name": "Java",
   "language": "java",
   "name": "java"
  },
  "language_info": {
   "codemirror_mode": "java",
   "file_extension": ".jshell",
   "mimetype": "text/x-java-source",
   "name": "Java",
   "pygments_lexer": "java",
   "version": "17.0.5+8-Ubuntu-2ubuntu120.04"
  },
  "orig_nbformat": 4
 },
 "nbformat": 4,
 "nbformat_minor": 2
}
