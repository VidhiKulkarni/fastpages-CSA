{
 "cells": [
  {
   "attachments": {},
   "cell_type": "markdown",
   "metadata": {},
   "source": [
    "# MacroMonkeys Hacks and Extra Credit\n",
    "> Here are my MacroMonkeys Hacks\n",
    "\n",
    "- toc: true\n",
    "- badges: true\n",
    "- comments: true\n",
    "- categories: [fastpages, hacks]"
   ]
  },
  {
   "attachments": {},
   "cell_type": "markdown",
   "metadata": {},
   "source": [
    "## Extra Credit - Write FRQ on Arrays/2D Arrays\n",
    "\n",
    "Consider the following code segment:"
   ]
  },
  {
   "cell_type": "code",
   "execution_count": null,
   "metadata": {
    "vscode": {
     "languageId": "java"
    }
   },
   "outputs": [],
   "source": [
    "public static int[] removeDuplicates(int[] arr) {\n",
    "    int[] result = new int[arr.length];\n",
    "    int index = 0;\n",
    "    for (int i = 0; i < arr.length; i++) {\n",
    "      boolean isDuplicate = false;\n",
    "      for (int j = 0; j < index; j++) {\n",
    "        if (arr[i] == result[j]) {\n",
    "          isDuplicate = true;\n",
    "          break;\n",
    "        }\n",
    "      }\n",
    "      if (!isDuplicate) {\n",
    "        result[index] = arr[i];\n",
    "        index++;\n",
    "      }\n",
    "    }\n",
    "    int[] trimmedResult = new int[index];\n",
    "    for (int i = 0; i < index; i++) {\n",
    "      trimmedResult[i] = result[i];\n",
    "    }\n",
    "    return trimmedResult;\n",
    "  }\n",
    "  "
   ]
  },
  {
   "attachments": {},
   "cell_type": "markdown",
   "metadata": {},
   "source": [
    "Assume that the above code segment is executed with the input array arr containing the following values:"
   ]
  },
  {
   "cell_type": "code",
   "execution_count": null,
   "metadata": {
    "vscode": {
     "languageId": "java"
    }
   },
   "outputs": [],
   "source": [
    "int[] arr = { 1, 2, 3, 2, 4, 1 };"
   ]
  },
  {
   "attachments": {},
   "cell_type": "markdown",
   "metadata": {},
   "source": [
    "Answer the following questions:\n",
    "\n",
    "What is the output of the removeDuplicates method when called with the input array arr?\n",
    "What is the purpose of the variable index in the removeDuplicates method?\n",
    "Suppose that the input array arr contains only non-negative integers. How could you modify the removeDuplicates method to make it more efficient?\n"
   ]
  },
  {
   "cell_type": "code",
   "execution_count": null,
   "metadata": {
    "vscode": {
     "languageId": "java"
    }
   },
   "outputs": [],
   "source": [
    "int[][] arr = new int[3][4];\n",
    "for (int i = 0; i < arr.length; i++) {\n",
    "  for (int j = 0; j < arr[i].length; j++) {\n",
    "    arr[i][j] = i * j;\n",
    "  }\n",
    "}\n"
   ]
  },
  {
   "attachments": {},
   "cell_type": "markdown",
   "metadata": {},
   "source": [
    "Assume that the above code segment is executed. Answer the following questions:\n",
    "\n",
    "What is the length of the array arr?\n",
    "What is the length of the array arr[1]?\n",
    "What is the value of arr[2][3]?\n",
    "What is the value of arr[0][2]?\n",
    "Write a code segment that prints all the elements of the 2D array arr."
   ]
  },
  {
   "cell_type": "code",
   "execution_count": null,
   "metadata": {
    "vscode": {
     "languageId": "java"
    }
   },
   "outputs": [],
   "source": [
    "int[][] arr = new int[3][];\n",
    "arr[0] = new int[] {1, 2, 3};\n",
    "arr[1] = new int[] {4, 5};\n",
    "arr[2] = new int[] {6, 7, 8, 9};\n"
   ]
  },
  {
   "attachments": {},
   "cell_type": "markdown",
   "metadata": {},
   "source": [
    "Assume that the above code segment is executed. Answer the following questions:\n",
    "\n",
    "What is the length of the array arr?\n",
    "What is the length of the array arr[1]?\n",
    "What is the value of arr[2][3]?\n",
    "What is the value of arr[1][2]?\n",
    "Write a code segment that prints all the elements of the 2D array arr."
   ]
  },
  {
   "cell_type": "code",
   "execution_count": 1,
   "metadata": {
    "vscode": {
     "languageId": "java"
    }
   },
   "outputs": [
    {
     "name": "stdout",
     "output_type": "stream",
     "text": [
      "10\n",
      "10\n",
      "10\n",
      "10\n",
      "10\n",
      "10\n",
      "10\n",
      "10\n",
      "10\n",
      "10\n"
     ]
    }
   ],
   "source": [
    "void setArray(int[] arr, int n) {\n",
    "    for (int i = 0; i < arr.length; i++) {\n",
    "        arr[i] = n;\n",
    "        //sets each of the 0 to n, which is 10 in this case\n",
    "    }\n",
    "}\n",
    "\n",
    "int[] array = new int[10];\n",
    "setArray(array, 10);\n",
    "\n",
    "for (int i = 0; i<array.length; i++) {\n",
    "    System.out.println(array[i]);\n",
    "}"
   ]
  },
  {
   "cell_type": "code",
   "execution_count": 2,
   "metadata": {
    "vscode": {
     "languageId": "java"
    }
   },
   "outputs": [
    {
     "name": "stdout",
     "output_type": "stream",
     "text": [
      "5\n"
     ]
    }
   ],
   "source": [
    "public static int average(int[] array) {\n",
    "    int sum = 0;\n",
    "    for (int i = 0; i < array.length; i++) {\n",
    "        sum += array[i];\n",
    "    } //adds each array element to sum and divides by length of array\n",
    "    return sum / array.length;\n",
    "}\n",
    "\n",
    "//tester array\n",
    "int[] test = {3, 5, 7, 2, 10};\n",
    "\n",
    "//returns 10\n",
    "System.out.println(average(test));"
   ]
  },
  {
   "cell_type": "code",
   "execution_count": 3,
   "metadata": {
    "vscode": {
     "languageId": "java"
    }
   },
   "outputs": [],
   "source": [
    "public static void main(String[] args){\n",
    "    int[][] arrayOne = new int[5][7];\n",
    "    for (int row = 0; row < arrayOne.length; row++){\n",
    "        for (int col = 0; col < arrayOne[row].length; col++){\n",
    "            arrayOne[row][col] = row+col - 1;\n",
    "        }\n",
    "    }\n",
    "\n",
    "    System.out.println(arrayOne[4][6]);\n",
    "}"
   ]
  },
  {
   "cell_type": "code",
   "execution_count": 4,
   "metadata": {
    "vscode": {
     "languageId": "java"
    }
   },
   "outputs": [
    {
     "name": "stdout",
     "output_type": "stream",
     "text": [
      "8.6\n"
     ]
    }
   ],
   "source": [
    "public static double averageDiagonal (int[][] array2D) {\n",
    "    // your code here\n",
    "    int sum = 0;\n",
    "    int count = 0;\n",
    "    int row = 0;\n",
    "    int col = 0;\n",
    "    \n",
    "    // Iterate over the diagonal elements of the array\n",
    "    while (row < array2D.length && col < array2D[0].length) {\n",
    "        sum += array2D[row][col];\n",
    "        count++;\n",
    "        row++;\n",
    "        col++;\n",
    "    }\n",
    "    \n",
    "    // Calculate and return the average\n",
    "    return (double) sum / count;\n",
    "}\n",
    "\n",
    "int[][] arr = {\n",
    "    {1,2,3,4,5,6},\n",
    "    {7,8,9,10,11,12},\n",
    "    {0,1,2,3,4,5},\n",
    "    {10,11,12,13,14,15},\n",
    "    {15,16,17,18,19,20}\n",
    "    //populating an arr\n",
    "};\n",
    "\n",
    "System.out.println(averageDiagonal(arr));"
   ]
  }
 ],
 "metadata": {
  "kernelspec": {
   "display_name": "Java",
   "language": "java",
   "name": "java"
  },
  "language_info": {
   "codemirror_mode": "java",
   "file_extension": ".jshell",
   "mimetype": "text/x-java-source",
   "name": "Java",
   "pygments_lexer": "java",
   "version": "17.0.5+8-Ubuntu-2ubuntu120.04"
  },
  "orig_nbformat": 4
 },
 "nbformat": 4,
 "nbformat_minor": 2
}
