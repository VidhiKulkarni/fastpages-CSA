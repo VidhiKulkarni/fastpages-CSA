{
 "cells": [
  {
   "attachments": {},
   "cell_type": "markdown",
   "metadata": {},
   "source": [
    "# Random Quiz\n",
    "> My random quiz code is in this notebook\n",
    "\n",
    "- toc: true\n",
    "- badges: true\n",
    "- comments: true\n",
    "- categories: [fastpages, jupyter]"
   ]
  },
  {
   "cell_type": "code",
   "execution_count": 20,
   "metadata": {},
   "outputs": [
    {
     "name": "stdout",
     "output_type": "stream",
     "text": [
      "Book title: The Book Thief; id: d964f0f6-1fe9-4322-85f2-47a842a32d3a\n",
      "Book title: The Midnight Library; id: 19ecf963-1682-4aca-9227-c88252ce66f6\n",
      "Book Count: 2\n"
     ]
    }
   ],
   "source": [
    "//Part 1\n",
    "\n",
    "import java.util.UUID;\n",
    "public class Book{\n",
    "    private String title;\n",
    "    private UUID id;\n",
    "    private static int bookCount = 0;\n",
    "    public Book(String bookTitle){\n",
    "        this.title = bookTitle;\n",
    "        id = UUID.randomUUID();\n",
    "        bookCount++;\n",
    "    }\n",
    "    public UUID getId() {\n",
    "        return id;\n",
    "    }\n",
    "    public String toString(){\n",
    "        return \"Book title: \" + title + \"; id: \" + id;\n",
    "    }\n",
    "    public static int getBookCount(){\n",
    "        return bookCount;\n",
    "    }\n",
    "    public static void main(String[] args){\n",
    "        Book book = new Book(\"The Book Thief\");\n",
    "        Book book2 = new Book(\"The Midnight Library\");\n",
    "        System.out.println(book);\n",
    "        System.out.println(book2);\n",
    "        System.out.println(\"Book Count: \" + Book.getBookCount());\n",
    "    }\n",
    "}\n",
    "Book.main(null);"
   ]
  },
  {
   "cell_type": "code",
   "execution_count": 23,
   "metadata": {},
   "outputs": [
    {
     "name": "stdout",
     "output_type": "stream",
     "text": [
      "Novel title: null\n",
      "Novel author: Author\n",
      "Novel time: 12\n"
     ]
    }
   ],
   "source": [
    "public class Novel extends Book{\n",
    "    public String author;\n",
    "    private int enteredLib;\n",
    "    private String bookTitle;\n",
    "    public Novel(String bookTitle, String author,int enteredLib){\n",
    "        super(bookTitle);\n",
    "        this.author = author;\n",
    "        this.enteredLib = enteredLib;\n",
    "    }\n",
    "    public void setTitle(String bookTitle) {\n",
    "        this.bookTitle = bookTitle;\n",
    "    }\n",
    "    public String getTitle() {\n",
    "        return bookTitle;\n",
    "    }\n",
    "    public String getAuthor() {\n",
    "        return author;\n",
    "    }\n",
    "    public int getEnteredLib() {\n",
    "        return enteredLib;\n",
    "    }\n",
    "    public void setEnteredLib(int enteredLib) {\n",
    "        this.enteredLib = enteredLib;\n",
    "    }\n",
    "    public static void main(String[] args) {\n",
    "        Novel novel = new Novel(\"This Book\", \"Author\", 12);\n",
    "        System.out.println(\"Novel title: \" + novel.getTitle());\n",
    "        System.out.println(\"Novel author: \" + novel.getAuthor());\n",
    "        System.out.println(\"Novel time: \" + novel.getEnteredLib());\n",
    "    }\n",
    "}\n",
    "Novel.main(null);"
   ]
  },
  {
   "cell_type": "code",
   "execution_count": 24,
   "metadata": {},
   "outputs": [
    {
     "name": "stdout",
     "output_type": "stream",
     "text": [
      "Textbook title: null\n",
      "Textbook author: Company\n",
      "Textbook time: 15\n"
     ]
    }
   ],
   "source": [
    "public class Textbook extends Book{\n",
    "    public String pCompany;\n",
    "    private int enteredLib;\n",
    "    private String textbookTitle;\n",
    "    public Textbook(String textbookTitle, String pCompany,int enteredLib){\n",
    "        super(textbookTitle);\n",
    "        this.pCompany = pCompany;\n",
    "        this.enteredLib = enteredLib;\n",
    "    }\n",
    "    public String getCompany() {\n",
    "        return pCompany;\n",
    "    }\n",
    "    public void setCompany(String pCompany) {\n",
    "        this.pCompany = pCompany;\n",
    "    }\n",
    "    public void setTitle(String textbookTitle) {\n",
    "        this.textbookTitle = textbookTitle;\n",
    "    }\n",
    "    public String getTitle() {\n",
    "        return textbookTitle;\n",
    "    }\n",
    "    public int getEnteredLib() {\n",
    "        return enteredLib;\n",
    "    }\n",
    "    public void setEnteredLib(int enteredLib) {\n",
    "        this.enteredLib = enteredLib;\n",
    "    }\n",
    "    public static void main(String[] args) {\n",
    "        Textbook textbook = new Textbook(\"This Textbook\", \"Company\", 15);\n",
    "        System.out.println(\"Textbook title: \" + textbook.getTitle());\n",
    "        System.out.println(\"Textbook author: \" + textbook.getCompany());\n",
    "        System.out.println(\"Textbook time: \" + textbook.getEnteredLib());\n",
    "    }\n",
    "}\n",
    "Textbook.main(null);"
   ]
  }
 ],
 "metadata": {
  "kernelspec": {
   "display_name": "Java",
   "language": "java",
   "name": "java"
  },
  "language_info": {
   "codemirror_mode": "java",
   "file_extension": ".jshell",
   "mimetype": "text/x-java-source",
   "name": "java",
   "pygments_lexer": "java",
   "version": "17.0.5+8-Ubuntu-2ubuntu120.04"
  },
  "orig_nbformat": 4
 },
 "nbformat": 4,
 "nbformat_minor": 2
}
