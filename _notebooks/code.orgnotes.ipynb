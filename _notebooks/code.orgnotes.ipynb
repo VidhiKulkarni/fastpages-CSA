{
 "cells": [
  {
   "cell_type": "markdown",
   "metadata": {},
   "source": [
    "# Code.org Notes\n",
    "> Discussing what I learned from code.org this week.\n",
    "\n",
    "- toc: true\n",
    "- badges: true\n",
    "- comments: true\n",
    "- categories: [fastpages, hacks]"
   ]
  },
  {
   "cell_type": "markdown",
   "metadata": {},
   "source": [
    "## Extends\n",
    "\n",
    "extends a class (indicates that a class is inherited from another class)\n",
    "inherit attributes and methods from one class to another"
   ]
  },
  {
   "cell_type": "code",
   "execution_count": null,
   "metadata": {},
   "outputs": [],
   "source": [
    "public class PainterPlus extends Painter {"
   ]
  },
  {
   "cell_type": "markdown",
   "metadata": {},
   "source": [
    "PainterPlus subclass extends from Painter superclass"
   ]
  },
  {
   "cell_type": "markdown",
   "metadata": {},
   "source": [
    "## Creating Objects"
   ]
  },
  {
   "cell_type": "code",
   "execution_count": null,
   "metadata": {},
   "outputs": [],
   "source": [
    "PainterPlus myPainterPlus = new PainterPlus();"
   ]
  },
  {
   "cell_type": "markdown",
   "metadata": {},
   "source": [
    "Making a new object, PainterPlus, from the class myPainterPlus"
   ]
  },
  {
   "cell_type": "markdown",
   "metadata": {},
   "source": [
    "## Using Objects"
   ]
  },
  {
   "cell_type": "code",
   "execution_count": null,
   "metadata": {},
   "outputs": [],
   "source": [
    "myPainterPlus.turnRight();"
   ]
  },
  {
   "cell_type": "markdown",
   "metadata": {},
   "source": [
    "Using the myPainterPlus object to turn right (method)"
   ]
  },
  {
   "cell_type": "code",
   "execution_count": null,
   "metadata": {},
   "outputs": [],
   "source": [
    "public class Menu"
   ]
  },
  {
   "cell_type": "markdown",
   "metadata": {},
   "source": [
    "Defining a Class"
   ]
  },
  {
   "cell_type": "markdown",
   "metadata": {},
   "source": [
    "Mutating Data is when a program takes the original input and mutates it into a different output"
   ]
  },
  {
   "cell_type": "code",
   "execution_count": null,
   "metadata": {},
   "outputs": [],
   "source": [
    "input3 = new Scanner(System.in);\n",
    "System.out.println(\"Enter your name as a string: \");\n",
    "String name = input3.nextLine();\n",
    "System.out.println(\"Hello \" + name );\n",
    "input3.close();"
   ]
  },
  {
   "cell_type": "markdown",
   "metadata": {},
   "source": [
    "GUI Console:\n",
    "- Javax Swing UI (JFrame)\n",
    "- Timer with a TimerTask to allow action to repeatedly occur without halting thread.\n",
    "\n",
    "\n",
    "Console Menu:\n",
    "- A 2D array is used to store COLORS\n",
    "- A Control Structure, Switch, is used to process Menu select to code that performs related action"
   ]
  }
 ],
 "metadata": {
  "kernelspec": {
   "display_name": "Java",
   "language": "java",
   "name": "java"
  },
  "language_info": {
   "name": "java",
   "version": "3.8.10"
  },
  "orig_nbformat": 4,
  "vscode": {
   "interpreter": {
    "hash": "916dbcbb3f70747c44a77c7bcd40155683ae19c65e1c03b4aa3499c5328201f1"
   }
  }
 },
 "nbformat": 4,
 "nbformat_minor": 2
}
