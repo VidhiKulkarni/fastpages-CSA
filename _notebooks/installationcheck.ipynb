{
 "cells": [
  {
   "cell_type": "code",
   "execution_count": 1,
   "metadata": {
    "vscode": {
     "languageId": "shellscript"
    }
   },
   "outputs": [
    {
     "name": "stdout",
     "output_type": "stream",
     "text": [
      "Python 3.9.13\n",
      "Python 2.7.18\n"
     ]
    }
   ],
   "source": []
  },
  {
   "cell_type": "markdown",
   "metadata": {},
   "source": [
    "python --version\n",
    "python2 --version"
   ]
  },
  {
   "cell_type": "code",
   "execution_count": 2,
   "metadata": {
    "vscode": {
     "languageId": "shellscript"
    }
   },
   "outputs": [
    {
     "name": "stdout",
     "output_type": "stream",
     "text": [
      "# packages in environment at /home/vidhi/miniconda3:\n",
      "#\n",
      "# Name                    Version                   Build  Channel\n",
      "_libgcc_mutex             0.1                 conda_forge    conda-forge\n",
      "_openmp_mutex             4.5                       2_gnu    conda-forge\n",
      "alsa-lib                  1.2.6.1              h7f98852_0    conda-forge\n",
      "argon2-cffi               21.3.0             pyhd8ed1ab_0    conda-forge\n",
      "argon2-cffi-bindings      21.2.0           py39hb9d737c_2    conda-forge\n",
      "asttokens                 2.0.8              pyhd8ed1ab_0    conda-forge\n",
      "attr                      2.5.1                h166bdaf_1    conda-forge\n",
      "attrs                     22.1.0             pyh71513ae_1    conda-forge\n",
      "backcall                  0.2.0              pyh9f0ad1d_0    conda-forge\n",
      "backports                 1.0                        py_2    conda-forge\n",
      "backports.functools_lru_cache 1.6.4              pyhd8ed1ab_0    conda-forge\n",
      "bash-kernel               0.7.2                    pypi_0    pypi\n",
      "beautifulsoup4            4.11.1             pyha770c72_0    conda-forge\n",
      "bleach                    5.0.1              pyhd8ed1ab_0    conda-forge\n",
      "brotlipy                  0.7.0           py39hb9d737c_1004    conda-forge\n",
      "bzip2                     1.0.8                h7f98852_4    conda-forge\n",
      "ca-certificates           2022.6.15            ha878542_0    conda-forge\n",
      "certifi                   2022.6.15        py39hf3d152e_0    conda-forge\n",
      "cffi                      1.15.1           py39he91dace_0    conda-forge\n",
      "charset-normalizer        2.1.0              pyhd8ed1ab_0    conda-forge\n",
      "colorama                  0.4.5              pyhd8ed1ab_0    conda-forge\n",
      "conda                     4.14.0           py39hf3d152e_0    conda-forge\n",
      "conda-package-handling    1.8.1            py39hb9d737c_1    conda-forge\n",
      "cryptography              37.0.1           py39h9ce1e76_0  \n",
      "dbus                      1.13.6               h5008d03_3    conda-forge\n",
      "debugpy                   1.6.3            py39h5a03fae_0    conda-forge\n",
      "decorator                 5.1.1              pyhd8ed1ab_0    conda-forge\n",
      "defusedxml                0.7.1              pyhd8ed1ab_0    conda-forge\n",
      "entrypoints               0.4                pyhd8ed1ab_0    conda-forge\n",
      "executing                 0.10.0             pyhd8ed1ab_0    conda-forge\n",
      "expat                     2.4.8                h27087fc_0    conda-forge\n",
      "fftw                      3.3.10          nompi_ha7695d1_103    conda-forge\n",
      "flit-core                 3.7.1              pyhd8ed1ab_0    conda-forge\n",
      "font-ttf-dejavu-sans-mono 2.37                 hab24e00_0    conda-forge\n",
      "font-ttf-inconsolata      3.000                h77eed37_0    conda-forge\n",
      "font-ttf-source-code-pro  2.038                h77eed37_0    conda-forge\n",
      "font-ttf-ubuntu           0.83                 hab24e00_0    conda-forge\n",
      "fontconfig                2.14.0               h8e229c2_0    conda-forge\n",
      "fonts-conda-ecosystem     1                             0    conda-forge\n",
      "fonts-conda-forge         1                             0    conda-forge\n",
      "freetype                  2.12.1               hca18f0e_0    conda-forge\n",
      "gettext                   0.19.8.1          h73d1719_1008    conda-forge\n",
      "glib                      2.72.1               h6239696_0    conda-forge\n",
      "glib-tools                2.72.1               h6239696_0    conda-forge\n",
      "gst-plugins-base          1.20.3               hf6a322e_0    conda-forge\n",
      "gstreamer                 1.20.3               hd4edc92_0    conda-forge\n",
      "icu                       70.1                 h27087fc_0    conda-forge\n",
      "idna                      3.3                pyhd8ed1ab_0    conda-forge\n",
      "importlib-metadata        4.11.4           py39hf3d152e_0    conda-forge\n",
      "importlib_resources       5.9.0              pyhd8ed1ab_0    conda-forge\n",
      "ipykernel                 6.15.1             pyh210e3f2_0    conda-forge\n",
      "ipython                   8.4.0            py39hf3d152e_0    conda-forge\n",
      "ipython_genutils          0.2.0                      py_1    conda-forge\n",
      "ipywidgets                7.7.1              pyhd8ed1ab_0    conda-forge\n",
      "jack                      1.9.18            h8c3723f_1002    conda-forge\n",
      "jedi                      0.18.1             pyhd8ed1ab_2    conda-forge\n",
      "jinja2                    3.1.2              pyhd8ed1ab_1    conda-forge\n",
      "jpeg                      9e                   h166bdaf_2    conda-forge\n",
      "jsonschema                4.9.1              pyhd8ed1ab_0    conda-forge\n",
      "jupyter                   1.0.0            py39hf3d152e_7    conda-forge\n",
      "jupyter_client            7.3.4              pyhd8ed1ab_0    conda-forge\n",
      "jupyter_console           6.4.4              pyhd8ed1ab_0    conda-forge\n",
      "jupyter_core              4.11.1           py39hf3d152e_0    conda-forge\n",
      "jupyterlab_pygments       0.2.2              pyhd8ed1ab_0    conda-forge\n",
      "jupyterlab_widgets        1.1.1              pyhd8ed1ab_0    conda-forge\n",
      "keyutils                  1.6.1                h166bdaf_0    conda-forge\n",
      "krb5                      1.19.3               h3790be6_0    conda-forge\n",
      "ld_impl_linux-64          2.36.1               hea4e1c9_2    conda-forge\n",
      "libcap                    2.64                 ha37c62d_0    conda-forge\n",
      "libclang                  14.0.6          default_h2e3cab8_0    conda-forge\n",
      "libclang13                14.0.6          default_h3a83d3e_0    conda-forge\n",
      "libcups                   2.3.3                h3e49a29_2    conda-forge\n",
      "libdb                     6.2.32               h9c3ff4c_0    conda-forge\n",
      "libedit                   3.1.20191231         he28a2e2_2    conda-forge\n",
      "libevent                  2.1.10               h9b69904_4    conda-forge\n",
      "libffi                    3.4.2                h7f98852_5    conda-forge\n",
      "libflac                   1.3.4                h27087fc_0    conda-forge\n",
      "libgcc-ng                 12.1.0              h8d9b700_16    conda-forge\n",
      "libgfortran-ng            12.1.0              h69a702a_16    conda-forge\n",
      "libgfortran5              12.1.0              hdcd56e2_16    conda-forge\n",
      "libglib                   2.72.1               h2d90d5f_0    conda-forge\n",
      "libgomp                   12.1.0              h8d9b700_16    conda-forge\n",
      "libiconv                  1.16                 h516909a_0    conda-forge\n",
      "libllvm14                 14.0.6               he0ac6c6_0    conda-forge\n",
      "libnsl                    2.0.0                h7f98852_0    conda-forge\n",
      "libogg                    1.3.4                h7f98852_1    conda-forge\n",
      "libopus                   1.3.1                h7f98852_1    conda-forge\n",
      "libpng                    1.6.37               h753d276_4    conda-forge\n",
      "libpq                     14.5                 hd77ab85_0    conda-forge\n",
      "libsndfile                1.0.31               h9c3ff4c_1    conda-forge\n",
      "libsodium                 1.0.18               h36c2ea0_1    conda-forge\n",
      "libstdcxx-ng              12.1.0              ha89aaad_16    conda-forge\n",
      "libtool                   2.4.6             h9c3ff4c_1008    conda-forge\n",
      "libudev1                  249                  h166bdaf_4    conda-forge\n",
      "libuuid                   2.32.1            h7f98852_1000    conda-forge\n",
      "libuv                     1.44.2               h166bdaf_0    conda-forge\n",
      "libvorbis                 1.3.7                h9c3ff4c_0    conda-forge\n",
      "libxcb                    1.13              h7f98852_1004    conda-forge\n",
      "libxkbcommon              1.0.3                he3ba5ed_0    conda-forge\n",
      "libxml2                   2.9.14               h22db469_4    conda-forge\n",
      "libxslt                   1.1.35               h8affb1d_0    conda-forge\n",
      "libzlib                   1.2.12               h166bdaf_1    conda-forge\n",
      "lxml                      4.9.1            py39hb9d737c_0    conda-forge\n",
      "lz4-c                     1.9.3                h9c3ff4c_1    conda-forge\n",
      "markupsafe                2.1.1            py39hb9d737c_1    conda-forge\n",
      "matplotlib-inline         0.1.3              pyhd8ed1ab_0    conda-forge\n",
      "mistune                   0.8.4           py39h3811e60_1005    conda-forge\n",
      "mysql-common              8.0.30               haf5c9bc_0    conda-forge\n",
      "mysql-libs                8.0.30               h28c427c_0    conda-forge\n",
      "nbclient                  0.6.6              pyhd8ed1ab_0    conda-forge\n",
      "nbconvert                 6.5.3              pyhd8ed1ab_0    conda-forge\n",
      "nbconvert-core            6.5.3              pyhd8ed1ab_0    conda-forge\n",
      "nbconvert-pandoc          6.5.3              pyhd8ed1ab_0    conda-forge\n",
      "nbformat                  5.4.0              pyhd8ed1ab_0    conda-forge\n",
      "ncurses                   6.3                  h27087fc_1    conda-forge\n",
      "nest-asyncio              1.5.5              pyhd8ed1ab_0    conda-forge\n",
      "nodejs                    18.7.0               h96d913c_0    conda-forge\n",
      "notebook                  6.4.12             pyha770c72_0    conda-forge\n",
      "nspr                      4.32                 h9c3ff4c_1    conda-forge\n",
      "nss                       3.78                 h2350873_0    conda-forge\n",
      "openssl                   1.1.1q               h166bdaf_0    conda-forge\n",
      "packaging                 21.3               pyhd8ed1ab_0    conda-forge\n",
      "pandoc                    2.19                 ha770c72_0    conda-forge\n",
      "pandocfilters             1.5.0              pyhd8ed1ab_0    conda-forge\n",
      "parso                     0.8.3              pyhd8ed1ab_0    conda-forge\n",
      "pcre                      8.45                 h9c3ff4c_0    conda-forge\n",
      "pexpect                   4.8.0              pyh9f0ad1d_2    conda-forge\n",
      "pickleshare               0.7.5                   py_1003    conda-forge\n",
      "pip                       22.1.2             pyhd8ed1ab_0    conda-forge\n",
      "pkgutil-resolve-name      1.3.10             pyhd8ed1ab_0    conda-forge\n",
      "ply                       3.11                       py_1    conda-forge\n",
      "portaudio                 19.6.0               h57a0ea0_5    conda-forge\n",
      "prometheus_client         0.14.1             pyhd8ed1ab_0    conda-forge\n",
      "prompt-toolkit            3.0.30             pyha770c72_0    conda-forge\n",
      "prompt_toolkit            3.0.30               hd8ed1ab_0    conda-forge\n",
      "psutil                    5.9.1            py39hb9d737c_0    conda-forge\n",
      "pthread-stubs             0.4               h36c2ea0_1001    conda-forge\n",
      "ptyprocess                0.7.0              pyhd3deb0d_0    conda-forge\n",
      "pulseaudio                14.0                 h7f54b18_8    conda-forge\n",
      "pure_eval                 0.2.2              pyhd8ed1ab_0    conda-forge\n",
      "pycosat                   0.6.3           py39hb9d737c_1010    conda-forge\n",
      "pycparser                 2.21               pyhd8ed1ab_0    conda-forge\n",
      "pygments                  2.12.0             pyhd8ed1ab_0    conda-forge\n",
      "pyopenssl                 22.0.0             pyhd8ed1ab_0    conda-forge\n",
      "pyparsing                 3.0.9              pyhd8ed1ab_0    conda-forge\n",
      "pyqt                      5.15.7           py39h18e9c17_0    conda-forge\n",
      "pyqt5-sip                 12.11.0          py39h5a03fae_0    conda-forge\n",
      "pyrsistent                0.18.1           py39hb9d737c_1    conda-forge\n",
      "pysocks                   1.7.1            py39hf3d152e_5    conda-forge\n",
      "python                    3.9.13          h9a8a25e_0_cpython    conda-forge\n",
      "python-dateutil           2.8.2              pyhd8ed1ab_0    conda-forge\n",
      "python-fastjsonschema     2.16.1             pyhd8ed1ab_0    conda-forge\n",
      "python_abi                3.9                      2_cp39    conda-forge\n",
      "pyzmq                     23.2.1           py39headdf64_0    conda-forge\n",
      "qt-main                   5.15.4               ha5833f6_2    conda-forge\n",
      "qtconsole                 5.3.1              pyhd8ed1ab_0    conda-forge\n",
      "qtconsole-base            5.3.1              pyha770c72_0    conda-forge\n",
      "qtpy                      2.2.0              pyhd8ed1ab_0    conda-forge\n",
      "readline                  8.1.2                h0f457ee_0    conda-forge\n",
      "requests                  2.28.1             pyhd8ed1ab_0    conda-forge\n",
      "ruamel_yaml               0.15.80         py39hb9d737c_1007    conda-forge\n",
      "send2trash                1.8.0              pyhd8ed1ab_0    conda-forge\n",
      "setuptools                63.1.0           py39hf3d152e_0    conda-forge\n",
      "sip                       6.6.2            py39h5a03fae_0    conda-forge\n",
      "six                       1.16.0             pyh6c4a22f_0    conda-forge\n",
      "soupsieve                 2.3.2.post1        pyhd8ed1ab_0    conda-forge\n",
      "sqlite                    3.39.0               h4ff8645_0    conda-forge\n",
      "stack_data                0.4.0              pyhd8ed1ab_0    conda-forge\n",
      "terminado                 0.15.0           py39hf3d152e_0    conda-forge\n",
      "tinycss2                  1.1.1              pyhd8ed1ab_0    conda-forge\n",
      "tk                        8.6.12               h27826a3_0    conda-forge\n",
      "toml                      0.10.2             pyhd8ed1ab_0    conda-forge\n",
      "toolz                     0.12.0             pyhd8ed1ab_0    conda-forge\n",
      "tornado                   6.2              py39hb9d737c_0    conda-forge\n",
      "tqdm                      4.64.0             pyhd8ed1ab_0    conda-forge\n",
      "traitlets                 5.3.0              pyhd8ed1ab_0    conda-forge\n",
      "tzdata                    2022a                h191b570_0    conda-forge\n",
      "urllib3                   1.26.10            pyhd8ed1ab_0    conda-forge\n",
      "wcwidth                   0.2.5              pyh9f0ad1d_2    conda-forge\n",
      "webencodings              0.5.1                      py_1    conda-forge\n",
      "wheel                     0.37.1             pyhd8ed1ab_0    conda-forge\n",
      "widgetsnbextension        3.6.1              pyha770c72_0    conda-forge\n",
      "xcb-util                  0.4.0                h166bdaf_0    conda-forge\n",
      "xcb-util-image            0.4.0                h166bdaf_0    conda-forge\n",
      "xcb-util-keysyms          0.4.0                h166bdaf_0    conda-forge\n",
      "xcb-util-renderutil       0.3.9                h166bdaf_0    conda-forge\n",
      "xcb-util-wm               0.4.1                h166bdaf_0    conda-forge\n",
      "xorg-libxau               1.0.9                h7f98852_0    conda-forge\n",
      "xorg-libxdmcp             1.1.3                h7f98852_0    conda-forge\n",
      "xz                        5.2.5                h516909a_1    conda-forge\n",
      "yaml                      0.2.5                h7f98852_2    conda-forge\n",
      "zeromq                    4.3.4                h9c3ff4c_1    conda-forge\n",
      "zipp                      3.8.1              pyhd8ed1ab_0    conda-forge\n",
      "zlib                      1.2.12               h166bdaf_1    conda-forge\n",
      "zstd                      1.5.2                h8a70e8d_4    conda-forge\n"
     ]
    }
   ],
   "source": [
    "conda list"
   ]
  },
  {
   "cell_type": "code",
   "execution_count": null,
   "metadata": {
    "vscode": {
     "languageId": "shellscript"
    }
   },
   "outputs": [],
   "source": [
    "title=\"jupyter\"\n",
    "check conda list | grep list"
   ]
  },
  {
   "cell_type": "code",
   "execution_count": 3,
   "metadata": {
    "vscode": {
     "languageId": "shellscript"
    }
   },
   "outputs": [
    {
     "name": "stdout",
     "output_type": "stream",
     "text": [
      "usage: jupyter [-h] [--version] [--config-dir] [--data-dir] [--runtime-dir]\n",
      "               [--paths] [--json] [--debug]\n",
      "               [subcommand]\n",
      "\n",
      "Jupyter: Interactive Computing\n",
      "\n",
      "positional arguments:\n",
      "  subcommand     the subcommand to launch\n",
      "\n",
      "optional arguments:\n",
      "  -h, --help     show this help message and exit\n",
      "  --version      show the versions of core jupyter packages and exit\n",
      "  --config-dir   show Jupyter config dir\n",
      "  --data-dir     show Jupyter data dir\n",
      "  --runtime-dir  show Jupyter runtime dir\n",
      "  --paths        show all Jupyter paths. Add --json for machine-readable\n",
      "                 format.\n",
      "  --json         output paths as machine-readable json\n",
      "  --debug        output debug information about paths\n",
      "\n",
      "Available subcommands: bundlerextension console dejavu execute kernel\n",
      "kernelspec migrate nbconvert nbextension notebook qtconsole run\n",
      "serverextension troubleshoot trust\n",
      "\n",
      "Jupyter command `jupyter-version` not found.\n",
      "[KernelApp] Starting kernel 'python3'\n",
      "[KernelApp] Connection file: /home/vidhi/.local/share/jupyter/runtime/kernel-44a1a079-e2ad-4e56-850f-721760a2fe30.json\n",
      "[KernelApp] To connect a client: --existing kernel-44a1a079-e2ad-4e56-850f-721760a2fe30.json\n",
      "[KernelApp] Shutting down on signal 2\n"
     ]
    }
   ],
   "source": [
    "jupyter -- version\n",
    "jupyter kernel list "
   ]
  }
 ],
 "metadata": {
  "kernelspec": {
   "display_name": "Bash",
   "language": "bash",
   "name": "bash"
  },
  "language_info": {
   "codemirror_mode": "shell",
   "file_extension": ".sh",
   "mimetype": "text/x-sh",
   "name": "bash"
  },
  "orig_nbformat": 4,
  "vscode": {
   "interpreter": {
    "hash": "916dbcbb3f70747c44a77c7bcd40155683ae19c65e1c03b4aa3499c5328201f1"
   }
  }
 },
 "nbformat": 4,
 "nbformat_minor": 2
}
